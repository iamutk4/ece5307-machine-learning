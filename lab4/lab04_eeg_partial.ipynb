{
 "cells": [
  {
   "cell_type": "markdown",
   "metadata": {},
   "source": [
    "# Lab:  Source Localization for EEG\n",
    "\n",
    "EEG or [Electroencephalography](https://en.wikipedia.org/wiki/Electroencephalography) is a powerful tool for neuroscientists in understanding brain activity.  In EEG, a patient wears a headset with electrodes that measures voltages at a number of points on the scalp.  These voltages arise from ionic currents within the brain.  A common *inverse problem* is to estimate the which parts of the brain caused the measured response.  Source localization is useful in understanding which parts of the brain are involved in certain tasks.  A key challenge in this inverse problem is that the number of unknowns (possible locations in the brain) is much larger than the number of measurements.  In this lab, we will use LASSO regression on a real EEG dataset to overcome this problem and determine the brain region that is active under an auditory stimulus.\n",
    "\n",
    "In addition to learning the concepts in the demo for this unit, you will learn to:\n",
    "* Represent responses of multi-channel time-series data, such as EEG, using linear models\n",
    "* Perform LASSO and Ridge regression\n",
    "* Select the regularization level via cross-validation\n",
    "* Visually compare the sparsity between the solutions\n",
    "\n",
    "We first download some standard packages."
   ]
  },
  {
   "cell_type": "code",
   "execution_count": 2,
   "metadata": {},
   "outputs": [],
   "source": [
    "import numpy as np\n",
    "import matplotlib.pyplot as plt\n",
    "\n",
    "from sklearn.linear_model import Lasso, Ridge, LinearRegression\n",
    "from sklearn.metrics import r2_score\n",
    "\n",
    "from sklearn.preprocessing import StandardScaler\n",
    "\n",
    "from sklearn.model_selection import cross_val_score, GridSearchCV, KFold"
   ]
  },
  {
   "cell_type": "markdown",
   "metadata": {},
   "source": [
    "## Load the Data\n",
    "\n",
    "The data in this lab is taken from one of the sample datasets in the [MNE website](https://martinos.org/mne/stable/index.html). The sample data is a recording from one subject who experienced some auditory stimulus on the left ear.    \n",
    "\n",
    "The raw data is very large (`1.5G`) and also requires that you install the `mne` python package. To make this lab easier, I have extracted and processed a small section of the data.  The following commands will get the data from a `pickle` file `eeg_dat.p` stored remotely."
   ]
  },
  {
   "cell_type": "code",
   "execution_count": 3,
   "metadata": {},
   "outputs": [],
   "source": [
    "import cloudpickle\n",
    "from urllib.request import urlopen\n",
    "with urlopen(\"http://www.ece.ohio-state.edu/~schniter/nonpublic/eeg_dat.p\") as fp:\n",
    "    [Xtr,Ytr] = cloudpickle.load(fp)"
   ]
  },
  {
   "cell_type": "markdown",
   "metadata": {},
   "source": [
    "To understand the data, there are three key variables:\n",
    "* `nt`    = number of time steps that we measure data\n",
    "* `nchan` = number of channels (i.e. electrodes) measured in each time step\n",
    "* `ncur`  = number of currents in the brain that we want to estimate.  \n",
    "\n",
    "Current is measured at each brain region (called a *voxel*) in three separate directions: `x`, `y`, and `z`.  So,\n",
    "\n",
    "    nvoxels = ncur / 3\n",
    "    \n",
    "The components of the `X` and `Y` matrices are:\n",
    "*  `Y[i,k]` = electric field measurement on channel `i` at time `k`\n",
    "*  `X[i,j]` = sensitivity of channel `i` to current `j`.\n",
    "\n",
    "Using `X.shape` and `Y.shape` compute and print `nt`, `nchan`, `ncur` and `nvoxels`."
   ]
  },
  {
   "cell_type": "code",
   "execution_count": 4,
   "metadata": {},
   "outputs": [
    {
     "name": "stdout",
     "output_type": "stream",
     "text": [
      "Number of time steps that we measure data   = 85\n",
      "Number of channels measured in each time step = 305\n",
      "Number of currents in the brain = 22494\n",
      "Number of current in each voxel = 7498\n"
     ]
    }
   ],
   "source": [
    "# TODO\n",
    "# nt = ...\n",
    "# ncur = ...\n",
    "# nchan = ...\n",
    "# nvoxels = ...\n",
    "\n",
    "nchan,ncur = Xtr.shape\n",
    "nchan,nt = Ytr.shape\n",
    "nvoxels = ncur // 3\n",
    "\n",
    "print('Number of time steps that we measure data   = %d' % nt)\n",
    "print('Number of channels measured in each time step = %d' % nchan)\n",
    "print('Number of currents in the brain = %d' % ncur)\n",
    "print('Number of current in each voxel = %d' % nvoxels)\n"
   ]
  },
  {
   "cell_type": "markdown",
   "metadata": {},
   "source": [
    "## The need for Regularization\n",
    "\n",
    "Our goal is to estimate the currents `W` in the brain from the measurements `Y`.  We will use the linear model\n",
    "\n",
    "    Y[i,k]  = \\sum_j X[i,j]*W[j,k]+ b[k]\n",
    "\n",
    "where `W[j,k]` is the value of current `j` at time `k` and where `b[k]` is a bias.  We can solve for the current matrix `W` via linear regression.  \n",
    "\n",
    "Note that this model differs slightly from the linear regression model that we considered in most of the lectures, in the following sense. At sample index `i`, the target is a *vector* `Y[i,:]` (not a scalar `y[i]`). Thus, the regresson coefficients `W[j,:]` must also be *vectors* (rather than a scalars `w[j]`) and the bias `b[:]` must also be a *vector* (rather than a scalar `b`).  In other words, if we considered only a *single* value of `k` in the above model, then we would get a scalar-target model that takes the form `y[i] = \\sum_j X[i,j]*w[j] + b`.  But in this lab, we have several values of `k`.\n",
    "\n",
    "However, there is a major problem:\n",
    "*  There are `nt` times `ncur` unknowns in `W`\n",
    "*  There are `nt` time `nchan` measurements in `Y`\n",
    "*  `ncur` is much larger than `nchan`\n",
    "\n",
    "In other words, we have\n",
    "\n",
    "    number of unknowns >> number of measurements\n",
    "    \n",
    "In this case, the least-squares solution is not unique (and the matrix we'd like to invert when computing the least-squares solution is not invertible).  We can remedy this problem using regularization.  We first try Ridge regression, and later LASSO."
   ]
  },
  {
   "cell_type": "markdown",
   "metadata": {},
   "source": [
    "## Ridge Regression\n",
    "\n",
    "First, standardize the features using the `StandardScaler` object from `sklearn`."
   ]
  },
  {
   "cell_type": "code",
   "execution_count": 5,
   "metadata": {},
   "outputs": [],
   "source": [
    "#TODO\n",
    "# Xtr =\n",
    "scaler = StandardScaler()\n",
    "Xtr = scaler.fit_transform(Xtr)"
   ]
  },
  {
   "cell_type": "markdown",
   "metadata": {},
   "source": [
    "Next, train a Ridge regression model using a regularization weight of `alpha=1` using the `Ridge` object from `sklearn`.\n",
    "Then compute the `R^2` value on the training data using the `r2_score` function and print it out.\n",
    "It should be relatively large."
   ]
  },
  {
   "cell_type": "code",
   "execution_count": 6,
   "metadata": {},
   "outputs": [
    {
     "name": "stdout",
     "output_type": "stream",
     "text": [
      "R^2 training =  0.9366\n"
     ]
    }
   ],
   "source": [
    "# TODO\n",
    "# rsq_tr = \n",
    "regr = Ridge(alpha=1)\n",
    "regr.fit(Xtr,Ytr)\n",
    "Yhat = regr.predict(Xtr)\n",
    "rsq_tr = r2_score(Ytr, Yhat)\n",
    "print('R^2 training = %7.4f' % rsq_tr)\n"
   ]
  },
  {
   "cell_type": "markdown",
   "metadata": {},
   "source": [
    "Now use `cross_val_score` to compute the `R^2` value using shuffled 5-fold cross-validation.  Use a fixed random seed for consistency across experiments.\n",
    "You should see that the cross-validated `R^2` value is very low.\n",
    "Remember that cross-validation aims to estimate the performance of a model on unseen test data.\n",
    "The fact that the training `R^2` is high and the test `R^2` is low means that this model is over-fitting."
   ]
  },
  {
   "cell_type": "code",
   "execution_count": 7,
   "metadata": {},
   "outputs": [
    {
     "name": "stdout",
     "output_type": "stream",
     "text": [
      "Cross-Validation R2 =  -1.91768414165402\n"
     ]
    }
   ],
   "source": [
    "#TODO \n",
    "\n",
    "from sklearn import linear_model\n",
    "kf = KFold(n_splits=5,shuffle=True,random_state=0)\n",
    "\n",
    "rsq_cv = cross_val_score(regr, Xtr, Ytr, scoring = 'r2',cv=kf)\n",
    "rsq_cv = np.mean(rsq_cv)\n",
    "print(\"Cross-Validation R2 = \" , rsq_cv)"
   ]
  },
  {
   "cell_type": "markdown",
   "metadata": {},
   "source": [
    "Next, try to see if you can get a better `R^2` score using a different value of `alpha`.  \n",
    "In particular, use 2-fold cross-validation to find the largest `R^2` for 20 `alpha` values logarithmically spaced from `10^3` to `10^6` (use `np.logspace()`), as well as the maximizing value of `alpha`. \n",
    "Use `GridSearchCV` for this task with the appropriate scoring choice."
   ]
  },
  {
   "cell_type": "code",
   "execution_count": 8,
   "metadata": {},
   "outputs": [
    {
     "name": "stdout",
     "output_type": "stream",
     "text": [
      "0.265703089447204\n",
      "8858.667904100823\n"
     ]
    }
   ],
   "source": [
    "# TODO\n",
    "\n",
    "ridge = linear_model.Ridge(fit_intercept=False)\n",
    "alphas_ridge = np.logspace(3,6,20)\n",
    "\n",
    "parameters = {'alpha':alphas_ridge}\n",
    "gscv = GridSearchCV(ridge, parameters, cv=kf, scoring='r2')\n",
    "gscv.fit(Xtr,Ytr)\n",
    "rsq_cv = gscv.cv_results_['mean_test_score']\n",
    "imax = np.argmax(rsq_cv)\n",
    "alpha_max = alphas_ridge[imax]\n",
    "rsq_cv_ridge = rsq_cv[imax]\n",
    "print(rsq_cv_ridge)\n",
    "print(alpha_max)"
   ]
  },
  {
   "cell_type": "markdown",
   "metadata": {},
   "source": [
    "Plot the cross-validation `R^2` vs. `alpha` and mark the maximum `R^2` and maximizing `alpha`.  You should see that the maximum `R^2` is much better than with `alpha=1`."
   ]
  },
  {
   "cell_type": "code",
   "execution_count": 9,
   "metadata": {},
   "outputs": [
    {
     "data": {
      "image/png": "[encoded data removed]",
      "text/plain": [
       "<Figure size 432x288 with 1 Axes>"
      ]
     },
     "metadata": {
      "needs_background": "light"
     },
     "output_type": "display_data"
    }
   ],
   "source": [
    "# TODO\n",
    "plt.semilogx(alphas_ridge, rsq_cv, label='Mean(Rsq)')\n",
    "plt.semilogx(alpha_max, rsq_cv_ridge, 'r^', label='Max(Rsq)')\n",
    "plt.legend(loc='upper right')\n",
    "plt.xlabel('Alpha')\n",
    "plt.ylabel('CV Rsq')\n",
    "plt.grid()\n",
    "plt.show()"
   ]
  },
  {
   "cell_type": "markdown",
   "metadata": {},
   "source": [
    "Now, let's take a closer look at the solution. \n",
    "* Extract the matrix `W` of optimally tuned ridge coefficients from the output of GridSearchCV.  These are stored in `best_estimator_.coef_` in transposed form, so apply a transpose to get `W` as we defined it above.\n",
    "* For each current `j` compute `Wrms[j] =  sqrt( sum_k W[j,k]**2 )`, which is the root-mean-squared value across time.\n",
    "* Finally, plot the `Wrms` vector.\n",
    "\n",
    "You will see that the RMS current vector `Wrms` is not sparse.  This means that the solution found by Ridge regression allows non-zero currents in all locations."
   ]
  },
  {
   "cell_type": "code",
   "execution_count": 11,
   "metadata": {},
   "outputs": [
    {
     "data": {
      "text/plain": [
       "[<matplotlib.lines.Line2D at 0x7fa5936c3af0>]"
      ]
     },
     "execution_count": 11,
     "metadata": {},
     "output_type": "execute_result"
    },
    {
     "data": {
      "image/png": "[encoded data removed]",
      "text/plain": [
       "<Figure size 432x288 with 1 Axes>"
      ]
     },
     "metadata": {
      "needs_background": "light"
     },
     "output_type": "display_data"
    }
   ],
   "source": [
    "# TODO\n",
    "#\n",
    "#W_ridge = ...\n",
    "#W_ridge_rms = ...\n",
    "W_ridge = np.transpose(gscv.best_estimator_.coef_)\n",
    "W_ridge_rms=np.sqrt(np.sum((W_ridge)**2,axis=1))\n",
    "plt.plot(W_ridge_rms)\n",
    "\n"
   ]
  },
  {
   "cell_type": "markdown",
   "metadata": {},
   "source": [
    "## LASSO Regression\n",
    "\n",
    "We can improve the estimate by setting a large fraction of the coefficients to zero.  Biologically, we expect that only a limited number of brain regions should be involved in the response to a particular stimuli.  As a result, we expect that the current matrix `W[j,k]` should be zero-valued for most locations `j` at each time `k`.  We can find such a solution using LASSO with an appropriate regularization strength `alpha`.\n",
    "\n",
    "First, fit a LASSO model to the training data with `alpha=1e-2`.  In sklearn's `Lasso`, set `max_iter=100`, `tol=0.01`, and `warm_start=True` to speed things up.  The LASSO solver is much slower than the Ridge solver, so this may take a minute."
   ]
  },
  {
   "cell_type": "code",
   "execution_count": 12,
   "metadata": {},
   "outputs": [
    {
     "data": {
      "text/plain": [
       "Lasso(alpha=0.01, max_iter=100, tol=0.01, warm_start=True)"
      ]
     },
     "execution_count": 12,
     "metadata": {},
     "output_type": "execute_result"
    }
   ],
   "source": [
    "# TODO\n",
    "regr = Lasso(alpha = 1e-2, max_iter=100, tol=0.01, warm_start=True)\n",
    "regr.fit(Xtr,Ytr)"
   ]
  },
  {
   "cell_type": "markdown",
   "metadata": {},
   "source": [
    "Next, estimate the `R^2` value using the same 5-fold cross-validation object you created earlier using `cross_val_score`.  Be patient as this may take a few minutes.  You should get a better `R^2` than you did with Ridge regression.  "
   ]
  },
  {
   "cell_type": "code",
   "execution_count": 13,
   "metadata": {},
   "outputs": [
    {
     "name": "stdout",
     "output_type": "stream",
     "text": [
      "[0.24606967 0.43590823 0.38021013 0.41329823 0.35038139]\n",
      "Cross-Validation R2 =  0.3651735309862344\n"
     ]
    }
   ],
   "source": [
    "# TODO\n",
    "#rsq_cv = \n",
    "rsq_cv = cross_val_score(regr, Xtr, Ytr, scoring = 'r2',cv=kf)\n",
    "print(rsq_cv)\n",
    "rsq_cv = np.mean(rsq_cv)\n",
    "print(\"Cross-Validation R2 = \" , rsq_cv)"
   ]
  },
  {
   "cell_type": "markdown",
   "metadata": {},
   "source": [
    "Still, the value `alpha=1e-2` was only a guess.  We should do even better with a properly tuned `alpha`. "
   ]
  },
  {
   "cell_type": "markdown",
   "metadata": {},
   "source": [
    "##  LASSO Feature Selection + LS Linear Regression\n",
    "\n",
    "We know that LASSO does two things: it sets a subset of coefficients to zero and it shrinks \n",
    "the remaining coefficients towards zero. \n",
    "Since this coefficient shrinkage is often problematic, it is typical to use LASSO only for feature selection.\n",
    "Once features are selected by LASSO, another regression method is applied to those features, such as LS-based linear regression.\n",
    "We'll call this method \"LASSO+LS\".\n",
    "It is also known as \"debiased LASSO\".\n",
    "\n",
    "Your next task is use a grid search to tune `alpha` for LASSO+LS. \n",
    "For consistency, use the same shuffled 5-fold cross-validation object `kf` that you created earlier.\n",
    "Make a log-spaced grid with 5 values. \n",
    "(It's up to you to choose the values.)\n",
    "Then make a `for` loop over the grid values, doing the following for each `alpha`:\n",
    "* Fit a LASSO model to the entire training data and identify the feature subset where the LASSO coefficients are non-zero.\n",
    "* Print out `alpha` and the number of selected features\n",
    "* Using those features, fit a least-squares model and evaluate the R^2 value using `cross_val_score`.\n",
    "When you have done this for all grid points, plot the CV-estimated R^2 versus `alpha` and mark the maximum R^2 and maximizing value of `alpha`. \n",
    "\n",
    "Do the above several times for different choices of `alpha` grid until you find a grid where R^2 peaks in the middle and with fine enough grid resolution to identify a good R^2 value.\n",
    "If you see lasso selecting zero features for some `alpha`, you know that value of `alpha` is too high."
   ]
  },
  {
   "cell_type": "code",
   "execution_count": 16,
   "metadata": {},
   "outputs": [
    {
     "name": "stdout",
     "output_type": "stream",
     "text": [
      "alpha= 0.01 number of features= 1247 Rsquare= -5.927574109064643\n",
      "alpha= 0.01778279410038923 number of features= 839 Rsquare= -7.120458586500663\n",
      "alpha= 0.03162277660168379 number of features= 374 Rsquare= -17.45949743947068\n",
      "alpha= 0.05623413251903491 number of features= 111 Rsquare= -0.010699442670432255\n",
      "alpha= 0.1 number of features= 42 Rsquare= 0.3640475897059949\n"
     ]
    },
    {
     "data": {
      "image/png": "[encoded data removed]",
      "text/plain": [
       "<Figure size 432x288 with 1 Axes>"
      ]
     },
     "metadata": {
      "needs_background": "light"
     },
     "output_type": "display_data"
    }
   ],
   "source": [
    "# To extract the feature subset...\n",
    "#   nonzero = np.any(np.abs(lasso.coef_)>1e-5,axis=0)\n",
    "#   subset = np.where(nonzero)[0] # array of feature indices\n",
    "#\n",
    "# TODO:\n",
    "#\n",
    "# alphas_lasso = ...\n",
    "# for i,a in enumerate(alphas_lasso):\n",
    "#    ...\n",
    "#    rsq_cv[i] = ...\n",
    "#\n",
    "# plt.plot(...)\n",
    "\n",
    "# lasso = Lasso(fit_intercept = False, max_iter=1000, tol=0.1, warm_start=True)\n",
    "# alphas_lasso = np.logspace(-5,4,5)\n",
    "# for i,a in enumerate(alphas_lasso):\n",
    "#     lasso.set_params(alpha = a)\n",
    "#     lasso.fit(Xtr,Ytr)\n",
    "#     nonzero = np.any(np.abs(lasso.coef_)>1e-5,axis=0)\n",
    "#     subset = np.where(nonzero)[0] # array of feature indices\n",
    "#     print(a,len(subset))\n",
    "#     rsq_cv = cross_val_score(lasso, Xtr, Ytr, cv=kf, scoring='r2')\n",
    "#     rsq_cv[i] = np.mean(rsq_cv)\n",
    "# imax = np.argmax(rsq_cv)\n",
    "# alpha_max = alphas_lasso[imax]\n",
    "# rsq_cv_lasso_ls2 = rsq_cv[imax]\n",
    "\n",
    "# # Plot the mean MSE, the minimum MSE, and the mean MSE + 1 std dev\n",
    "# plt.semilogx(alphas_lasso, rsq_cv, label='Mean(R2)')\n",
    "# plt.semilogx(alpha_max, rsq_cv_lasso_ls2, 'r^', label='max(R2)')\n",
    "# plt.legend(loc='upper left')\n",
    "# plt.xlabel('alpha')\n",
    "# plt.ylabel('CV MSE')\n",
    "# plt.grid()\n",
    "# plt.show()\n",
    "\n",
    "alphas_lasso = np.logspace(-2,-1,5)\n",
    "\n",
    "lasso=Lasso(max_iter=10000,tol=0.01,warm_start=True)\n",
    "\n",
    "from sklearn.pipeline import Pipeline\n",
    "from sklearn.feature_selection import SelectFromModel\n",
    "\n",
    "# build pipeline for LASSO+FeatureSelect+LS\n",
    "linear = LinearRegression(fit_intercept=False)\n",
    "\n",
    "rsq_cv=np.zeros(len(alphas_lasso))\n",
    "for i,a in enumerate(alphas_lasso):\n",
    "    # fit LASSO\n",
    "    lasso.set_params(alpha =a)\n",
    "    lasso.fit(Xtr,Ytr)\n",
    "    # select features\n",
    "    nonzero = np.any(np.abs(lasso.coef_)>1e-5,axis=0)\n",
    "    subset = np.where(nonzero)[0] # array of feature indices\n",
    "    # fit LS and evaluate performance using CV\n",
    "    rsqlasso = cross_val_score(linear,Xtr[:, subset], Ytr,cv=kf, scoring='r2')\n",
    "    rsq_cv[i] = np.mean(rsqlasso)\n",
    "    print('alpha=',a,'number of features=',len(subset), 'Rsquare=',rsq_cv[i])\n",
    "    \n",
    "imax=np.argmax(rsq_cv)\n",
    "max_alpha=alphas_lasso[imax]\n",
    "rsq_cv_lasso=rsq_cv[imax]\n",
    "plt.semilogx(alphas_lasso,rsq_cv,label='Rsq')\n",
    "plt.semilogx(alphas_lasso[imax],np.max(rsq_cv),'r^',label='Min Rsq')\n",
    "plt.legend(loc='upper right')\n",
    "plt.xlabel('Alpha Values')\n",
    "plt.ylabel('R_Square Lasso +LS')\n",
    "plt.legend(loc='lower right')\n",
    "plt.grid()"
   ]
  },
  {
   "cell_type": "markdown",
   "metadata": {},
   "source": [
    "You should see that LASSO+LS with a tuned `alpha` performs similarly to the untuned LASSO from earlier.\n",
    "\n",
    "One reason that tuned LASSO+LS is not much better than untuned LASSO is that LASSO's coefficient shrinkage may actually be helping with this dataset.  Remember that Ridge regression is another method that shrinks coefficients, and it is known to help with correlated features.  The features in this dataset are definitely correlated, so perhaps we should try performing Ridge regression on LASSO-selected features.\n",
    "\n",
    "Before we do that, though, let's plot the RMS values of the biased LASSO coefficients (at the optimal `alpha`), similarly to how you plotted the Ridge coefficients earlier. \n",
    "To do this, you'll first need to re-fit LASSO and LASSO+LS.\n",
    "\n",
    "In addition, let's also plot the RMS values of the LASSO+LS coefficients for comparison.\n",
    "Note that the LS estimator returns only the values of the few nonzero weights selected by LASSO. \n",
    "So, to plot the LASSO+LS coefficients, you'll need to first make an all-zeros array and then insert the LS weights in the locations of the selected features."
   ]
  },
  {
   "cell_type": "code",
   "execution_count": 19,
   "metadata": {},
   "outputs": [
    {
     "data": {
      "text/plain": [
       "[<matplotlib.lines.Line2D at 0x7fa5a035daf0>]"
      ]
     },
     "execution_count": 19,
     "metadata": {},
     "output_type": "execute_result"
    },
    {
     "data": {
      "image/png": "[encoded data removed]",
      "text/plain": [
       "<Figure size 432x288 with 1 Axes>"
      ]
     },
     "metadata": {
      "needs_background": "light"
     },
     "output_type": "display_data"
    }
   ],
   "source": [
    "# TODO\n",
    "#\n",
    "#W_lasso = ...\n",
    "#W_lasso_rms = ...\n",
    "#W_lassols = ...\n",
    "#W_lassols_rms = ...\n",
    "\n",
    "imax=np.argmax(rsq_cv)\n",
    "max_alpha=alphas_lasso[imax]\n",
    "lasso1=Lasso(alpha=max_alpha,max_iter=1000,tol=0.01,warm_start=True)\n",
    "lasso1.fit(Xtr,Ytr)\n",
    "W_lasso=np.transpose(lasso1.coef_)\n",
    "W_lasso_rms=np.sqrt(np.sum(W_lasso**2,axis=1))\n",
    "plt.plot(W_lasso_rms)\n"
   ]
  },
  {
   "cell_type": "code",
   "execution_count": 21,
   "metadata": {},
   "outputs": [
    {
     "data": {
      "text/plain": [
       "14.634257383435488"
      ]
     },
     "execution_count": 21,
     "metadata": {},
     "output_type": "execute_result"
    },
    {
     "data": {
      "image/png": "[encoded data removed]",
      "text/plain": [
       "<Figure size 432x288 with 1 Axes>"
      ]
     },
     "metadata": {
      "needs_background": "light"
     },
     "output_type": "display_data"
    }
   ],
   "source": [
    "nonzero = np.any(np.abs(lasso1.coef_)>1e-5,axis=0)\n",
    "subset = np.where(nonzero)[0] # array of feature indices\n",
    "linreg=LinearRegression(fit_intercept=False)\n",
    "linreg.fit(Xtr[:, subset], Ytr)\n",
    "Wlsrms=linreg.coef_\n",
    "Wlsrms=np.sqrt(np.sum(Wlsrms**2,axis=1))\n",
    "plt.plot(Wlsrms)\n",
    "np.max(Wlsrms)"
   ]
  },
  {
   "cell_type": "markdown",
   "metadata": {},
   "source": [
    "The LASSO and LASSO+LS weights should be very sparse.\n",
    "The LASSO weights should be shrunk compared to the LASSO+LS weights but have the same support (i.e., the same subset of nonzero indices)"
   ]
  },
  {
   "cell_type": "markdown",
   "metadata": {},
   "source": [
    "##  LASSO Feature Selection + tuned Ridge Regression\n",
    "\n",
    "We will now try to improve upon the previous methods by using LASSO+Ridge instead of LASSO+LS.  At each fixed value of `alpha_lasso` that we try, we will do a grid-search-CV optimization of `alpha_ridge`.\n",
    "\n",
    "Modify your previous code so that `cross_val_score(linreg...` is replaced by `gscv.fit(...`, where `gscv = GridSearchCV(ridge...`.  In other words, for each value of `alphas_lasso`, do a grid-search over an `alphas_ridge` grid using `GridSearchCV`, and then extract the results using `gscv.best_score_` and `gscv.best_parameters_['alpha']`.\n",
    "For `alphas_ridge`, I suggest to start with `logspace(0,4,5)`. \n",
    "\n",
    "Plot the resulting R^2 versus `alphas_lasso`.  Iterate on your choice of `alphas_lasso` until R^2 peaks in the middle of your `alphas_lasso` grid and there is enough resolution to identify a good value.\n",
    "\n",
    "Once you have found a good choice for `alphas_lasso`, plot R^2 versus `alphas_ridge` to see if `alphas_ridge` needs adjusting, and adjust it as needed."
   ]
  },
  {
   "cell_type": "code",
   "execution_count": 22,
   "metadata": {},
   "outputs": [
    {
     "name": "stdout",
     "output_type": "stream",
     "text": [
      "Alpha =  0.0001 and Features is 22473\n",
      "Alpha =  0.0005623413251903491 and Features is 21014\n",
      "Alpha =  0.0031622776601683794 and Features is 10348\n",
      "Alpha =  0.01778279410038923 and Features is 1390\n",
      "Alpha =  0.1 and Features is 71\n"
     ]
    },
    {
     "data": {
      "image/png": "[encoded data removed]",
      "text/plain": [
       "<Figure size 432x288 with 1 Axes>"
      ]
     },
     "metadata": {
      "needs_background": "light"
     },
     "output_type": "display_data"
    }
   ],
   "source": [
    "# TODO\n",
    "ridge=Ridge()\n",
    "rsq=[]\n",
    "score=[]\n",
    "alpha=[]\n",
    "# TODO:\n",
    "lasso = Lasso(fit_intercept=False,warm_start=True,max_iter=1000,tol=0.1)\n",
    "alphas_lasso = np.logspace(-4,-1,5)\n",
    "alphas_ridge = np.logspace(0,4,5)\n",
    "params_grid = {'alpha':alphas_ridge}\n",
    "for i,a in enumerate(alphas_lasso):\n",
    "  lasso.set_params(alpha=a)\n",
    "  lasso.fit(Xtr,Ytr)\n",
    "  nonzero = np.any(np.abs(lasso.coef_)>1e-5,axis=0)\n",
    "  subset = np.where(nonzero)[0]\n",
    "  print('Alpha =  {} and Features is {}'.format(a,len(subset)))\n",
    "  gscv = GridSearchCV(ridge,params_grid , cv=kf, scoring='r2')\n",
    "  gscv.fit(Xtr[:,subset],Ytr)\n",
    "  lasso_ridge = gscv.cv_results_['mean_test_score']\n",
    "  #print(lasso_ridge)\n",
    "  #print(np.mean(lasso_ridge))\n",
    "  rsq.append(np.mean(lasso_ridge))\n",
    "  best_score = gscv.best_score_\n",
    "  best_alpha_params=gscv.best_params_['alpha']\n",
    "  score.append(best_score)\n",
    "  alpha.append(best_alpha_params)\n",
    "\n",
    "index=np.argmax(score)\n",
    "r2_max = score[index]\n",
    "alpha_max = alphas_lasso[index]\n",
    "plt.semilogx(alphas_lasso, score, label='Mean(R2)')\n",
    "plt.semilogx(alpha_max, r2_max, 'r^', label='max(R2)')\n",
    "plt.legend(loc='center left')\n",
    "plt.xlabel('alpha')\n",
    "plt.ylabel('CV R2')\n",
    "plt.grid()\n",
    "plt.show()"
   ]
  },
  {
   "cell_type": "markdown",
   "metadata": {},
   "source": [
    "You should see that (tuned) LASSO feature selection followed by tuned Ridge regression outperforms all previous methods: Ridge, LASSO, and LASSO+LS."
   ]
  },
  {
   "cell_type": "markdown",
   "metadata": {},
   "source": [
    "## More fun\n",
    "\n",
    "If you want to dive deeper into this application:\n",
    "* Install the [MNE python package](https://martinos.org/mne/stable/index.html).  This is an amazing package with many tools for processing EEG data.\n",
    "* In particular, you can use the above to visualize where in the brain the currents are active.\n",
    "* We could also use a more sophisticated regularization technique called Group LASSO, that encourages *entire rows* of the `W` matrix to be zero-valued.  This is appropriate in this application because, if the current is zero for one time, it is likely to be zero for all time. \n",
    "* You can even use the recovered current patterns to make predictions about what the patient is seeing or hearing or thinking!  It sounds like science-fiction, but it has been demonstrated to work to a certain extent!"
   ]
  },
  {
   "cell_type": "code",
   "execution_count": null,
   "metadata": {},
   "outputs": [],
   "source": []
  }
 ],
 "metadata": {
  "kernelspec": {
   "display_name": "Python 3 (ipykernel)",
   "language": "python",
   "name": "python3"
  },
  "language_info": {
   "codemirror_mode": {
    "name": "ipython",
    "version": 3
   },
   "file_extension": ".py",
   "mimetype": "text/x-python",
   "name": "python",
   "nbconvert_exporter": "python",
   "pygments_lexer": "ipython3",
   "version": "3.9.12"
  },
  "varInspector": {
   "cols": {
    "lenName": 16,
    "lenType": 16,
    "lenVar": 40
   },
   "kernels_config": {
    "python": {
     "delete_cmd_postfix": "",
     "delete_cmd_prefix": "del ",
     "library": "var_list.py",
     "varRefreshCmd": "print(var_dic_list())"
    },
    "r": {
     "delete_cmd_postfix": ") ",
     "delete_cmd_prefix": "rm(",
     "library": "var_list.r",
     "varRefreshCmd": "cat(var_dic_list()) "
    }
   },
   "types_to_exclude": [
    "module",
    "function",
    "builtin_function_or_method",
    "instance",
    "_Feature"
   ],
   "window_display": false
  }
 },
 "nbformat": 4,
 "nbformat_minor": 2
}
