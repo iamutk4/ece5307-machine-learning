{
 "cells": [
  {
   "cell_type": "markdown",
   "id": "71987c79",
   "metadata": {},
   "source": [
    "### Importing the packages\n",
    "First of all importing all the packages"
   ]
  },
  {
   "cell_type": "code",
   "execution_count": 1,
   "id": "1c4c0646",
   "metadata": {},
   "outputs": [],
   "source": [
    "import numpy as np\n",
    "import torch\n",
    "import torch.nn as nn\n",
    "from sklearn.metrics import roc_auc_score\n",
    "import pandas as pd\n",
    "from sklearn.linear_model import LogisticRegression\n",
    "import matplotlib.pyplot as plt\n",
    "from torch.utils.data import TensorDataset\n",
    "from torch.utils.data import DataLoader\n",
    "from sklearn.feature_selection import SelectKBest\n",
    "from sklearn.feature_selection import f_classif"
   ]
  },
  {
   "cell_type": "markdown",
   "id": "bcaaaed7",
   "metadata": {},
   "source": [
    "### Loading the Data"
   ]
  },
  {
   "cell_type": "code",
   "execution_count": 2,
   "id": "e807b5e8",
   "metadata": {},
   "outputs": [],
   "source": [
    "# load training data\n",
    "Xtr_loadpath = 'Xtr.csv'\n",
    "Xts_loadpath = 'Xts.csv'\n",
    "ytr_loadpath = 'ytr.csv'\n",
    "\n",
    "Xtr = np.loadtxt(Xtr_loadpath, delimiter=\",\")\n",
    "Xts = np.loadtxt(Xts_loadpath, delimiter=\",\")\n",
    "ytr = np.loadtxt(ytr_loadpath, delimiter=\",\")"
   ]
  },
  {
   "cell_type": "code",
   "execution_count": 3,
   "id": "cb4cbf87",
   "metadata": {},
   "outputs": [
    {
     "data": {
      "text/html": [
       "<div>\n",
       "<style scoped>\n",
       "    .dataframe tbody tr th:only-of-type {\n",
       "        vertical-align: middle;\n",
       "    }\n",
       "\n",
       "    .dataframe tbody tr th {\n",
       "        vertical-align: top;\n",
       "    }\n",
       "\n",
       "    .dataframe thead th {\n",
       "        text-align: right;\n",
       "    }\n",
       "</style>\n",
       "<table border=\"1\" class=\"dataframe\">\n",
       "  <thead>\n",
       "    <tr style=\"text-align: right;\">\n",
       "      <th></th>\n",
       "      <th>0</th>\n",
       "      <th>1</th>\n",
       "      <th>2</th>\n",
       "      <th>3</th>\n",
       "      <th>4</th>\n",
       "      <th>5</th>\n",
       "      <th>6</th>\n",
       "      <th>7</th>\n",
       "    </tr>\n",
       "  </thead>\n",
       "  <tbody>\n",
       "    <tr>\n",
       "      <th>0</th>\n",
       "      <td>0.0481</td>\n",
       "      <td>134.0</td>\n",
       "      <td>-23.3</td>\n",
       "      <td>8.63</td>\n",
       "      <td>0.368</td>\n",
       "      <td>16.7</td>\n",
       "      <td>-3.08</td>\n",
       "      <td>78.40</td>\n",
       "    </tr>\n",
       "    <tr>\n",
       "      <th>1</th>\n",
       "      <td>0.0939</td>\n",
       "      <td>67.2</td>\n",
       "      <td>-34.2</td>\n",
       "      <td>23.60</td>\n",
       "      <td>0.611</td>\n",
       "      <td>24.0</td>\n",
       "      <td>-3.45</td>\n",
       "      <td>6.28</td>\n",
       "    </tr>\n",
       "    <tr>\n",
       "      <th>2</th>\n",
       "      <td>0.1450</td>\n",
       "      <td>173.0</td>\n",
       "      <td>-42.6</td>\n",
       "      <td>-21.40</td>\n",
       "      <td>0.128</td>\n",
       "      <td>17.9</td>\n",
       "      <td>-3.21</td>\n",
       "      <td>3.39</td>\n",
       "    </tr>\n",
       "    <tr>\n",
       "      <th>3</th>\n",
       "      <td>0.3160</td>\n",
       "      <td>66.8</td>\n",
       "      <td>-96.2</td>\n",
       "      <td>97.00</td>\n",
       "      <td>0.100</td>\n",
       "      <td>28.0</td>\n",
       "      <td>-3.65</td>\n",
       "      <td>6.30</td>\n",
       "    </tr>\n",
       "    <tr>\n",
       "      <th>4</th>\n",
       "      <td>0.1890</td>\n",
       "      <td>43.7</td>\n",
       "      <td>-18.5</td>\n",
       "      <td>9.09</td>\n",
       "      <td>0.197</td>\n",
       "      <td>12.8</td>\n",
       "      <td>-3.05</td>\n",
       "      <td>62.30</td>\n",
       "    </tr>\n",
       "  </tbody>\n",
       "</table>\n",
       "</div>"
      ],
      "text/plain": [
       "        0      1     2      3      4     5     6      7\n",
       "0  0.0481  134.0 -23.3   8.63  0.368  16.7 -3.08  78.40\n",
       "1  0.0939   67.2 -34.2  23.60  0.611  24.0 -3.45   6.28\n",
       "2  0.1450  173.0 -42.6 -21.40  0.128  17.9 -3.21   3.39\n",
       "3  0.3160   66.8 -96.2  97.00  0.100  28.0 -3.65   6.30\n",
       "4  0.1890   43.7 -18.5   9.09  0.197  12.8 -3.05  62.30"
      ]
     },
     "execution_count": 3,
     "metadata": {},
     "output_type": "execute_result"
    }
   ],
   "source": [
    "df = pd.read_csv(\"Xtr.csv\",header=None)\n",
    "df.head(5)"
   ]
  },
  {
   "cell_type": "markdown",
   "id": "34008bbb",
   "metadata": {},
   "source": [
    "### Standardizing the data "
   ]
  },
  {
   "cell_type": "code",
   "execution_count": 4,
   "id": "156b89e7",
   "metadata": {},
   "outputs": [],
   "source": [
    "from sklearn.preprocessing import StandardScaler\n",
    "from sklearn.model_selection import train_test_split\n",
    "import random\n",
    "import sklearn\n",
    "\n",
    "scale= StandardScaler()\n",
    "\n",
    "Xtr_standardized = scale.fit_transform(Xtr) # revise this line as needed\n",
    "Xts_standardized = scale.fit_transform(Xts) # revise this line as needed\n",
    "ytr_standardized = ytr\n",
    "\n",
    "X_train, X_test, y_train,y_test = train_test_split(Xtr, ytr, test_size = 0.2, random_state = 1)\n",
    "X_train_std, X_test_std, y_train_std,y_test_std = train_test_split(Xtr_standardized, ytr_standardized, test_size = 0.2, random_state = 1)"
   ]
  },
  {
   "cell_type": "code",
   "execution_count": 5,
   "id": "9b6a063a",
   "metadata": {},
   "outputs": [],
   "source": [
    "# save the standardized training data\n",
    "Xtr_savepath = 'Xtr_sklearn.csv'\n",
    "Xts_savepath = 'Xts_sklearn.csv'\n",
    "ytr_savepath = 'ytr_sklearn.csv'\n",
    "yts_hat_savepath = 'yts_hat_sklearn.csv'\n",
    "\n",
    "np.savetxt(Xtr_savepath, Xtr_standardized, delimiter=\",\")\n",
    "np.savetxt(Xts_savepath, Xts_standardized, delimiter=\",\")\n",
    "np.savetxt(ytr_savepath, ytr_standardized, delimiter=\",\")"
   ]
  },
  {
   "cell_type": "markdown",
   "id": "39c3b295",
   "metadata": {},
   "source": [
    "## Part (1) Applying Logistic Regression First "
   ]
  },
  {
   "cell_type": "code",
   "execution_count": 6,
   "id": "233ce9f3",
   "metadata": {},
   "outputs": [
    {
     "name": "stdout",
     "output_type": "stream",
     "text": [
      "AUC score on the training data is 0.825726\n",
      "AUC on the testing data is 0.797817\n"
     ]
    }
   ],
   "source": [
    "from sklearn import linear_model, preprocessing\n",
    "\n",
    "logreg2 = LogisticRegression(C=1e-1,solver='liblinear',penalty=\"l2\",warm_start=True,class_weight='balanced')\n",
    "logreg2.fit(Xtr_standardized,ytr);\n",
    "yhat = logreg2.predict(Xtr_standardized)\n",
    "score = roc_auc_score(ytr,logreg2.decision_function(Xtr_standardized))\n",
    "# score = roc_auc_score(ytr, yhat)\n",
    "print('AUC score on the training data is {0:f}'.format(score))\n",
    "\n",
    "logreg2.fit(X_train_std, y_train_std)\n",
    "yhat = logreg2.predict(X_test_std)\n",
    "score = roc_auc_score(y_test_std,logreg2.decision_function(X_test_std))\n",
    "# score = roc_auc_score(ytr, yhat)\n",
    "print('AUC on the testing data is {0:f}'.format(score))"
   ]
  },
  {
   "cell_type": "code",
   "execution_count": 7,
   "id": "804f5250",
   "metadata": {},
   "outputs": [
    {
     "name": "stdout",
     "output_type": "stream",
     "text": [
      "[ 0.02837023  0.06910922  1.07394801  0.3842096   0.02470914 -0.08899305\n",
      " -0.10388239 -1.24767841]\n"
     ]
    },
    {
     "data": {
      "image/png": "[encoded data removed]",
      "text/plain": [
       "<Figure size 432x288 with 1 Axes>"
      ]
     },
     "metadata": {
      "needs_background": "light"
     },
     "output_type": "display_data"
    }
   ],
   "source": [
    "W = logreg2.coef_\n",
    "W = W.ravel()\n",
    "#W = W.reshape(-1) # alternative\n",
    "plt.stem(W);\n",
    "print(W)"
   ]
  },
  {
   "cell_type": "code",
   "execution_count": 8,
   "id": "2a592c8a",
   "metadata": {},
   "outputs": [
    {
     "name": "stdout",
     "output_type": "stream",
     "text": [
      "AUC score on the training data is 0.818128\n",
      "AUC on the testing data is 0.798070\n"
     ]
    }
   ],
   "source": [
    "from sklearn import linear_model, preprocessing\n",
    "\n",
    "logreg = LogisticRegression(C=1e-3,solver='liblinear',penalty=\"l1\",warm_start=True,class_weight='balanced')\n",
    "logreg.fit(Xtr_standardized,ytr);\n",
    "yhat = logreg.predict(Xtr_standardized)\n",
    "score = roc_auc_score(ytr,logreg.decision_function(Xtr_standardized))\n",
    "# score = roc_auc_score(ytr, yhat)\n",
    "print('AUC score on the training data is {0:f}'.format(score))\n",
    "\n",
    "logreg.fit(X_train_std, y_train_std)\n",
    "yhat = logreg.predict(X_test_std)\n",
    "score = roc_auc_score(y_test_std,logreg.decision_function(X_test_std))\n",
    "# score = roc_auc_score(ytr, yhat)\n",
    "print('AUC on the testing data is {0:f}'.format(score))"
   ]
  },
  {
   "cell_type": "code",
   "execution_count": 9,
   "id": "58da9a05",
   "metadata": {},
   "outputs": [
    {
     "name": "stdout",
     "output_type": "stream",
     "text": [
      "[ 0.          0.          0.11679969  0.          0.          0.\n",
      "  0.         -0.45999813]\n"
     ]
    },
    {
     "data": {
      "image/png": "[encoded data removed]",
      "text/plain": [
       "<Figure size 432x288 with 1 Axes>"
      ]
     },
     "metadata": {
      "needs_background": "light"
     },
     "output_type": "display_data"
    }
   ],
   "source": [
    "W2 = logreg.coef_\n",
    "W2 = W2.ravel()\n",
    "#W = W.reshape(-1) # alternative\n",
    "plt.stem(W2);\n",
    "print(W2)"
   ]
  },
  {
   "cell_type": "markdown",
   "id": "3b340e96",
   "metadata": {},
   "source": [
    "#### Cross Validation"
   ]
  },
  {
   "cell_type": "code",
   "execution_count": 10,
   "id": "7765f97f",
   "metadata": {},
   "outputs": [
    {
     "name": "stdout",
     "output_type": "stream",
     "text": [
      "AUC =  0.8252, SE=0.0058\n"
     ]
    }
   ],
   "source": [
    "from sklearn.model_selection import KFold\n",
    "from sklearn.model_selection import cross_val_score\n",
    "# TODO\n",
    "\n",
    "# Instantiate KFold object\n",
    "nfold = 10\n",
    "kf = KFold(n_splits=nfold,shuffle=True,random_state=1)\n",
    "\n",
    "# Do cross-validation\n",
    "cv_results = cross_val_score(logreg2, Xtr_standardized, ytr, cv=kf, scoring=\"roc_auc\")\n",
    "\n",
    "auc = cv_results\n",
    "\n",
    "# Take average\n",
    "aucm= np.mean(auc)\n",
    "\n",
    "# Compute the standard errors\n",
    "auc_se = np.std(auc,ddof=1)/np.sqrt(nfold)\n",
    "\n",
    "print('AUC =  {0:.4f}, SE={1:.4f}'.format(aucm, auc_se))"
   ]
  },
  {
   "cell_type": "code",
   "execution_count": 11,
   "id": "e5a4394b",
   "metadata": {},
   "outputs": [
    {
     "name": "stdout",
     "output_type": "stream",
     "text": [
      "AUC =  0.8162, SE=0.0041\n"
     ]
    }
   ],
   "source": [
    "from sklearn.model_selection import KFold\n",
    "from sklearn.model_selection import cross_val_score\n",
    "# TODO\n",
    "\n",
    "# Instantiate KFold object\n",
    "nfold = 10\n",
    "kf = KFold(n_splits=nfold,shuffle=True,random_state=1)\n",
    "\n",
    "# Do cross-validation\n",
    "cv_results = cross_val_score(logreg, Xtr_standardized, ytr, cv=kf, scoring=\"roc_auc\")\n",
    "\n",
    "auc = cv_results\n",
    "\n",
    "# Take average\n",
    "aucm= np.mean(auc)\n",
    "\n",
    "# Compute the standard errors\n",
    "auc_se = np.std(auc,ddof=1)/np.sqrt(nfold)\n",
    "\n",
    "print('AUC =  {0:.4f}, SE={1:.4f}'.format(aucm, auc_se))"
   ]
  },
  {
   "cell_type": "markdown",
   "id": "74e2c762",
   "metadata": {},
   "source": [
    "### L1 regularization tuned with GridSearchCV and a pipeline"
   ]
  },
  {
   "cell_type": "code",
   "execution_count": 12,
   "id": "fa104974",
   "metadata": {},
   "outputs": [],
   "source": [
    "from sklearn.pipeline import Pipeline\n",
    "from sklearn.feature_selection import SelectFromModel\n",
    "from sklearn.model_selection import GridSearchCV\n",
    "from sklearn.model_selection import KFold\n",
    "\n",
    "# build pipeline for L1LogReg+FeaturesSelect+LogReg\n",
    "pipe = Pipeline([\n",
    "  ('featsel',SelectFromModel(LogisticRegression(penalty='l1',solver='liblinear',warm_start=True,multi_class='ovr'))),\n",
    "  ('logreg', LogisticRegression(C=1e-3))\n",
    "])\n",
    "\n",
    "# tune L1LogReg regularization strength\n",
    "npen = 25\n",
    "nfold = 10\n",
    "kf = KFold(n_splits=nfold,shuffle=True,random_state=1)\n",
    "C_lasso = np.logspace(-3,1,npen) # grid of C values\n",
    "parameters = {'featsel__estimator__C':C_lasso}\n",
    "gscv = GridSearchCV(pipe, parameters, cv=kf, scoring='roc_auc')\n",
    "gscv.fit(Xtr_standardized,ytr);\n",
    "\n"
   ]
  },
  {
   "cell_type": "code",
   "execution_count": 13,
   "id": "7dd8a23b",
   "metadata": {},
   "outputs": [
    {
     "name": "stdout",
     "output_type": "stream",
     "text": [
      "C at which error rate is minimum = 0.0031622776601683794\n",
      "Accuracy via 10-fold CV is 0.825438 with SE=  5.5376e-03\n"
     ]
    },
    {
     "data": {
      "image/png": "[encoded data removed]",
      "text/plain": [
       "<Figure size 432x288 with 1 Axes>"
      ]
     },
     "metadata": {
      "needs_background": "light"
     },
     "output_type": "display_data"
    }
   ],
   "source": [
    "# TODO\n",
    "# C_min = \n",
    "\n",
    "# Average test results across folds\n",
    "err_mean = 1-gscv.cv_results_['mean_test_score']\n",
    "err_se = gscv.cv_results_['std_test_score']/np.sqrt(nfold-1)\n",
    "imin = np.argmin(err_mean)\n",
    "C_min = C_lasso[imin]\n",
    "\n",
    "# Plot error statistics versus C\n",
    "plt.errorbar(np.log10(C_lasso), err_mean, marker='o',yerr=err_se)\n",
    "xmin, xmax, ymin, ymax = plt.axis()\n",
    "plt.plot(np.log10([C_min,C_min]),[ymin,ymax],'--')\n",
    "\n",
    "plt.grid()\n",
    "plt.xlabel('log10(C)')\n",
    "plt.ylabel('CV error-rate')\n",
    "\n",
    "print(\"C at which error rate is minimum = \" + str(C_min))\n",
    "print(\"Accuracy via 10-fold CV is %f with SE=%12.4e\" % (1-err_mean[imin],err_se[imin]))"
   ]
  },
  {
   "cell_type": "code",
   "execution_count": 14,
   "id": "6bc00114",
   "metadata": {},
   "outputs": [
    {
     "name": "stdout",
     "output_type": "stream",
     "text": [
      "Total number of coefficients = [ 0.02837023  0.06910922  1.07394801  0.3842096   0.02470914 -0.08899305\n",
      " -0.10388239 -1.24767841]\n",
      "Selected number of coefficients = 3\n"
     ]
    },
    {
     "data": {
      "image/png": "[encoded data removed]",
      "text/plain": [
       "<Figure size 1008x288 with 3 Axes>"
      ]
     },
     "metadata": {
      "needs_background": "light"
     },
     "output_type": "display_data"
    }
   ],
   "source": [
    "# best estimator\n",
    "pipe_best = gscv.best_estimator_ \n",
    "\n",
    "# L1LogReg coefficients\n",
    "W_l1 = pipe_best.named_steps[\"featsel\"].estimator_.coef_\n",
    "\n",
    "# selected features\n",
    "support = pipe_best.named_steps[\"featsel\"].get_support()\n",
    "\n",
    "# LogReg coefficients\n",
    "W_pipe = np.zeros(W_l1.shape)\n",
    "W_pipe[:,support] = pipe_best.named_steps[\"logreg\"].coef_\n",
    "\n",
    "plt.figure(figsize=(14,4))\n",
    "plt.subplot(1,3,1)\n",
    "plt.stem(W[:])\n",
    "plt.title('LogReg with L2 regularization')\n",
    "plt.ylabel('weight value')\n",
    "plt.xlabel('coefficient index')\n",
    "plt.subplot(1,3,2)\n",
    "plt.stem(W_l1[0,:])\n",
    "plt.title('LogReg with L1 (biased)')\n",
    "plt.xlabel('coefficient index')\n",
    "plt.subplot(1,3,3)\n",
    "plt.stem(W_pipe[0,:])\n",
    "plt.title('LogReg after feature selection')\n",
    "plt.xlabel('coefficient index')\n",
    "\n",
    "print('Total number of coefficients = '+str(W))\n",
    "print('Selected number of coefficients = '+str(np.sum(support)))"
   ]
  },
  {
   "cell_type": "code",
   "execution_count": 15,
   "id": "e1526226",
   "metadata": {},
   "outputs": [
    {
     "name": "stdout",
     "output_type": "stream",
     "text": [
      "AUC score on the training data is 0.823753\n",
      "AUC on the testing data is 0.808860\n"
     ]
    }
   ],
   "source": [
    "Xtr_fs = np.loadtxt(Xtr_loadpath, usecols= {2,3,7}, delimiter=\",\")\n",
    "Xtr_standardized_fs = scale.fit_transform(Xtr_fs) # revise this line as needed\n",
    "X_train_fs, X_test_fs, y_train_fs,y_test_fs = train_test_split(Xtr_standardized_fs, ytr_standardized, test_size = 0.2, random_state = 10)\n",
    "\n",
    "logreg = LogisticRegression(C=C_min,solver='liblinear',penalty=\"l1\",warm_start=True,class_weight='balanced')\n",
    "logreg.fit(Xtr_standardized_fs,ytr);\n",
    "yhat = logreg.predict(Xtr_standardized_fs)\n",
    "score = roc_auc_score(ytr,logreg.decision_function(Xtr_standardized_fs))\n",
    "# score = roc_auc_score(ytr, yhat)\n",
    "print('AUC score on the training data is {0:f}'.format(score))\n",
    "\n",
    "logreg.fit(X_train_fs, y_train_fs)\n",
    "yhat = logreg.predict(X_test_fs)\n",
    "score = roc_auc_score(y_test_fs,logreg.decision_function(X_test_fs))\n",
    "# score = roc_auc_score(ytr, yhat)\n",
    "print('AUC on the testing data is {0:f}'.format(score))"
   ]
  },
  {
   "cell_type": "markdown",
   "id": "153251fa",
   "metadata": {},
   "source": [
    "## Part (2) Applying SVC/SVM "
   ]
  },
  {
   "cell_type": "code",
   "execution_count": 16,
   "id": "3b5d0dc9",
   "metadata": {},
   "outputs": [
    {
     "name": "stdout",
     "output_type": "stream",
     "text": [
      "[LibSVM]AUC on the training data is 0.940861\n"
     ]
    }
   ],
   "source": [
    "from sklearn import svm\n",
    "\n",
    "svc = svm.SVC(probability=False,  kernel=\"rbf\", C=20, gamma=.2, verbose=10)\n",
    "svc.fit(Xtr_standardized,ytr)\n",
    "yhat = svc.predict(Xtr_standardized)\n",
    "score = roc_auc_score(ytr,svc.decision_function(Xtr_standardized))\n",
    "# score = roc_auc_score(ytr, yhat)\n",
    "print('AUC on the training data is {0:f}'.format(score))\n"
   ]
  },
  {
   "cell_type": "code",
   "execution_count": null,
   "id": "1d404fd3",
   "metadata": {},
   "outputs": [
    {
     "name": "stdout",
     "output_type": "stream",
     "text": [
      "Fitting 10 folds for each of 9 candidates, totalling 90 fits\n",
      "[CV 1/10; 1/9] START C=18, gamma=0.18, kernel=rbf...............................\n",
      "[CV 1/10; 1/9] END C=18, gamma=0.18, kernel=rbf;, score=0.846 total time=   3.6s\n",
      "[CV 2/10; 1/9] START C=18, gamma=0.18, kernel=rbf...............................\n"
     ]
    }
   ],
   "source": [
    "#C_test = [0.1, 1, 10, 15, 20, 25, 50]\n",
    "C_test = [18, 20, 22]\n",
    "#gam_test = [0.001, 0.01, 0.1,0.00001,0.05]\n",
    "gam_test = [0.18, 0.2, 0.22]\n",
    "nfold = 10\n",
    "kf = KFold(n_splits=nfold,shuffle=True,random_state=1)\n",
    "\n",
    "param_grid = {'C' : C_test, 'gamma': gam_test, 'kernel' : ['rbf']}\n",
    "clf = GridSearchCV(svm.SVC(), param_grid = param_grid, cv = kf, verbose=10)\n",
    "clf.fit(Xtr_standardized,ytr)"
   ]
  },
  {
   "cell_type": "code",
   "execution_count": null,
   "id": "d383297f",
   "metadata": {},
   "outputs": [],
   "source": [
    "print(\"Best parameter: \" + str(clf.best_params_))\n",
    "print(\"Best score: \" + str(clf.best_score_))"
   ]
  },
  {
   "cell_type": "code",
   "execution_count": null,
   "id": "e86ac2e5",
   "metadata": {},
   "outputs": [],
   "source": [
    "svc = svm.SVC(probability=False,  kernel=\"rbf\", C=20, gamma=0.2, verbose=1)\n",
    "svc.fit(Xtr_standardized,ytr)\n",
    "yhat = svc.predict(Xtr_standardized)\n",
    "score = roc_auc_score(ytr,svc.decision_function(Xtr_standardized))\n",
    "# score = roc_auc_score(ytr, yhat)\n",
    "print('AUC on the training data is {0:f}'.format(score))\n",
    "\n",
    "svc.fit(X_train_std, y_train_std)\n",
    "#preds = svc.predict(X_test_std)\n",
    "score = roc_auc_score(y_test_std,svc.decision_function(X_test_std))\n",
    "# score = roc_auc_score(ytr, yhat)\n",
    "print('AUC on the testing data is {0:f}'.format(score))\n"
   ]
  },
  {
   "cell_type": "code",
   "execution_count": null,
   "id": "a721a7c4",
   "metadata": {},
   "outputs": [],
   "source": [
    "#Feature Selection\n",
    "\n",
    "XtrBest = SelectKBest(score_func=f_classif,k=5).fit_transform(Xtr,ytr)\n",
    "XtsBest = np.loadtxt(Xts_loadpath,delimiter = \",\", usecols = (2,3,5,6,7))\n",
    "\n",
    "Xtr_standardized_fs = scale.fit_transform(XtrBest) # revise this line as needed\n",
    "Xts_standardized_fs = scale.fit_transform(XtsBest) # revise this line as needed\n",
    "X_train, X_test, y_train,y_test = train_test_split(Xtr_standardized_fs, ytr_standardized, test_size = 0.2)\n",
    "\n",
    "Xtr_savepath = 'Xtr_sklearn.csv'\n",
    "Xts_savepath = 'Xts_sklearn.csv'\n",
    "ytr_savepath = 'ytr_sklearn.csv'\n",
    "yts_hat_savepath = 'yts_hat_sklearn.csv'\n",
    "\n",
    "np.savetxt(Xtr_savepath, Xtr_standardized_fs, delimiter=\",\")\n",
    "np.savetxt(Xts_savepath, Xts_standardized_fs, delimiter=\",\")\n",
    "np.savetxt(ytr_savepath, ytr_standardized, delimiter=\",\")\n",
    "\n",
    "\n",
    "\n",
    "svc = svm.SVC(probability=False,  kernel=\"rbf\", C=20, gamma=0.2, verbose=1)\n",
    "svc.fit(Xtr_standardized_fs,ytr)\n",
    "yhat = svc.predict(Xtr_standardized_fs)\n",
    "score = roc_auc_score(ytr,svc.decision_function(Xtr_standardized_fs))\n",
    "# score = roc_auc_score(ytr, yhat)\n",
    "print('AUC on the training data is {0:f}'.format(score))\n",
    "\n",
    "svc.fit(X_train, y_train)\n",
    "#preds = svc.predict(X_test_std)\n",
    "score = roc_auc_score(y_test,svc.decision_function(X_test))\n",
    "# score = roc_auc_score(ytr, yhat)\n",
    "print('AUC on the testing data is {0:f}'.format(score))"
   ]
  },
  {
   "cell_type": "code",
   "execution_count": null,
   "id": "3ce445c2",
   "metadata": {},
   "outputs": [],
   "source": [
    "import pickle\n",
    "import bz2\n",
    "\n",
    "# save the model: you must use the .bz2 format for sklearn models!\n",
    "model_savepath = 'model.bz2'\n",
    "with bz2.BZ2File(model_savepath, 'w') as f:\n",
    "    pickle.dump(svc,f)"
   ]
  },
  {
   "cell_type": "code",
   "execution_count": null,
   "id": "5cb59136",
   "metadata": {},
   "outputs": [],
   "source": [
    "# generate kaggle submission file using the validation script\n",
    "!python {\"validation.py \" + model_savepath + \" --Xts_path \" + Xts_savepath + \" --Xtr_path \" + Xtr_savepath + \" --yts_hat_path \" + yts_hat_savepath } "
   ]
  },
  {
   "cell_type": "code",
   "execution_count": null,
   "id": "c2b8b731",
   "metadata": {},
   "outputs": [],
   "source": []
  }
 ],
 "metadata": {
  "kernelspec": {
   "display_name": "Python 3 (ipykernel)",
   "language": "python",
   "name": "python3"
  },
  "language_info": {
   "codemirror_mode": {
    "name": "ipython",
    "version": 3
   },
   "file_extension": ".py",
   "mimetype": "text/x-python",
   "name": "python",
   "nbconvert_exporter": "python",
   "pygments_lexer": "ipython3",
   "version": "3.9.12"
  }
 },
 "nbformat": 4,
 "nbformat_minor": 5
}
