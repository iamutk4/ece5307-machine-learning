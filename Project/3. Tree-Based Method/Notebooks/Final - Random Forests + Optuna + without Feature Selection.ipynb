{
 "cells": [
  {
   "cell_type": "markdown",
   "id": "657ee94a",
   "metadata": {},
   "source": [
    "### Import necessary libraries"
   ]
  },
  {
   "cell_type": "code",
   "execution_count": 1,
   "id": "ebfd75d2",
   "metadata": {},
   "outputs": [],
   "source": [
    "import numpy as np\n",
    "import torch\n",
    "import torch.nn as nn\n",
    "from sklearn.metrics import roc_auc_score\n",
    "import pandas as pd\n",
    "from sklearn.linear_model import LogisticRegression\n",
    "import matplotlib.pyplot as plt\n",
    "from torch.utils.data import TensorDataset\n",
    "from torch.utils.data import DataLoader\n",
    "from xgboost import XGBClassifier\n",
    "from sklearn.metrics import roc_auc_score\n",
    "import optuna\n",
    "from sklearn.model_selection import train_test_split\n",
    "import random\n",
    "import sklearn.datasets\n",
    "from sklearn.ensemble import RandomForestClassifier\n",
    "from sklearn.model_selection import cross_val_score\n",
    "from xgboost import plot_importance\n",
    "import sklearn.datasets\n",
    "from sklearn.ensemble import RandomForestClassifier\n",
    "import random\n",
    "from sklearn.preprocessing import StandardScaler"
   ]
  },
  {
   "cell_type": "code",
   "execution_count": 2,
   "id": "b02b3485",
   "metadata": {},
   "outputs": [],
   "source": [
    "# load training data\n",
    "Xtr_loadpath = 'Xtr.csv'\n",
    "Xts_loadpath = 'Xts.csv'\n",
    "ytr_loadpath = 'ytr.csv'\n",
    "\n",
    "Xtr = np.loadtxt(Xtr_loadpath, delimiter=\",\")\n",
    "Xts = np.loadtxt(Xts_loadpath, delimiter=\",\")\n",
    "ytr = np.loadtxt(ytr_loadpath, delimiter=\",\")"
   ]
  },
  {
   "cell_type": "code",
   "execution_count": 3,
   "id": "7b36c208",
   "metadata": {},
   "outputs": [],
   "source": [
    "# No standardization performed\n",
    "\n",
    "Xtr_standardized = Xtr\n",
    "Xts_standardized = Xts\n",
    "ytr_standardized = ytr\n",
    "\n",
    "# Save the standardized training data\n",
    "Xtr_savepath = 'Xtr_xgboost.csv'\n",
    "Xts_savepath = 'Xts_xgboost.csv'\n",
    "ytr_savepath = 'ytr_xgboost.csv'\n",
    "yts_hat_savepath = 'yts_hat_RandomForestOptuna.csv'\n",
    "\n",
    "np.savetxt(Xtr_savepath, Xtr_standardized, delimiter=\",\")\n",
    "np.savetxt(Xts_savepath, Xts_standardized, delimiter=\",\")\n",
    "np.savetxt(ytr_savepath, ytr_standardized, delimiter=\",\")\n",
    "\n",
    "# Perform 80:20 train:test split\n",
    "X_train, X_test, y_train, y_test = train_test_split(Xtr_standardized, ytr_standardized, test_size = 0.2, random_state = random.randint(0,1000))\n",
    "\n"
   ]
  },
  {
   "cell_type": "code",
   "execution_count": 4,
   "id": "5cae650e",
   "metadata": {},
   "outputs": [
    {
     "name": "stdout",
     "output_type": "stream",
     "text": [
      "Training AUC:  1.0\n",
      "Test AUC:  0.8313244469654\n"
     ]
    }
   ],
   "source": [
    "# Train a basic Random Forest model with no hyperparameter tuning\n",
    "\n",
    "rf = sklearn.ensemble.RandomForestClassifier()\n",
    "rf.fit(X_train, y_train)\n",
    "\n",
    "# Generate train and test AUC scores\n",
    "aucTrain = roc_auc_score(y_train,rf.predict(X_train))\n",
    "print('Training AUC: ',aucTrain)\n",
    "\n",
    "aucTest = roc_auc_score(y_test,rf.predict(X_test))\n",
    "print('Test AUC: ',aucTest)\n"
   ]
  },
  {
   "cell_type": "markdown",
   "id": "31da48aa",
   "metadata": {},
   "source": [
    "### Compare feature importance"
   ]
  },
  {
   "cell_type": "code",
   "execution_count": 5,
   "id": "9b7e57e8",
   "metadata": {},
   "outputs": [
    {
     "name": "stdout",
     "output_type": "stream",
     "text": [
      "[0.06006881 0.05543014 0.17423612 0.11587187 0.05812095 0.153847\n",
      " 0.11871743 0.26370767]\n"
     ]
    }
   ],
   "source": [
    "print(rf.feature_importances_)"
   ]
  },
  {
   "cell_type": "markdown",
   "id": "1999795f",
   "metadata": {},
   "source": [
    "### Apply Optuna hyperparameter optimization technique"
   ]
  },
  {
   "cell_type": "code",
   "execution_count": 17,
   "id": "e74a52a2",
   "metadata": {},
   "outputs": [
    {
     "name": "stderr",
     "output_type": "stream",
     "text": [
      "\u001b[32m[I 2022-12-08 18:31:43,059]\u001b[0m A new study created in memory with name: no-name-72b75720-508f-4721-9896-dfd3b82533fa\u001b[0m\n",
      "\u001b[32m[I 2022-12-08 18:31:45,197]\u001b[0m Trial 0 finished with value: 0.8525024274649463 and parameters: {'criterion': 'entropy', 'max_depth': 19, 'n_estimators': 357, 'min_samples_split': 44, 'min_samples_leaf': 8}. Best is trial 0 with value: 0.8525024274649463.\u001b[0m\n",
      "\u001b[32m[I 2022-12-08 18:31:46,174]\u001b[0m Trial 1 finished with value: 0.8420009214611913 and parameters: {'criterion': 'gini', 'max_depth': 34, 'n_estimators': 350, 'min_samples_split': 89, 'min_samples_leaf': 46}. Best is trial 0 with value: 0.8525024274649463.\u001b[0m\n",
      "\u001b[32m[I 2022-12-08 18:31:47,515]\u001b[0m Trial 2 finished with value: 0.8554971763367566 and parameters: {'criterion': 'entropy', 'max_depth': 36, 'n_estimators': 451, 'min_samples_split': 4, 'min_samples_leaf': 63}. Best is trial 2 with value: 0.8554971763367566.\u001b[0m\n",
      "\u001b[32m[I 2022-12-08 18:31:48,229]\u001b[0m Trial 3 finished with value: 0.8330024177100639 and parameters: {'criterion': 'gini', 'max_depth': 10, 'n_estimators': 348, 'min_samples_split': 76, 'min_samples_leaf': 39}. Best is trial 2 with value: 0.8554971763367566.\u001b[0m\n",
      "\u001b[32m[I 2022-12-08 18:31:49,428]\u001b[0m Trial 4 finished with value: 0.8450061755908833 and parameters: {'criterion': 'entropy', 'max_depth': 14, 'n_estimators': 469, 'min_samples_split': 37, 'min_samples_leaf': 55}. Best is trial 2 with value: 0.8554971763367566.\u001b[0m\n",
      "\u001b[32m[I 2022-12-08 18:31:50,617]\u001b[0m Trial 5 finished with value: 0.8450061755908833 and parameters: {'criterion': 'entropy', 'max_depth': 17, 'n_estimators': 408, 'min_samples_split': 9, 'min_samples_leaf': 32}. Best is trial 2 with value: 0.8554971763367566.\u001b[0m\n",
      "\u001b[32m[I 2022-12-08 18:31:51,870]\u001b[0m Trial 6 finished with value: 0.8575021798410104 and parameters: {'criterion': 'gini', 'max_depth': 38, 'n_estimators': 496, 'min_samples_split': 1, 'min_samples_leaf': 75}. Best is trial 6 with value: 0.8575021798410104.\u001b[0m\n",
      "\u001b[32m[I 2022-12-08 18:31:53,043]\u001b[0m Trial 7 finished with value: 0.8504951728340034 and parameters: {'criterion': 'entropy', 'max_depth': 25, 'n_estimators': 487, 'min_samples_split': 70, 'min_samples_leaf': 99}. Best is trial 6 with value: 0.8575021798410104.\u001b[0m\n",
      "\u001b[32m[I 2022-12-08 18:31:54,350]\u001b[0m Trial 8 finished with value: 0.8410036723380051 and parameters: {'criterion': 'entropy', 'max_depth': 12, 'n_estimators': 487, 'min_samples_split': 38, 'min_samples_leaf': 54}. Best is trial 6 with value: 0.8575021798410104.\u001b[0m\n",
      "\u001b[32m[I 2022-12-08 18:31:55,334]\u001b[0m Trial 9 finished with value: 0.8525024274649463 and parameters: {'criterion': 'entropy', 'max_depth': 14, 'n_estimators': 387, 'min_samples_split': 47, 'min_samples_leaf': 35}. Best is trial 6 with value: 0.8575021798410104.\u001b[0m\n",
      "\u001b[32m[I 2022-12-08 18:31:56,020]\u001b[0m Trial 10 finished with value: 0.8554889222055638 and parameters: {'criterion': 'gini', 'max_depth': 26, 'n_estimators': 301, 'min_samples_split': 20, 'min_samples_leaf': 84}. Best is trial 6 with value: 0.8575021798410104.\u001b[0m\n",
      "\u001b[32m[I 2022-12-08 18:31:57,035]\u001b[0m Trial 11 finished with value: 0.8435046740893818 and parameters: {'criterion': 'gini', 'max_depth': 38, 'n_estimators': 449, 'min_samples_split': 5, 'min_samples_leaf': 73}. Best is trial 6 with value: 0.8575021798410104.\u001b[0m\n",
      "\u001b[32m[I 2022-12-08 18:31:57,982]\u001b[0m Trial 12 finished with value: 0.8475011743377561 and parameters: {'criterion': 'gini', 'max_depth': 30, 'n_estimators': 438, 'min_samples_split': 21, 'min_samples_leaf': 72}. Best is trial 6 with value: 0.8575021798410104.\u001b[0m\n",
      "\u001b[32m[I 2022-12-08 18:31:59,022]\u001b[0m Trial 13 finished with value: 0.8515014264639452 and parameters: {'criterion': 'gini', 'max_depth': 40, 'n_estimators': 498, 'min_samples_split': 0, 'min_samples_leaf': 69}. Best is trial 6 with value: 0.8575021798410104.\u001b[0m\n",
      "\u001b[32m[I 2022-12-08 18:32:00,218]\u001b[0m Trial 14 finished with value: 0.8410006708357533 and parameters: {'criterion': 'entropy', 'max_depth': 26, 'n_estimators': 439, 'min_samples_split': 23, 'min_samples_leaf': 92}. Best is trial 6 with value: 0.8575021798410104.\u001b[0m\n",
      "\u001b[32m[I 2022-12-08 18:32:01,218]\u001b[0m Trial 15 finished with value: 0.8464994229611921 and parameters: {'criterion': 'gini', 'max_depth': 33, 'n_estimators': 462, 'min_samples_split': 63, 'min_samples_leaf': 62}. Best is trial 6 with value: 0.8575021798410104.\u001b[0m\n",
      "\u001b[32m[I 2022-12-08 18:32:02,116]\u001b[0m Trial 16 finished with value: 0.8589901745823786 and parameters: {'criterion': 'gini', 'max_depth': 22, 'n_estimators': 416, 'min_samples_split': 28, 'min_samples_leaf': 82}. Best is trial 16 with value: 0.8589901745823786.\u001b[0m\n",
      "\u001b[32m[I 2022-12-08 18:32:03,018]\u001b[0m Trial 17 finished with value: 0.8459989224606916 and parameters: {'criterion': 'gini', 'max_depth': 21, 'n_estimators': 414, 'min_samples_split': 29, 'min_samples_leaf': 82}. Best is trial 16 with value: 0.8589901745823786.\u001b[0m\n",
      "\u001b[32m[I 2022-12-08 18:32:03,860]\u001b[0m Trial 18 finished with value: 0.85299617458538 and parameters: {'criterion': 'gini', 'max_depth': 22, 'n_estimators': 384, 'min_samples_split': 16, 'min_samples_leaf': 86}. Best is trial 16 with value: 0.8589901745823786.\u001b[0m\n",
      "\u001b[32m[I 2022-12-08 18:32:04,542]\u001b[0m Trial 19 finished with value: 0.8610056833445139 and parameters: {'criterion': 'gini', 'max_depth': 17, 'n_estimators': 303, 'min_samples_split': 57, 'min_samples_leaf': 21}. Best is trial 19 with value: 0.8610056833445139.\u001b[0m\n",
      "\u001b[32m[I 2022-12-08 18:32:05,249]\u001b[0m Trial 20 finished with value: 0.8425021723372549 and parameters: {'criterion': 'gini', 'max_depth': 17, 'n_estimators': 312, 'min_samples_split': 56, 'min_samples_leaf': 19}. Best is trial 19 with value: 0.8610056833445139.\u001b[0m\n",
      "\u001b[32m[I 2022-12-08 18:32:05,981]\u001b[0m Trial 21 finished with value: 0.8594944269606938 and parameters: {'criterion': 'gini', 'max_depth': 16, 'n_estimators': 322, 'min_samples_split': 55, 'min_samples_leaf': 23}. Best is trial 19 with value: 0.8610056833445139.\u001b[0m\n",
      "\u001b[32m[I 2022-12-08 18:32:06,708]\u001b[0m Trial 22 finished with value: 0.8554934244589417 and parameters: {'criterion': 'gini', 'max_depth': 16, 'n_estimators': 325, 'min_samples_split': 57, 'min_samples_leaf': 21}. Best is trial 19 with value: 0.8610056833445139.\u001b[0m\n",
      "\u001b[32m[I 2022-12-08 18:32:07,450]\u001b[0m Trial 23 finished with value: 0.8324959142050595 and parameters: {'criterion': 'gini', 'max_depth': 19, 'n_estimators': 331, 'min_samples_split': 78, 'min_samples_leaf': 8}. Best is trial 19 with value: 0.8610056833445139.\u001b[0m\n",
      "\u001b[32m[I 2022-12-08 18:32:08,247]\u001b[0m Trial 24 finished with value: 0.8345039192115654 and parameters: {'criterion': 'gini', 'max_depth': 14, 'n_estimators': 368, 'min_samples_split': 98, 'min_samples_leaf': 23}. Best is trial 19 with value: 0.8610056833445139.\u001b[0m\n",
      "\u001b[32m[I 2022-12-08 18:32:08,990]\u001b[0m Trial 25 finished with value: 0.8539964252108181 and parameters: {'criterion': 'gini', 'max_depth': 23, 'n_estimators': 329, 'min_samples_split': 55, 'min_samples_leaf': 0}. Best is trial 19 with value: 0.8610056833445139.\u001b[0m\n",
      "\u001b[32m[I 2022-12-08 18:32:09,852]\u001b[0m Trial 26 finished with value: 0.8510001755878817 and parameters: {'criterion': 'gini', 'max_depth': 12, 'n_estimators': 420, 'min_samples_split': 35, 'min_samples_leaf': 29}. Best is trial 19 with value: 0.8610056833445139.\u001b[0m\n",
      "\u001b[32m[I 2022-12-08 18:32:10,541]\u001b[0m Trial 27 finished with value: 0.8514939227083156 and parameters: {'criterion': 'gini', 'max_depth': 16, 'n_estimators': 301, 'min_samples_split': 65, 'min_samples_leaf': 43}. Best is trial 19 with value: 0.8610056833445139.\u001b[0m\n",
      "\u001b[32m[I 2022-12-08 18:32:11,397]\u001b[0m Trial 28 finished with value: 0.8455066760913837 and parameters: {'criterion': 'gini', 'max_depth': 20, 'n_estimators': 391, 'min_samples_split': 48, 'min_samples_leaf': 10}. Best is trial 19 with value: 0.8610056833445139.\u001b[0m\n",
      "\u001b[32m[I 2022-12-08 18:32:12,211]\u001b[0m Trial 29 finished with value: 0.8450054252153203 and parameters: {'criterion': 'gini', 'max_depth': 18, 'n_estimators': 367, 'min_samples_split': 44, 'min_samples_leaf': 15}. Best is trial 19 with value: 0.8610056833445139.\u001b[0m\n",
      "\u001b[32m[I 2022-12-08 18:32:13,000]\u001b[0m Trial 30 finished with value: 0.8629986808397603 and parameters: {'criterion': 'gini', 'max_depth': 29, 'n_estimators': 342, 'min_samples_split': 31, 'min_samples_leaf': 49}. Best is trial 30 with value: 0.8629986808397603.\u001b[0m\n"
     ]
    },
    {
     "name": "stderr",
     "output_type": "stream",
     "text": [
      "\u001b[32m[I 2022-12-08 18:32:13,767]\u001b[0m Trial 31 finished with value: 0.8564936750843798 and parameters: {'criterion': 'gini', 'max_depth': 29, 'n_estimators': 338, 'min_samples_split': 30, 'min_samples_leaf': 29}. Best is trial 30 with value: 0.8629986808397603.\u001b[0m\n",
      "\u001b[32m[I 2022-12-08 18:32:14,507]\u001b[0m Trial 32 finished with value: 0.8299949124536831 and parameters: {'criterion': 'gini', 'max_depth': 24, 'n_estimators': 315, 'min_samples_split': 40, 'min_samples_leaf': 1}. Best is trial 30 with value: 0.8629986808397603.\u001b[0m\n",
      "\u001b[32m[I 2022-12-08 18:32:15,280]\u001b[0m Trial 33 finished with value: 0.8419994207100654 and parameters: {'criterion': 'gini', 'max_depth': 30, 'n_estimators': 345, 'min_samples_split': 30, 'min_samples_leaf': 47}. Best is trial 30 with value: 0.8629986808397603.\u001b[0m\n",
      "\u001b[32m[I 2022-12-08 18:32:16,071]\u001b[0m Trial 34 finished with value: 0.8449979214596905 and parameters: {'criterion': 'gini', 'max_depth': 15, 'n_estimators': 366, 'min_samples_split': 52, 'min_samples_leaf': 60}. Best is trial 30 with value: 0.8629986808397603.\u001b[0m\n",
      "\u001b[32m[I 2022-12-08 18:32:16,796]\u001b[0m Trial 35 finished with value: 0.8350051700876288 and parameters: {'criterion': 'gini', 'max_depth': 20, 'n_estimators': 314, 'min_samples_split': 77, 'min_samples_leaf': 14}. Best is trial 30 with value: 0.8629986808397603.\u001b[0m\n",
      "\u001b[32m[I 2022-12-08 18:32:17,549]\u001b[0m Trial 36 finished with value: 0.8315076695886292 and parameters: {'criterion': 'gini', 'max_depth': 12, 'n_estimators': 354, 'min_samples_split': 12, 'min_samples_leaf': 41}. Best is trial 30 with value: 0.8629986808397603.\u001b[0m\n",
      "\u001b[32m[I 2022-12-08 18:32:18,277]\u001b[0m Trial 37 finished with value: 0.8505026765896332 and parameters: {'criterion': 'gini', 'max_depth': 28, 'n_estimators': 320, 'min_samples_split': 43, 'min_samples_leaf': 51}. Best is trial 30 with value: 0.8629986808397603.\u001b[0m\n",
      "\u001b[32m[I 2022-12-08 18:32:19,360]\u001b[0m Trial 38 finished with value: 0.8435054244649448 and parameters: {'criterion': 'entropy', 'max_depth': 34, 'n_estimators': 426, 'min_samples_split': 61, 'min_samples_leaf': 26}. Best is trial 30 with value: 0.8629986808397603.\u001b[0m\n",
      "\u001b[32m[I 2022-12-08 18:32:20,188]\u001b[0m Trial 39 finished with value: 0.8409879144511828 and parameters: {'criterion': 'gini', 'max_depth': 18, 'n_estimators': 378, 'min_samples_split': 68, 'min_samples_leaf': 35}. Best is trial 30 with value: 0.8629986808397603.\u001b[0m\n",
      "\u001b[32m[I 2022-12-08 18:32:21,035]\u001b[0m Trial 40 finished with value: 0.8404964184574379 and parameters: {'criterion': 'entropy', 'max_depth': 13, 'n_estimators': 340, 'min_samples_split': 72, 'min_samples_leaf': 58}. Best is trial 30 with value: 0.8629986808397603.\u001b[0m\n",
      "\u001b[32m[I 2022-12-08 18:32:22,042]\u001b[0m Trial 41 finished with value: 0.8384974179576878 and parameters: {'criterion': 'gini', 'max_depth': 33, 'n_estimators': 472, 'min_samples_split': 85, 'min_samples_leaf': 79}. Best is trial 30 with value: 0.8629986808397603.\u001b[0m\n",
      "\u001b[32m[I 2022-12-08 18:32:22,757]\u001b[0m Trial 42 finished with value: 0.8500014257135696 and parameters: {'criterion': 'gini', 'max_depth': 38, 'n_estimators': 306, 'min_samples_split': 10, 'min_samples_leaf': 100}. Best is trial 30 with value: 0.8629986808397603.\u001b[0m\n",
      "\u001b[32m[I 2022-12-08 18:32:23,557]\u001b[0m Trial 43 finished with value: 0.844501172837005 and parameters: {'criterion': 'gini', 'max_depth': 10, 'n_estimators': 402, 'min_samples_split': 25, 'min_samples_leaf': 67}. Best is trial 30 with value: 0.8629986808397603.\u001b[0m\n",
      "\u001b[32m[I 2022-12-08 18:32:24,360]\u001b[0m Trial 44 finished with value: 0.851996674335505 and parameters: {'criterion': 'gini', 'max_depth': 27, 'n_estimators': 357, 'min_samples_split': 35, 'min_samples_leaf': 90}. Best is trial 30 with value: 0.8629986808397603.\u001b[0m\n",
      "\u001b[32m[I 2022-12-08 18:32:25,112]\u001b[0m Trial 45 finished with value: 0.8610011810911361 and parameters: {'criterion': 'gini', 'max_depth': 31, 'n_estimators': 336, 'min_samples_split': 16, 'min_samples_leaf': 78}. Best is trial 30 with value: 0.8629986808397603.\u001b[0m\n",
      "\u001b[32m[I 2022-12-08 18:32:25,950]\u001b[0m Trial 46 finished with value: 0.8515006760883822 and parameters: {'criterion': 'entropy', 'max_depth': 31, 'n_estimators': 335, 'min_samples_split': 17, 'min_samples_leaf': 94}. Best is trial 30 with value: 0.8629986808397603.\u001b[0m\n",
      "\u001b[32m[I 2022-12-08 18:32:26,716]\u001b[0m Trial 47 finished with value: 0.8479956718337528 and parameters: {'criterion': 'gini', 'max_depth': 15, 'n_estimators': 349, 'min_samples_split': 50, 'min_samples_leaf': 76}. Best is trial 30 with value: 0.8629986808397603.\u001b[0m\n",
      "\u001b[32m[I 2022-12-08 18:32:27,442]\u001b[0m Trial 48 finished with value: 0.850506428467448 and parameters: {'criterion': 'gini', 'max_depth': 22, 'n_estimators': 323, 'min_samples_split': 6, 'min_samples_leaf': 34}. Best is trial 30 with value: 0.8629986808397603.\u001b[0m\n",
      "\u001b[32m[I 2022-12-08 18:32:28,157]\u001b[0m Trial 49 finished with value: 0.8415041728385058 and parameters: {'criterion': 'gini', 'max_depth': 25, 'n_estimators': 308, 'min_samples_split': 27, 'min_samples_leaf': 66}. Best is trial 30 with value: 0.8629986808397603.\u001b[0m\n",
      "\u001b[32m[I 2022-12-08 18:32:29,241]\u001b[0m Trial 50 finished with value: 0.8315024169596884 and parameters: {'criterion': 'entropy', 'max_depth': 32, 'n_estimators': 398, 'min_samples_split': 15, 'min_samples_leaf': 88}. Best is trial 30 with value: 0.8629986808397603.\u001b[0m\n",
      "\u001b[32m[I 2022-12-08 18:32:30,306]\u001b[0m Trial 51 finished with value: 0.8500059279669475 and parameters: {'criterion': 'gini', 'max_depth': 36, 'n_estimators': 499, 'min_samples_split': 2, 'min_samples_leaf': 80}. Best is trial 30 with value: 0.8629986808397603.\u001b[0m\n",
      "\u001b[32m[I 2022-12-08 18:32:31,404]\u001b[0m Trial 52 finished with value: 0.8484999242120681 and parameters: {'criterion': 'gini', 'max_depth': 40, 'n_estimators': 478, 'min_samples_split': 20, 'min_samples_leaf': 73}. Best is trial 30 with value: 0.8629986808397603.\u001b[0m\n",
      "\u001b[32m[I 2022-12-08 18:32:32,389]\u001b[0m Trial 53 finished with value: 0.8374994184589387 and parameters: {'criterion': 'gini', 'max_depth': 36, 'n_estimators': 462, 'min_samples_split': 7, 'min_samples_leaf': 96}. Best is trial 30 with value: 0.8629986808397603.\u001b[0m\n",
      "\u001b[32m[I 2022-12-08 18:32:33,320]\u001b[0m Trial 54 finished with value: 0.8375099237168202 and parameters: {'criterion': 'gini', 'max_depth': 17, 'n_estimators': 435, 'min_samples_split': 60, 'min_samples_leaf': 85}. Best is trial 30 with value: 0.8629986808397603.\u001b[0m\n",
      "\u001b[32m[I 2022-12-08 18:32:34,005]\u001b[0m Trial 55 finished with value: 0.8420046733390062 and parameters: {'criterion': 'gini', 'max_depth': 28, 'n_estimators': 300, 'min_samples_split': 33, 'min_samples_leaf': 53}. Best is trial 30 with value: 0.8629986808397603.\u001b[0m\n",
      "\u001b[32m[I 2022-12-08 18:32:34,967]\u001b[0m Trial 56 finished with value: 0.8515021768395082 and parameters: {'criterion': 'gini', 'max_depth': 19, 'n_estimators': 450, 'min_samples_split': 0, 'min_samples_leaf': 17}. Best is trial 30 with value: 0.8629986808397603.\u001b[0m\n",
      "\u001b[32m[I 2022-12-08 18:32:35,685]\u001b[0m Trial 57 finished with value: 0.8460019239629434 and parameters: {'criterion': 'gini', 'max_depth': 35, 'n_estimators': 319, 'min_samples_split': 12, 'min_samples_leaf': 76}. Best is trial 30 with value: 0.8629986808397603.\u001b[0m\n",
      "\u001b[32m[I 2022-12-08 18:32:36,723]\u001b[0m Trial 58 finished with value: 0.8510001755878817 and parameters: {'criterion': 'gini', 'max_depth': 38, 'n_estimators': 489, 'min_samples_split': 22, 'min_samples_leaf': 70}. Best is trial 30 with value: 0.8629986808397603.\u001b[0m\n",
      "\u001b[32m[I 2022-12-08 18:32:37,462]\u001b[0m Trial 59 finished with value: 0.8484991738365052 and parameters: {'criterion': 'gini', 'max_depth': 16, 'n_estimators': 328, 'min_samples_split': 43, 'min_samples_leaf': 39}. Best is trial 30 with value: 0.8629986808397603.\u001b[0m\n",
      "\u001b[32m[I 2022-12-08 18:32:38,467]\u001b[0m Trial 60 finished with value: 0.852997675336506 and parameters: {'criterion': 'entropy', 'max_depth': 21, 'n_estimators': 378, 'min_samples_split': 53, 'min_samples_leaf': 64}. Best is trial 30 with value: 0.8629986808397603.\u001b[0m\n",
      "\u001b[32m[I 2022-12-08 18:32:39,224]\u001b[0m Trial 61 finished with value: 0.8400011705858782 and parameters: {'criterion': 'gini', 'max_depth': 29, 'n_estimators': 337, 'min_samples_split': 39, 'min_samples_leaf': 30}. Best is trial 30 with value: 0.8629986808397603.\u001b[0m\n"
     ]
    },
    {
     "name": "stderr",
     "output_type": "stream",
     "text": [
      "\u001b[32m[I 2022-12-08 18:32:40,024]\u001b[0m Trial 62 finished with value: 0.8410006708357533 and parameters: {'criterion': 'gini', 'max_depth': 26, 'n_estimators': 344, 'min_samples_split': 31, 'min_samples_leaf': 25}. Best is trial 30 with value: 0.8629986808397603.\u001b[0m\n",
      "\u001b[32m[I 2022-12-08 18:32:40,808]\u001b[0m Trial 63 finished with value: 0.8545014279646964 and parameters: {'criterion': 'gini', 'max_depth': 24, 'n_estimators': 357, 'min_samples_split': 27, 'min_samples_leaf': 11}. Best is trial 30 with value: 0.8629986808397603.\u001b[0m\n",
      "\u001b[32m[I 2022-12-08 18:32:41,521]\u001b[0m Trial 64 finished with value: 0.848989919454687 and parameters: {'criterion': 'gini', 'max_depth': 31, 'n_estimators': 308, 'min_samples_split': 47, 'min_samples_leaf': 5}. Best is trial 30 with value: 0.8629986808397603.\u001b[0m\n",
      "\u001b[32m[I 2022-12-08 18:32:42,247]\u001b[0m Trial 65 finished with value: 0.857999678839259 and parameters: {'criterion': 'gini', 'max_depth': 15, 'n_estimators': 329, 'min_samples_split': 19, 'min_samples_leaf': 46}. Best is trial 30 with value: 0.8629986808397603.\u001b[0m\n",
      "\u001b[32m[I 2022-12-08 18:32:42,994]\u001b[0m Trial 66 finished with value: 0.845014429722076 and parameters: {'criterion': 'gini', 'max_depth': 15, 'n_estimators': 331, 'min_samples_split': 17, 'min_samples_leaf': 47}. Best is trial 30 with value: 0.8629986808397603.\u001b[0m\n",
      "\u001b[32m[I 2022-12-08 18:32:43,689]\u001b[0m Trial 67 finished with value: 0.8599926763345054 and parameters: {'criterion': 'gini', 'max_depth': 13, 'n_estimators': 318, 'min_samples_split': 24, 'min_samples_leaf': 55}. Best is trial 30 with value: 0.8629986808397603.\u001b[0m\n",
      "\u001b[32m[I 2022-12-08 18:32:44,382]\u001b[0m Trial 68 finished with value: 0.8504959232095665 and parameters: {'criterion': 'gini', 'max_depth': 11, 'n_estimators': 317, 'min_samples_split': 23, 'min_samples_leaf': 58}. Best is trial 30 with value: 0.8629986808397603.\u001b[0m\n",
      "\u001b[32m[I 2022-12-08 18:32:45,100]\u001b[0m Trial 69 finished with value: 0.8605006805906356 and parameters: {'criterion': 'gini', 'max_depth': 13, 'n_estimators': 324, 'min_samples_split': 19, 'min_samples_leaf': 38}. Best is trial 30 with value: 0.8629986808397603.\u001b[0m\n",
      "\u001b[32m[I 2022-12-08 18:32:45,814]\u001b[0m Trial 70 finished with value: 0.8565086825956391 and parameters: {'criterion': 'gini', 'max_depth': 13, 'n_estimators': 323, 'min_samples_split': 58, 'min_samples_leaf': 38}. Best is trial 30 with value: 0.8629986808397603.\u001b[0m\n",
      "\u001b[32m[I 2022-12-08 18:32:46,547]\u001b[0m Trial 71 finished with value: 0.8569941755848802 and parameters: {'criterion': 'gini', 'max_depth': 13, 'n_estimators': 331, 'min_samples_split': 18, 'min_samples_leaf': 43}. Best is trial 30 with value: 0.8629986808397603.\u001b[0m\n",
      "\u001b[32m[I 2022-12-08 18:32:47,423]\u001b[0m Trial 72 finished with value: 0.8499946723335029 and parameters: {'criterion': 'gini', 'max_depth': 14, 'n_estimators': 412, 'min_samples_split': 14, 'min_samples_leaf': 49}. Best is trial 30 with value: 0.8629986808397603.\u001b[0m\n",
      "\u001b[32m[I 2022-12-08 18:32:48,075]\u001b[0m Trial 73 finished with value: 0.8439961700831266 and parameters: {'criterion': 'gini', 'max_depth': 11, 'n_estimators': 308, 'min_samples_split': 25, 'min_samples_leaf': 55}. Best is trial 30 with value: 0.8629986808397603.\u001b[0m\n",
      "\u001b[32m[I 2022-12-08 18:32:48,793]\u001b[0m Trial 74 finished with value: 0.8365014189601897 and parameters: {'criterion': 'gini', 'max_depth': 18, 'n_estimators': 312, 'min_samples_split': 21, 'min_samples_leaf': 44}. Best is trial 30 with value: 0.8629986808397603.\u001b[0m\n",
      "\u001b[32m[I 2022-12-08 18:32:49,548]\u001b[0m Trial 75 finished with value: 0.8475079277178228 and parameters: {'criterion': 'gini', 'max_depth': 15, 'n_estimators': 342, 'min_samples_split': 9, 'min_samples_leaf': 23}. Best is trial 30 with value: 0.8629986808397603.\u001b[0m\n",
      "\u001b[32m[I 2022-12-08 18:32:50,256]\u001b[0m Trial 76 finished with value: 0.8505019262140702 and parameters: {'criterion': 'gini', 'max_depth': 12, 'n_estimators': 327, 'min_samples_split': 65, 'min_samples_leaf': 51}. Best is trial 30 with value: 0.8629986808397603.\u001b[0m\n",
      "\u001b[32m[I 2022-12-08 18:32:51,001]\u001b[0m Trial 77 finished with value: 0.8385004194599398 and parameters: {'criterion': 'gini', 'max_depth': 17, 'n_estimators': 334, 'min_samples_split': 36, 'min_samples_leaf': 38}. Best is trial 30 with value: 0.8629986808397603.\u001b[0m\n",
      "\u001b[32m[I 2022-12-08 18:32:51,893]\u001b[0m Trial 78 finished with value: 0.8675024349687019 and parameters: {'criterion': 'gini', 'max_depth': 14, 'n_estimators': 424, 'min_samples_split': 27, 'min_samples_leaf': 27}. Best is trial 78 with value: 0.8675024349687019.\u001b[0m\n",
      "\u001b[32m[I 2022-12-08 18:32:52,917]\u001b[0m Trial 79 finished with value: 0.8399936668302486 and parameters: {'criterion': 'entropy', 'max_depth': 11, 'n_estimators': 427, 'min_samples_split': 32, 'min_samples_leaf': 20}. Best is trial 78 with value: 0.8675024349687019.\u001b[0m\n",
      "\u001b[32m[I 2022-12-08 18:32:53,826]\u001b[0m Trial 80 finished with value: 0.8484999242120681 and parameters: {'criterion': 'gini', 'max_depth': 16, 'n_estimators': 417, 'min_samples_split': 27, 'min_samples_leaf': 32}. Best is trial 78 with value: 0.8675024349687019.\u001b[0m\n",
      "\u001b[32m[I 2022-12-08 18:32:54,690]\u001b[0m Trial 81 finished with value: 0.8470006738372556 and parameters: {'criterion': 'gini', 'max_depth': 14, 'n_estimators': 407, 'min_samples_split': 19, 'min_samples_leaf': 27}. Best is trial 78 with value: 0.8675024349687019.\u001b[0m\n",
      "\u001b[32m[I 2022-12-08 18:32:55,575]\u001b[0m Trial 82 finished with value: 0.8449986718352536 and parameters: {'criterion': 'gini', 'max_depth': 13, 'n_estimators': 425, 'min_samples_split': 24, 'min_samples_leaf': 35}. Best is trial 78 with value: 0.8675024349687019.\u001b[0m\n",
      "\u001b[32m[I 2022-12-08 18:32:56,501]\u001b[0m Trial 83 finished with value: 0.8549981765873819 and parameters: {'criterion': 'gini', 'max_depth': 14, 'n_estimators': 441, 'min_samples_split': 13, 'min_samples_leaf': 18}. Best is trial 78 with value: 0.8675024349687019.\u001b[0m\n",
      "\u001b[32m[I 2022-12-08 18:32:57,215]\u001b[0m Trial 84 finished with value: 0.8459996728362545 and parameters: {'criterion': 'gini', 'max_depth': 16, 'n_estimators': 318, 'min_samples_split': 27, 'min_samples_leaf': 24}. Best is trial 78 with value: 0.8675024349687019.\u001b[0m\n",
      "\u001b[32m[I 2022-12-08 18:32:57,949]\u001b[0m Trial 85 finished with value: 0.8439939189564377 and parameters: {'criterion': 'gini', 'max_depth': 15, 'n_estimators': 324, 'min_samples_split': 53, 'min_samples_leaf': 28}. Best is trial 78 with value: 0.8675024349687019.\u001b[0m\n",
      "\u001b[32m[I 2022-12-08 18:32:58,733]\u001b[0m Trial 86 finished with value: 0.8624981803392598 and parameters: {'criterion': 'gini', 'max_depth': 18, 'n_estimators': 351, 'min_samples_split': 33, 'min_samples_leaf': 41}. Best is trial 78 with value: 0.8675024349687019.\u001b[0m\n",
      "\u001b[32m[I 2022-12-08 18:32:59,450]\u001b[0m Trial 87 finished with value: 0.8475011743377561 and parameters: {'criterion': 'gini', 'max_depth': 19, 'n_estimators': 305, 'min_samples_split': 41, 'min_samples_leaf': 32}. Best is trial 78 with value: 0.8675024349687019.\u001b[0m\n",
      "\u001b[32m[I 2022-12-08 18:33:00,261]\u001b[0m Trial 88 finished with value: 0.840005672839256 and parameters: {'criterion': 'gini', 'max_depth': 18, 'n_estimators': 355, 'min_samples_split': 34, 'min_samples_leaf': 41}. Best is trial 78 with value: 0.8675024349687019.\u001b[0m\n",
      "\u001b[32m[I 2022-12-08 18:33:01,052]\u001b[0m Trial 89 finished with value: 0.8454931693312503 and parameters: {'criterion': 'gini', 'max_depth': 21, 'n_estimators': 352, 'min_samples_split': 29, 'min_samples_leaf': 82}. Best is trial 78 with value: 0.8675024349687019.\u001b[0m\n",
      "\u001b[32m[I 2022-12-08 18:33:01,856]\u001b[0m Trial 90 finished with value: 0.8460011735873806 and parameters: {'criterion': 'gini', 'max_depth': 20, 'n_estimators': 362, 'min_samples_split': 37, 'min_samples_leaf': 14}. Best is trial 78 with value: 0.8675024349687019.\u001b[0m\n",
      "\u001b[32m[I 2022-12-08 18:33:02,611]\u001b[0m Trial 91 finished with value: 0.8645024334679506 and parameters: {'criterion': 'gini', 'max_depth': 17, 'n_estimators': 339, 'min_samples_split': 21, 'min_samples_leaf': 48}. Best is trial 78 with value: 0.8675024349687019.\u001b[0m\n",
      "\u001b[32m[I 2022-12-08 18:33:03,378]\u001b[0m Trial 92 finished with value: 0.853997925961944 and parameters: {'criterion': 'gini', 'max_depth': 18, 'n_estimators': 344, 'min_samples_split': 25, 'min_samples_leaf': 49}. Best is trial 78 with value: 0.8675024349687019.\u001b[0m\n"
     ]
    },
    {
     "name": "stderr",
     "output_type": "stream",
     "text": [
      "\u001b[32m[I 2022-12-08 18:33:04,140]\u001b[0m Trial 93 finished with value: 0.8349999174586881 and parameters: {'criterion': 'gini', 'max_depth': 17, 'n_estimators': 339, 'min_samples_split': 21, 'min_samples_leaf': 21}. Best is trial 78 with value: 0.8675024349687019.\u001b[0m\n",
      "\u001b[32m[I 2022-12-08 18:33:04,913]\u001b[0m Trial 94 finished with value: 0.8440029234631933 and parameters: {'criterion': 'gini', 'max_depth': 17, 'n_estimators': 348, 'min_samples_split': 49, 'min_samples_leaf': 55}. Best is trial 78 with value: 0.8675024349687019.\u001b[0m\n",
      "\u001b[32m[I 2022-12-08 18:33:05,612]\u001b[0m Trial 95 finished with value: 0.8544976760868815 and parameters: {'criterion': 'gini', 'max_depth': 19, 'n_estimators': 312, 'min_samples_split': 29, 'min_samples_leaf': 41}. Best is trial 78 with value: 0.8675024349687019.\u001b[0m\n",
      "\u001b[32m[I 2022-12-08 18:33:06,740]\u001b[0m Trial 96 finished with value: 0.8369929149539345 and parameters: {'criterion': 'entropy', 'max_depth': 23, 'n_estimators': 432, 'min_samples_split': 32, 'min_samples_leaf': 36}. Best is trial 78 with value: 0.8675024349687019.\u001b[0m\n",
      "\u001b[32m[I 2022-12-08 18:33:07,481]\u001b[0m Trial 97 finished with value: 0.8514991753372563 and parameters: {'criterion': 'gini', 'max_depth': 16, 'n_estimators': 334, 'min_samples_split': 60, 'min_samples_leaf': 45}. Best is trial 78 with value: 0.8675024349687019.\u001b[0m\n",
      "\u001b[32m[I 2022-12-08 18:33:08,196]\u001b[0m Trial 98 finished with value: 0.8444959202080641 and parameters: {'criterion': 'gini', 'max_depth': 13, 'n_estimators': 321, 'min_samples_split': 45, 'min_samples_leaf': 52}. Best is trial 78 with value: 0.8675024349687019.\u001b[0m\n",
      "\u001b[32m[I 2022-12-08 18:33:09,043]\u001b[0m Trial 99 finished with value: 0.8410044227135681 and parameters: {'criterion': 'gini', 'max_depth': 14, 'n_estimators': 395, 'min_samples_split': 15, 'min_samples_leaf': 16}. Best is trial 78 with value: 0.8675024349687019.\u001b[0m\n"
     ]
    }
   ],
   "source": [
    "def objective(trial):\n",
    "    \n",
    "    # load training data\n",
    "    Xtr_loadpath = 'Xtr.csv'\n",
    "    Xts_loadpath = 'Xts.csv'\n",
    "    ytr_loadpath = 'ytr.csv'\n",
    "    Xtr = np.loadtxt(Xtr_loadpath, delimiter=\",\")\n",
    "    Xts = np.loadtxt(Xts_loadpath, delimiter=\",\")\n",
    "    ytr = np.loadtxt(ytr_loadpath, delimiter=\",\")\n",
    "    \n",
    "    x_train,x_test,y_train,y_test = train_test_split(Xtr,ytr,test_size=0.2,random_state = random.randint(0,1000))\n",
    "    \n",
    "    \n",
    "    \n",
    "    criterion = trial.suggest_categorical(\"criterion\", [\"gini\", \"entropy\"])\n",
    "    max_depth = trial.suggest_int(\"max_depth\", 10, 40, log = True)\n",
    "    n_estimators = trial.suggest_int(\"n_estimators\", 300, 500)\n",
    "    min_samples_split = trial.suggest_int(\"min_samples_split\", 0, 100)\n",
    "    min_samples_leaf = trial.suggest_int(\"min_samples_leaf\", 0, 100)\n",
    "    \n",
    "    rf = sklearn.ensemble.RandomForestClassifier(criterion = criterion,\n",
    "                                                max_depth = max_depth,\n",
    "                                                n_estimators = n_estimators)\n",
    "    score = cross_val_score(rf, x_test, y_test, n_jobs = -1, cv = 3)\n",
    "    accuracy = score.mean()\n",
    "    return accuracy\n",
    "\n",
    "study = optuna.create_study(direction = \"maximize\")\n",
    "study.optimize(objective, n_trials = 100)"
   ]
  },
  {
   "cell_type": "code",
   "execution_count": 18,
   "id": "106e835d",
   "metadata": {},
   "outputs": [
    {
     "name": "stdout",
     "output_type": "stream",
     "text": [
      "Accuracy: 0.8675024349687019\n",
      "Best hyperparameters: {'criterion': 'gini', 'max_depth': 14, 'n_estimators': 424, 'min_samples_split': 27, 'min_samples_leaf': 27}\n"
     ]
    }
   ],
   "source": [
    "trial = study.best_trial\n",
    "print('Accuracy: {}'.format(trial.value))\n",
    "print(\"Best hyperparameters: {}\".format(trial.params))"
   ]
  },
  {
   "cell_type": "code",
   "execution_count": 19,
   "id": "527ab38f",
   "metadata": {},
   "outputs": [
    {
     "data": {
      "application/vnd.plotly.v1+json": {
       "config": {
        "plotlyServerURL": "https://plot.ly"
       },
       "data": [
        {
         "mode": "markers",
         "name": "Objective Value",
         "type": "scatter",
         "x": [
          0,
          1,
          2,
          3,
          4,
          5,
          6,
          7,
          8,
          9,
          10,
          11,
          12,
          13,
          14,
          15,
          16,
          17,
          18,
          19,
          20,
          21,
          22,
          23,
          24,
          25,
          26,
          27,
          28,
          29,
          30,
          31,
          32,
          33,
          34,
          35,
          36,
          37,
          38,
          39,
          40,
          41,
          42,
          43,
          44,
          45,
          46,
          47,
          48,
          49,
          50,
          51,
          52,
          53,
          54,
          55,
          56,
          57,
          58,
          59,
          60,
          61,
          62,
          63,
          64,
          65,
          66,
          67,
          68,
          69,
          70,
          71,
          72,
          73,
          74,
          75,
          76,
          77,
          78,
          79,
          80,
          81,
          82,
          83,
          84,
          85,
          86,
          87,
          88,
          89,
          90,
          91,
          92,
          93,
          94,
          95,
          96,
          97,
          98,
          99
         ],
         "y": [
          0.8525024274649463,
          0.8420009214611913,
          0.8554971763367566,
          0.8330024177100639,
          0.8450061755908833,
          0.8450061755908833,
          0.8575021798410104,
          0.8504951728340034,
          0.8410036723380051,
          0.8525024274649463,
          0.8554889222055638,
          0.8435046740893818,
          0.8475011743377561,
          0.8515014264639452,
          0.8410006708357533,
          0.8464994229611921,
          0.8589901745823786,
          0.8459989224606916,
          0.85299617458538,
          0.8610056833445139,
          0.8425021723372549,
          0.8594944269606938,
          0.8554934244589417,
          0.8324959142050595,
          0.8345039192115654,
          0.8539964252108181,
          0.8510001755878817,
          0.8514939227083156,
          0.8455066760913837,
          0.8450054252153203,
          0.8629986808397603,
          0.8564936750843798,
          0.8299949124536831,
          0.8419994207100654,
          0.8449979214596905,
          0.8350051700876288,
          0.8315076695886292,
          0.8505026765896332,
          0.8435054244649448,
          0.8409879144511828,
          0.8404964184574379,
          0.8384974179576878,
          0.8500014257135696,
          0.844501172837005,
          0.851996674335505,
          0.8610011810911361,
          0.8515006760883822,
          0.8479956718337528,
          0.850506428467448,
          0.8415041728385058,
          0.8315024169596884,
          0.8500059279669475,
          0.8484999242120681,
          0.8374994184589387,
          0.8375099237168202,
          0.8420046733390062,
          0.8515021768395082,
          0.8460019239629434,
          0.8510001755878817,
          0.8484991738365052,
          0.852997675336506,
          0.8400011705858782,
          0.8410006708357533,
          0.8545014279646964,
          0.848989919454687,
          0.857999678839259,
          0.845014429722076,
          0.8599926763345054,
          0.8504959232095665,
          0.8605006805906356,
          0.8565086825956391,
          0.8569941755848802,
          0.8499946723335029,
          0.8439961700831266,
          0.8365014189601897,
          0.8475079277178228,
          0.8505019262140702,
          0.8385004194599398,
          0.8675024349687019,
          0.8399936668302486,
          0.8484999242120681,
          0.8470006738372556,
          0.8449986718352536,
          0.8549981765873819,
          0.8459996728362545,
          0.8439939189564377,
          0.8624981803392598,
          0.8475011743377561,
          0.840005672839256,
          0.8454931693312503,
          0.8460011735873806,
          0.8645024334679506,
          0.853997925961944,
          0.8349999174586881,
          0.8440029234631933,
          0.8544976760868815,
          0.8369929149539345,
          0.8514991753372563,
          0.8444959202080641,
          0.8410044227135681
         ]
        },
        {
         "name": "Best Value",
         "type": "scatter",
         "x": [
          0,
          1,
          2,
          3,
          4,
          5,
          6,
          7,
          8,
          9,
          10,
          11,
          12,
          13,
          14,
          15,
          16,
          17,
          18,
          19,
          20,
          21,
          22,
          23,
          24,
          25,
          26,
          27,
          28,
          29,
          30,
          31,
          32,
          33,
          34,
          35,
          36,
          37,
          38,
          39,
          40,
          41,
          42,
          43,
          44,
          45,
          46,
          47,
          48,
          49,
          50,
          51,
          52,
          53,
          54,
          55,
          56,
          57,
          58,
          59,
          60,
          61,
          62,
          63,
          64,
          65,
          66,
          67,
          68,
          69,
          70,
          71,
          72,
          73,
          74,
          75,
          76,
          77,
          78,
          79,
          80,
          81,
          82,
          83,
          84,
          85,
          86,
          87,
          88,
          89,
          90,
          91,
          92,
          93,
          94,
          95,
          96,
          97,
          98,
          99
         ],
         "y": [
          0.8525024274649463,
          0.8525024274649463,
          0.8554971763367566,
          0.8554971763367566,
          0.8554971763367566,
          0.8554971763367566,
          0.8575021798410104,
          0.8575021798410104,
          0.8575021798410104,
          0.8575021798410104,
          0.8575021798410104,
          0.8575021798410104,
          0.8575021798410104,
          0.8575021798410104,
          0.8575021798410104,
          0.8575021798410104,
          0.8589901745823786,
          0.8589901745823786,
          0.8589901745823786,
          0.8610056833445139,
          0.8610056833445139,
          0.8610056833445139,
          0.8610056833445139,
          0.8610056833445139,
          0.8610056833445139,
          0.8610056833445139,
          0.8610056833445139,
          0.8610056833445139,
          0.8610056833445139,
          0.8610056833445139,
          0.8629986808397603,
          0.8629986808397603,
          0.8629986808397603,
          0.8629986808397603,
          0.8629986808397603,
          0.8629986808397603,
          0.8629986808397603,
          0.8629986808397603,
          0.8629986808397603,
          0.8629986808397603,
          0.8629986808397603,
          0.8629986808397603,
          0.8629986808397603,
          0.8629986808397603,
          0.8629986808397603,
          0.8629986808397603,
          0.8629986808397603,
          0.8629986808397603,
          0.8629986808397603,
          0.8629986808397603,
          0.8629986808397603,
          0.8629986808397603,
          0.8629986808397603,
          0.8629986808397603,
          0.8629986808397603,
          0.8629986808397603,
          0.8629986808397603,
          0.8629986808397603,
          0.8629986808397603,
          0.8629986808397603,
          0.8629986808397603,
          0.8629986808397603,
          0.8629986808397603,
          0.8629986808397603,
          0.8629986808397603,
          0.8629986808397603,
          0.8629986808397603,
          0.8629986808397603,
          0.8629986808397603,
          0.8629986808397603,
          0.8629986808397603,
          0.8629986808397603,
          0.8629986808397603,
          0.8629986808397603,
          0.8629986808397603,
          0.8629986808397603,
          0.8629986808397603,
          0.8629986808397603,
          0.8675024349687019,
          0.8675024349687019,
          0.8675024349687019,
          0.8675024349687019,
          0.8675024349687019,
          0.8675024349687019,
          0.8675024349687019,
          0.8675024349687019,
          0.8675024349687019,
          0.8675024349687019,
          0.8675024349687019,
          0.8675024349687019,
          0.8675024349687019,
          0.8675024349687019,
          0.8675024349687019,
          0.8675024349687019,
          0.8675024349687019,
          0.8675024349687019,
          0.8675024349687019,
          0.8675024349687019,
          0.8675024349687019,
          0.8675024349687019
         ]
        }
       ],
       "layout": {
        "template": {
         "data": {
          "bar": [
           {
            "error_x": {
             "color": "#2a3f5f"
            },
            "error_y": {
             "color": "#2a3f5f"
            },
            "marker": {
             "line": {
              "color": "#E5ECF6",
              "width": 0.5
             },
             "pattern": {
              "fillmode": "overlay",
              "size": 10,
              "solidity": 0.2
             }
            },
            "type": "bar"
           }
          ],
          "barpolar": [
           {
            "marker": {
             "line": {
              "color": "#E5ECF6",
              "width": 0.5
             },
             "pattern": {
              "fillmode": "overlay",
              "size": 10,
              "solidity": 0.2
             }
            },
            "type": "barpolar"
           }
          ],
          "carpet": [
           {
            "aaxis": {
             "endlinecolor": "#2a3f5f",
             "gridcolor": "white",
             "linecolor": "white",
             "minorgridcolor": "white",
             "startlinecolor": "#2a3f5f"
            },
            "baxis": {
             "endlinecolor": "#2a3f5f",
             "gridcolor": "white",
             "linecolor": "white",
             "minorgridcolor": "white",
             "startlinecolor": "#2a3f5f"
            },
            "type": "carpet"
           }
          ],
          "choropleth": [
           {
            "colorbar": {
             "outlinewidth": 0,
             "ticks": ""
            },
            "type": "choropleth"
           }
          ],
          "contour": [
           {
            "colorbar": {
             "outlinewidth": 0,
             "ticks": ""
            },
            "colorscale": [
             [
              0,
              "#0d0887"
             ],
             [
              0.1111111111111111,
              "#46039f"
             ],
             [
              0.2222222222222222,
              "#7201a8"
             ],
             [
              0.3333333333333333,
              "#9c179e"
             ],
             [
              0.4444444444444444,
              "#bd3786"
             ],
             [
              0.5555555555555556,
              "#d8576b"
             ],
             [
              0.6666666666666666,
              "#ed7953"
             ],
             [
              0.7777777777777778,
              "#fb9f3a"
             ],
             [
              0.8888888888888888,
              "#fdca26"
             ],
             [
              1,
              "#f0f921"
             ]
            ],
            "type": "contour"
           }
          ],
          "contourcarpet": [
           {
            "colorbar": {
             "outlinewidth": 0,
             "ticks": ""
            },
            "type": "contourcarpet"
           }
          ],
          "heatmap": [
           {
            "colorbar": {
             "outlinewidth": 0,
             "ticks": ""
            },
            "colorscale": [
             [
              0,
              "#0d0887"
             ],
             [
              0.1111111111111111,
              "#46039f"
             ],
             [
              0.2222222222222222,
              "#7201a8"
             ],
             [
              0.3333333333333333,
              "#9c179e"
             ],
             [
              0.4444444444444444,
              "#bd3786"
             ],
             [
              0.5555555555555556,
              "#d8576b"
             ],
             [
              0.6666666666666666,
              "#ed7953"
             ],
             [
              0.7777777777777778,
              "#fb9f3a"
             ],
             [
              0.8888888888888888,
              "#fdca26"
             ],
             [
              1,
              "#f0f921"
             ]
            ],
            "type": "heatmap"
           }
          ],
          "heatmapgl": [
           {
            "colorbar": {
             "outlinewidth": 0,
             "ticks": ""
            },
            "colorscale": [
             [
              0,
              "#0d0887"
             ],
             [
              0.1111111111111111,
              "#46039f"
             ],
             [
              0.2222222222222222,
              "#7201a8"
             ],
             [
              0.3333333333333333,
              "#9c179e"
             ],
             [
              0.4444444444444444,
              "#bd3786"
             ],
             [
              0.5555555555555556,
              "#d8576b"
             ],
             [
              0.6666666666666666,
              "#ed7953"
             ],
             [
              0.7777777777777778,
              "#fb9f3a"
             ],
             [
              0.8888888888888888,
              "#fdca26"
             ],
             [
              1,
              "#f0f921"
             ]
            ],
            "type": "heatmapgl"
           }
          ],
          "histogram": [
           {
            "marker": {
             "pattern": {
              "fillmode": "overlay",
              "size": 10,
              "solidity": 0.2
             }
            },
            "type": "histogram"
           }
          ],
          "histogram2d": [
           {
            "colorbar": {
             "outlinewidth": 0,
             "ticks": ""
            },
            "colorscale": [
             [
              0,
              "#0d0887"
             ],
             [
              0.1111111111111111,
              "#46039f"
             ],
             [
              0.2222222222222222,
              "#7201a8"
             ],
             [
              0.3333333333333333,
              "#9c179e"
             ],
             [
              0.4444444444444444,
              "#bd3786"
             ],
             [
              0.5555555555555556,
              "#d8576b"
             ],
             [
              0.6666666666666666,
              "#ed7953"
             ],
             [
              0.7777777777777778,
              "#fb9f3a"
             ],
             [
              0.8888888888888888,
              "#fdca26"
             ],
             [
              1,
              "#f0f921"
             ]
            ],
            "type": "histogram2d"
           }
          ],
          "histogram2dcontour": [
           {
            "colorbar": {
             "outlinewidth": 0,
             "ticks": ""
            },
            "colorscale": [
             [
              0,
              "#0d0887"
             ],
             [
              0.1111111111111111,
              "#46039f"
             ],
             [
              0.2222222222222222,
              "#7201a8"
             ],
             [
              0.3333333333333333,
              "#9c179e"
             ],
             [
              0.4444444444444444,
              "#bd3786"
             ],
             [
              0.5555555555555556,
              "#d8576b"
             ],
             [
              0.6666666666666666,
              "#ed7953"
             ],
             [
              0.7777777777777778,
              "#fb9f3a"
             ],
             [
              0.8888888888888888,
              "#fdca26"
             ],
             [
              1,
              "#f0f921"
             ]
            ],
            "type": "histogram2dcontour"
           }
          ],
          "mesh3d": [
           {
            "colorbar": {
             "outlinewidth": 0,
             "ticks": ""
            },
            "type": "mesh3d"
           }
          ],
          "parcoords": [
           {
            "line": {
             "colorbar": {
              "outlinewidth": 0,
              "ticks": ""
             }
            },
            "type": "parcoords"
           }
          ],
          "pie": [
           {
            "automargin": true,
            "type": "pie"
           }
          ],
          "scatter": [
           {
            "marker": {
             "colorbar": {
              "outlinewidth": 0,
              "ticks": ""
             }
            },
            "type": "scatter"
           }
          ],
          "scatter3d": [
           {
            "line": {
             "colorbar": {
              "outlinewidth": 0,
              "ticks": ""
             }
            },
            "marker": {
             "colorbar": {
              "outlinewidth": 0,
              "ticks": ""
             }
            },
            "type": "scatter3d"
           }
          ],
          "scattercarpet": [
           {
            "marker": {
             "colorbar": {
              "outlinewidth": 0,
              "ticks": ""
             }
            },
            "type": "scattercarpet"
           }
          ],
          "scattergeo": [
           {
            "marker": {
             "colorbar": {
              "outlinewidth": 0,
              "ticks": ""
             }
            },
            "type": "scattergeo"
           }
          ],
          "scattergl": [
           {
            "marker": {
             "colorbar": {
              "outlinewidth": 0,
              "ticks": ""
             }
            },
            "type": "scattergl"
           }
          ],
          "scattermapbox": [
           {
            "marker": {
             "colorbar": {
              "outlinewidth": 0,
              "ticks": ""
             }
            },
            "type": "scattermapbox"
           }
          ],
          "scatterpolar": [
           {
            "marker": {
             "colorbar": {
              "outlinewidth": 0,
              "ticks": ""
             }
            },
            "type": "scatterpolar"
           }
          ],
          "scatterpolargl": [
           {
            "marker": {
             "colorbar": {
              "outlinewidth": 0,
              "ticks": ""
             }
            },
            "type": "scatterpolargl"
           }
          ],
          "scatterternary": [
           {
            "marker": {
             "colorbar": {
              "outlinewidth": 0,
              "ticks": ""
             }
            },
            "type": "scatterternary"
           }
          ],
          "surface": [
           {
            "colorbar": {
             "outlinewidth": 0,
             "ticks": ""
            },
            "colorscale": [
             [
              0,
              "#0d0887"
             ],
             [
              0.1111111111111111,
              "#46039f"
             ],
             [
              0.2222222222222222,
              "#7201a8"
             ],
             [
              0.3333333333333333,
              "#9c179e"
             ],
             [
              0.4444444444444444,
              "#bd3786"
             ],
             [
              0.5555555555555556,
              "#d8576b"
             ],
             [
              0.6666666666666666,
              "#ed7953"
             ],
             [
              0.7777777777777778,
              "#fb9f3a"
             ],
             [
              0.8888888888888888,
              "#fdca26"
             ],
             [
              1,
              "#f0f921"
             ]
            ],
            "type": "surface"
           }
          ],
          "table": [
           {
            "cells": {
             "fill": {
              "color": "#EBF0F8"
             },
             "line": {
              "color": "white"
             }
            },
            "header": {
             "fill": {
              "color": "#C8D4E3"
             },
             "line": {
              "color": "white"
             }
            },
            "type": "table"
           }
          ]
         },
         "layout": {
          "annotationdefaults": {
           "arrowcolor": "#2a3f5f",
           "arrowhead": 0,
           "arrowwidth": 1
          },
          "autotypenumbers": "strict",
          "coloraxis": {
           "colorbar": {
            "outlinewidth": 0,
            "ticks": ""
           }
          },
          "colorscale": {
           "diverging": [
            [
             0,
             "#8e0152"
            ],
            [
             0.1,
             "#c51b7d"
            ],
            [
             0.2,
             "#de77ae"
            ],
            [
             0.3,
             "#f1b6da"
            ],
            [
             0.4,
             "#fde0ef"
            ],
            [
             0.5,
             "#f7f7f7"
            ],
            [
             0.6,
             "#e6f5d0"
            ],
            [
             0.7,
             "#b8e186"
            ],
            [
             0.8,
             "#7fbc41"
            ],
            [
             0.9,
             "#4d9221"
            ],
            [
             1,
             "#276419"
            ]
           ],
           "sequential": [
            [
             0,
             "#0d0887"
            ],
            [
             0.1111111111111111,
             "#46039f"
            ],
            [
             0.2222222222222222,
             "#7201a8"
            ],
            [
             0.3333333333333333,
             "#9c179e"
            ],
            [
             0.4444444444444444,
             "#bd3786"
            ],
            [
             0.5555555555555556,
             "#d8576b"
            ],
            [
             0.6666666666666666,
             "#ed7953"
            ],
            [
             0.7777777777777778,
             "#fb9f3a"
            ],
            [
             0.8888888888888888,
             "#fdca26"
            ],
            [
             1,
             "#f0f921"
            ]
           ],
           "sequentialminus": [
            [
             0,
             "#0d0887"
            ],
            [
             0.1111111111111111,
             "#46039f"
            ],
            [
             0.2222222222222222,
             "#7201a8"
            ],
            [
             0.3333333333333333,
             "#9c179e"
            ],
            [
             0.4444444444444444,
             "#bd3786"
            ],
            [
             0.5555555555555556,
             "#d8576b"
            ],
            [
             0.6666666666666666,
             "#ed7953"
            ],
            [
             0.7777777777777778,
             "#fb9f3a"
            ],
            [
             0.8888888888888888,
             "#fdca26"
            ],
            [
             1,
             "#f0f921"
            ]
           ]
          },
          "colorway": [
           "#636efa",
           "#EF553B",
           "#00cc96",
           "#ab63fa",
           "#FFA15A",
           "#19d3f3",
           "#FF6692",
           "#B6E880",
           "#FF97FF",
           "#FECB52"
          ],
          "font": {
           "color": "#2a3f5f"
          },
          "geo": {
           "bgcolor": "white",
           "lakecolor": "white",
           "landcolor": "#E5ECF6",
           "showlakes": true,
           "showland": true,
           "subunitcolor": "white"
          },
          "hoverlabel": {
           "align": "left"
          },
          "hovermode": "closest",
          "mapbox": {
           "style": "light"
          },
          "paper_bgcolor": "white",
          "plot_bgcolor": "#E5ECF6",
          "polar": {
           "angularaxis": {
            "gridcolor": "white",
            "linecolor": "white",
            "ticks": ""
           },
           "bgcolor": "#E5ECF6",
           "radialaxis": {
            "gridcolor": "white",
            "linecolor": "white",
            "ticks": ""
           }
          },
          "scene": {
           "xaxis": {
            "backgroundcolor": "#E5ECF6",
            "gridcolor": "white",
            "gridwidth": 2,
            "linecolor": "white",
            "showbackground": true,
            "ticks": "",
            "zerolinecolor": "white"
           },
           "yaxis": {
            "backgroundcolor": "#E5ECF6",
            "gridcolor": "white",
            "gridwidth": 2,
            "linecolor": "white",
            "showbackground": true,
            "ticks": "",
            "zerolinecolor": "white"
           },
           "zaxis": {
            "backgroundcolor": "#E5ECF6",
            "gridcolor": "white",
            "gridwidth": 2,
            "linecolor": "white",
            "showbackground": true,
            "ticks": "",
            "zerolinecolor": "white"
           }
          },
          "shapedefaults": {
           "line": {
            "color": "#2a3f5f"
           }
          },
          "ternary": {
           "aaxis": {
            "gridcolor": "white",
            "linecolor": "white",
            "ticks": ""
           },
           "baxis": {
            "gridcolor": "white",
            "linecolor": "white",
            "ticks": ""
           },
           "bgcolor": "#E5ECF6",
           "caxis": {
            "gridcolor": "white",
            "linecolor": "white",
            "ticks": ""
           }
          },
          "title": {
           "x": 0.05
          },
          "xaxis": {
           "automargin": true,
           "gridcolor": "white",
           "linecolor": "white",
           "ticks": "",
           "title": {
            "standoff": 15
           },
           "zerolinecolor": "white",
           "zerolinewidth": 2
          },
          "yaxis": {
           "automargin": true,
           "gridcolor": "white",
           "linecolor": "white",
           "ticks": "",
           "title": {
            "standoff": 15
           },
           "zerolinecolor": "white",
           "zerolinewidth": 2
          }
         }
        },
        "title": {
         "text": "Optimization History Plot"
        },
        "xaxis": {
         "title": {
          "text": "Trial"
         }
        },
        "yaxis": {
         "title": {
          "text": "Objective Value"
         }
        }
       }
      },
      "text/html": [
       "<div>                            <div id=\"0002ecee-0be2-48a9-9138-108da944b5f3\" class=\"plotly-graph-div\" style=\"height:525px; width:100%;\"></div>            <script type=\"text/javascript\">                require([\"plotly\"], function(Plotly) {                    window.PLOTLYENV=window.PLOTLYENV || {};                                    if (document.getElementById(\"0002ecee-0be2-48a9-9138-108da944b5f3\")) {                    Plotly.newPlot(                        \"0002ecee-0be2-48a9-9138-108da944b5f3\",                        [{\"mode\":\"markers\",\"name\":\"Objective Value\",\"x\":[0,1,2,3,4,5,6,7,8,9,10,11,12,13,14,15,16,17,18,19,20,21,22,23,24,25,26,27,28,29,30,31,32,33,34,35,36,37,38,39,40,41,42,43,44,45,46,47,48,49,50,51,52,53,54,55,56,57,58,59,60,61,62,63,64,65,66,67,68,69,70,71,72,73,74,75,76,77,78,79,80,81,82,83,84,85,86,87,88,89,90,91,92,93,94,95,96,97,98,99],\"y\":[0.8525024274649463,0.8420009214611913,0.8554971763367566,0.8330024177100639,0.8450061755908833,0.8450061755908833,0.8575021798410104,0.8504951728340034,0.8410036723380051,0.8525024274649463,0.8554889222055638,0.8435046740893818,0.8475011743377561,0.8515014264639452,0.8410006708357533,0.8464994229611921,0.8589901745823786,0.8459989224606916,0.85299617458538,0.8610056833445139,0.8425021723372549,0.8594944269606938,0.8554934244589417,0.8324959142050595,0.8345039192115654,0.8539964252108181,0.8510001755878817,0.8514939227083156,0.8455066760913837,0.8450054252153203,0.8629986808397603,0.8564936750843798,0.8299949124536831,0.8419994207100654,0.8449979214596905,0.8350051700876288,0.8315076695886292,0.8505026765896332,0.8435054244649448,0.8409879144511828,0.8404964184574379,0.8384974179576878,0.8500014257135696,0.844501172837005,0.851996674335505,0.8610011810911361,0.8515006760883822,0.8479956718337528,0.850506428467448,0.8415041728385058,0.8315024169596884,0.8500059279669475,0.8484999242120681,0.8374994184589387,0.8375099237168202,0.8420046733390062,0.8515021768395082,0.8460019239629434,0.8510001755878817,0.8484991738365052,0.852997675336506,0.8400011705858782,0.8410006708357533,0.8545014279646964,0.848989919454687,0.857999678839259,0.845014429722076,0.8599926763345054,0.8504959232095665,0.8605006805906356,0.8565086825956391,0.8569941755848802,0.8499946723335029,0.8439961700831266,0.8365014189601897,0.8475079277178228,0.8505019262140702,0.8385004194599398,0.8675024349687019,0.8399936668302486,0.8484999242120681,0.8470006738372556,0.8449986718352536,0.8549981765873819,0.8459996728362545,0.8439939189564377,0.8624981803392598,0.8475011743377561,0.840005672839256,0.8454931693312503,0.8460011735873806,0.8645024334679506,0.853997925961944,0.8349999174586881,0.8440029234631933,0.8544976760868815,0.8369929149539345,0.8514991753372563,0.8444959202080641,0.8410044227135681],\"type\":\"scatter\"},{\"name\":\"Best Value\",\"x\":[0,1,2,3,4,5,6,7,8,9,10,11,12,13,14,15,16,17,18,19,20,21,22,23,24,25,26,27,28,29,30,31,32,33,34,35,36,37,38,39,40,41,42,43,44,45,46,47,48,49,50,51,52,53,54,55,56,57,58,59,60,61,62,63,64,65,66,67,68,69,70,71,72,73,74,75,76,77,78,79,80,81,82,83,84,85,86,87,88,89,90,91,92,93,94,95,96,97,98,99],\"y\":[0.8525024274649463,0.8525024274649463,0.8554971763367566,0.8554971763367566,0.8554971763367566,0.8554971763367566,0.8575021798410104,0.8575021798410104,0.8575021798410104,0.8575021798410104,0.8575021798410104,0.8575021798410104,0.8575021798410104,0.8575021798410104,0.8575021798410104,0.8575021798410104,0.8589901745823786,0.8589901745823786,0.8589901745823786,0.8610056833445139,0.8610056833445139,0.8610056833445139,0.8610056833445139,0.8610056833445139,0.8610056833445139,0.8610056833445139,0.8610056833445139,0.8610056833445139,0.8610056833445139,0.8610056833445139,0.8629986808397603,0.8629986808397603,0.8629986808397603,0.8629986808397603,0.8629986808397603,0.8629986808397603,0.8629986808397603,0.8629986808397603,0.8629986808397603,0.8629986808397603,0.8629986808397603,0.8629986808397603,0.8629986808397603,0.8629986808397603,0.8629986808397603,0.8629986808397603,0.8629986808397603,0.8629986808397603,0.8629986808397603,0.8629986808397603,0.8629986808397603,0.8629986808397603,0.8629986808397603,0.8629986808397603,0.8629986808397603,0.8629986808397603,0.8629986808397603,0.8629986808397603,0.8629986808397603,0.8629986808397603,0.8629986808397603,0.8629986808397603,0.8629986808397603,0.8629986808397603,0.8629986808397603,0.8629986808397603,0.8629986808397603,0.8629986808397603,0.8629986808397603,0.8629986808397603,0.8629986808397603,0.8629986808397603,0.8629986808397603,0.8629986808397603,0.8629986808397603,0.8629986808397603,0.8629986808397603,0.8629986808397603,0.8675024349687019,0.8675024349687019,0.8675024349687019,0.8675024349687019,0.8675024349687019,0.8675024349687019,0.8675024349687019,0.8675024349687019,0.8675024349687019,0.8675024349687019,0.8675024349687019,0.8675024349687019,0.8675024349687019,0.8675024349687019,0.8675024349687019,0.8675024349687019,0.8675024349687019,0.8675024349687019,0.8675024349687019,0.8675024349687019,0.8675024349687019,0.8675024349687019],\"type\":\"scatter\"}],                        {\"title\":{\"text\":\"Optimization History Plot\"},\"xaxis\":{\"title\":{\"text\":\"Trial\"}},\"yaxis\":{\"title\":{\"text\":\"Objective Value\"}},\"template\":{\"data\":{\"bar\":[{\"error_x\":{\"color\":\"#2a3f5f\"},\"error_y\":{\"color\":\"#2a3f5f\"},\"marker\":{\"line\":{\"color\":\"#E5ECF6\",\"width\":0.5},\"pattern\":{\"fillmode\":\"overlay\",\"size\":10,\"solidity\":0.2}},\"type\":\"bar\"}],\"barpolar\":[{\"marker\":{\"line\":{\"color\":\"#E5ECF6\",\"width\":0.5},\"pattern\":{\"fillmode\":\"overlay\",\"size\":10,\"solidity\":0.2}},\"type\":\"barpolar\"}],\"carpet\":[{\"aaxis\":{\"endlinecolor\":\"#2a3f5f\",\"gridcolor\":\"white\",\"linecolor\":\"white\",\"minorgridcolor\":\"white\",\"startlinecolor\":\"#2a3f5f\"},\"baxis\":{\"endlinecolor\":\"#2a3f5f\",\"gridcolor\":\"white\",\"linecolor\":\"white\",\"minorgridcolor\":\"white\",\"startlinecolor\":\"#2a3f5f\"},\"type\":\"carpet\"}],\"choropleth\":[{\"colorbar\":{\"outlinewidth\":0,\"ticks\":\"\"},\"type\":\"choropleth\"}],\"contour\":[{\"colorbar\":{\"outlinewidth\":0,\"ticks\":\"\"},\"colorscale\":[[0.0,\"#0d0887\"],[0.1111111111111111,\"#46039f\"],[0.2222222222222222,\"#7201a8\"],[0.3333333333333333,\"#9c179e\"],[0.4444444444444444,\"#bd3786\"],[0.5555555555555556,\"#d8576b\"],[0.6666666666666666,\"#ed7953\"],[0.7777777777777778,\"#fb9f3a\"],[0.8888888888888888,\"#fdca26\"],[1.0,\"#f0f921\"]],\"type\":\"contour\"}],\"contourcarpet\":[{\"colorbar\":{\"outlinewidth\":0,\"ticks\":\"\"},\"type\":\"contourcarpet\"}],\"heatmap\":[{\"colorbar\":{\"outlinewidth\":0,\"ticks\":\"\"},\"colorscale\":[[0.0,\"#0d0887\"],[0.1111111111111111,\"#46039f\"],[0.2222222222222222,\"#7201a8\"],[0.3333333333333333,\"#9c179e\"],[0.4444444444444444,\"#bd3786\"],[0.5555555555555556,\"#d8576b\"],[0.6666666666666666,\"#ed7953\"],[0.7777777777777778,\"#fb9f3a\"],[0.8888888888888888,\"#fdca26\"],[1.0,\"#f0f921\"]],\"type\":\"heatmap\"}],\"heatmapgl\":[{\"colorbar\":{\"outlinewidth\":0,\"ticks\":\"\"},\"colorscale\":[[0.0,\"#0d0887\"],[0.1111111111111111,\"#46039f\"],[0.2222222222222222,\"#7201a8\"],[0.3333333333333333,\"#9c179e\"],[0.4444444444444444,\"#bd3786\"],[0.5555555555555556,\"#d8576b\"],[0.6666666666666666,\"#ed7953\"],[0.7777777777777778,\"#fb9f3a\"],[0.8888888888888888,\"#fdca26\"],[1.0,\"#f0f921\"]],\"type\":\"heatmapgl\"}],\"histogram\":[{\"marker\":{\"pattern\":{\"fillmode\":\"overlay\",\"size\":10,\"solidity\":0.2}},\"type\":\"histogram\"}],\"histogram2d\":[{\"colorbar\":{\"outlinewidth\":0,\"ticks\":\"\"},\"colorscale\":[[0.0,\"#0d0887\"],[0.1111111111111111,\"#46039f\"],[0.2222222222222222,\"#7201a8\"],[0.3333333333333333,\"#9c179e\"],[0.4444444444444444,\"#bd3786\"],[0.5555555555555556,\"#d8576b\"],[0.6666666666666666,\"#ed7953\"],[0.7777777777777778,\"#fb9f3a\"],[0.8888888888888888,\"#fdca26\"],[1.0,\"#f0f921\"]],\"type\":\"histogram2d\"}],\"histogram2dcontour\":[{\"colorbar\":{\"outlinewidth\":0,\"ticks\":\"\"},\"colorscale\":[[0.0,\"#0d0887\"],[0.1111111111111111,\"#46039f\"],[0.2222222222222222,\"#7201a8\"],[0.3333333333333333,\"#9c179e\"],[0.4444444444444444,\"#bd3786\"],[0.5555555555555556,\"#d8576b\"],[0.6666666666666666,\"#ed7953\"],[0.7777777777777778,\"#fb9f3a\"],[0.8888888888888888,\"#fdca26\"],[1.0,\"#f0f921\"]],\"type\":\"histogram2dcontour\"}],\"mesh3d\":[{\"colorbar\":{\"outlinewidth\":0,\"ticks\":\"\"},\"type\":\"mesh3d\"}],\"parcoords\":[{\"line\":{\"colorbar\":{\"outlinewidth\":0,\"ticks\":\"\"}},\"type\":\"parcoords\"}],\"pie\":[{\"automargin\":true,\"type\":\"pie\"}],\"scatter\":[{\"marker\":{\"colorbar\":{\"outlinewidth\":0,\"ticks\":\"\"}},\"type\":\"scatter\"}],\"scatter3d\":[{\"line\":{\"colorbar\":{\"outlinewidth\":0,\"ticks\":\"\"}},\"marker\":{\"colorbar\":{\"outlinewidth\":0,\"ticks\":\"\"}},\"type\":\"scatter3d\"}],\"scattercarpet\":[{\"marker\":{\"colorbar\":{\"outlinewidth\":0,\"ticks\":\"\"}},\"type\":\"scattercarpet\"}],\"scattergeo\":[{\"marker\":{\"colorbar\":{\"outlinewidth\":0,\"ticks\":\"\"}},\"type\":\"scattergeo\"}],\"scattergl\":[{\"marker\":{\"colorbar\":{\"outlinewidth\":0,\"ticks\":\"\"}},\"type\":\"scattergl\"}],\"scattermapbox\":[{\"marker\":{\"colorbar\":{\"outlinewidth\":0,\"ticks\":\"\"}},\"type\":\"scattermapbox\"}],\"scatterpolar\":[{\"marker\":{\"colorbar\":{\"outlinewidth\":0,\"ticks\":\"\"}},\"type\":\"scatterpolar\"}],\"scatterpolargl\":[{\"marker\":{\"colorbar\":{\"outlinewidth\":0,\"ticks\":\"\"}},\"type\":\"scatterpolargl\"}],\"scatterternary\":[{\"marker\":{\"colorbar\":{\"outlinewidth\":0,\"ticks\":\"\"}},\"type\":\"scatterternary\"}],\"surface\":[{\"colorbar\":{\"outlinewidth\":0,\"ticks\":\"\"},\"colorscale\":[[0.0,\"#0d0887\"],[0.1111111111111111,\"#46039f\"],[0.2222222222222222,\"#7201a8\"],[0.3333333333333333,\"#9c179e\"],[0.4444444444444444,\"#bd3786\"],[0.5555555555555556,\"#d8576b\"],[0.6666666666666666,\"#ed7953\"],[0.7777777777777778,\"#fb9f3a\"],[0.8888888888888888,\"#fdca26\"],[1.0,\"#f0f921\"]],\"type\":\"surface\"}],\"table\":[{\"cells\":{\"fill\":{\"color\":\"#EBF0F8\"},\"line\":{\"color\":\"white\"}},\"header\":{\"fill\":{\"color\":\"#C8D4E3\"},\"line\":{\"color\":\"white\"}},\"type\":\"table\"}]},\"layout\":{\"annotationdefaults\":{\"arrowcolor\":\"#2a3f5f\",\"arrowhead\":0,\"arrowwidth\":1},\"autotypenumbers\":\"strict\",\"coloraxis\":{\"colorbar\":{\"outlinewidth\":0,\"ticks\":\"\"}},\"colorscale\":{\"diverging\":[[0,\"#8e0152\"],[0.1,\"#c51b7d\"],[0.2,\"#de77ae\"],[0.3,\"#f1b6da\"],[0.4,\"#fde0ef\"],[0.5,\"#f7f7f7\"],[0.6,\"#e6f5d0\"],[0.7,\"#b8e186\"],[0.8,\"#7fbc41\"],[0.9,\"#4d9221\"],[1,\"#276419\"]],\"sequential\":[[0.0,\"#0d0887\"],[0.1111111111111111,\"#46039f\"],[0.2222222222222222,\"#7201a8\"],[0.3333333333333333,\"#9c179e\"],[0.4444444444444444,\"#bd3786\"],[0.5555555555555556,\"#d8576b\"],[0.6666666666666666,\"#ed7953\"],[0.7777777777777778,\"#fb9f3a\"],[0.8888888888888888,\"#fdca26\"],[1.0,\"#f0f921\"]],\"sequentialminus\":[[0.0,\"#0d0887\"],[0.1111111111111111,\"#46039f\"],[0.2222222222222222,\"#7201a8\"],[0.3333333333333333,\"#9c179e\"],[0.4444444444444444,\"#bd3786\"],[0.5555555555555556,\"#d8576b\"],[0.6666666666666666,\"#ed7953\"],[0.7777777777777778,\"#fb9f3a\"],[0.8888888888888888,\"#fdca26\"],[1.0,\"#f0f921\"]]},\"colorway\":[\"#636efa\",\"#EF553B\",\"#00cc96\",\"#ab63fa\",\"#FFA15A\",\"#19d3f3\",\"#FF6692\",\"#B6E880\",\"#FF97FF\",\"#FECB52\"],\"font\":{\"color\":\"#2a3f5f\"},\"geo\":{\"bgcolor\":\"white\",\"lakecolor\":\"white\",\"landcolor\":\"#E5ECF6\",\"showlakes\":true,\"showland\":true,\"subunitcolor\":\"white\"},\"hoverlabel\":{\"align\":\"left\"},\"hovermode\":\"closest\",\"mapbox\":{\"style\":\"light\"},\"paper_bgcolor\":\"white\",\"plot_bgcolor\":\"#E5ECF6\",\"polar\":{\"angularaxis\":{\"gridcolor\":\"white\",\"linecolor\":\"white\",\"ticks\":\"\"},\"bgcolor\":\"#E5ECF6\",\"radialaxis\":{\"gridcolor\":\"white\",\"linecolor\":\"white\",\"ticks\":\"\"}},\"scene\":{\"xaxis\":{\"backgroundcolor\":\"#E5ECF6\",\"gridcolor\":\"white\",\"gridwidth\":2,\"linecolor\":\"white\",\"showbackground\":true,\"ticks\":\"\",\"zerolinecolor\":\"white\"},\"yaxis\":{\"backgroundcolor\":\"#E5ECF6\",\"gridcolor\":\"white\",\"gridwidth\":2,\"linecolor\":\"white\",\"showbackground\":true,\"ticks\":\"\",\"zerolinecolor\":\"white\"},\"zaxis\":{\"backgroundcolor\":\"#E5ECF6\",\"gridcolor\":\"white\",\"gridwidth\":2,\"linecolor\":\"white\",\"showbackground\":true,\"ticks\":\"\",\"zerolinecolor\":\"white\"}},\"shapedefaults\":{\"line\":{\"color\":\"#2a3f5f\"}},\"ternary\":{\"aaxis\":{\"gridcolor\":\"white\",\"linecolor\":\"white\",\"ticks\":\"\"},\"baxis\":{\"gridcolor\":\"white\",\"linecolor\":\"white\",\"ticks\":\"\"},\"bgcolor\":\"#E5ECF6\",\"caxis\":{\"gridcolor\":\"white\",\"linecolor\":\"white\",\"ticks\":\"\"}},\"title\":{\"x\":0.05},\"xaxis\":{\"automargin\":true,\"gridcolor\":\"white\",\"linecolor\":\"white\",\"ticks\":\"\",\"title\":{\"standoff\":15},\"zerolinecolor\":\"white\",\"zerolinewidth\":2},\"yaxis\":{\"automargin\":true,\"gridcolor\":\"white\",\"linecolor\":\"white\",\"ticks\":\"\",\"title\":{\"standoff\":15},\"zerolinecolor\":\"white\",\"zerolinewidth\":2}}}},                        {\"responsive\": true}                    ).then(function(){\n",
       "                            \n",
       "var gd = document.getElementById('0002ecee-0be2-48a9-9138-108da944b5f3');\n",
       "var x = new MutationObserver(function (mutations, observer) {{\n",
       "        var display = window.getComputedStyle(gd).display;\n",
       "        if (!display || display === 'none') {{\n",
       "            console.log([gd, 'removed!']);\n",
       "            Plotly.purge(gd);\n",
       "            observer.disconnect();\n",
       "        }}\n",
       "}});\n",
       "\n",
       "// Listen for the removal of the full notebook cells\n",
       "var notebookContainer = gd.closest('#notebook-container');\n",
       "if (notebookContainer) {{\n",
       "    x.observe(notebookContainer, {childList: true});\n",
       "}}\n",
       "\n",
       "// Listen for the clearing of the current output cell\n",
       "var outputEl = gd.closest('.output');\n",
       "if (outputEl) {{\n",
       "    x.observe(outputEl, {childList: true});\n",
       "}}\n",
       "\n",
       "                        })                };                });            </script>        </div>"
      ]
     },
     "metadata": {},
     "output_type": "display_data"
    }
   ],
   "source": [
    "optuna.visualization.plot_optimization_history(study)"
   ]
  },
  {
   "cell_type": "code",
   "execution_count": 20,
   "id": "0b1a3e32",
   "metadata": {},
   "outputs": [
    {
     "data": {
      "application/vnd.plotly.v1+json": {
       "config": {
        "plotlyServerURL": "https://plot.ly"
       },
       "data": [
        {
         "marker": {
          "color": [
           0,
           1,
           2,
           3,
           4,
           5,
           6,
           7,
           8,
           9,
           10,
           11,
           12,
           13,
           14,
           15,
           16,
           17,
           18,
           19,
           20,
           21,
           22,
           23,
           24,
           25,
           26,
           27,
           28,
           29,
           30,
           31,
           32,
           33,
           34,
           35,
           36,
           37,
           38,
           39,
           40,
           41,
           42,
           43,
           44,
           45,
           46,
           47,
           48,
           49,
           50,
           51,
           52,
           53,
           54,
           55,
           56,
           57,
           58,
           59,
           60,
           61,
           62,
           63,
           64,
           65,
           66,
           67,
           68,
           69,
           70,
           71,
           72,
           73,
           74,
           75,
           76,
           77,
           78,
           79,
           80,
           81,
           82,
           83,
           84,
           85,
           86,
           87,
           88,
           89,
           90,
           91,
           92,
           93,
           94,
           95,
           96,
           97,
           98,
           99
          ],
          "colorbar": {
           "title": {
            "text": "Trial"
           },
           "x": 1,
           "xpad": 40
          },
          "colorscale": [
           [
            0,
            "rgb(247,251,255)"
           ],
           [
            0.125,
            "rgb(222,235,247)"
           ],
           [
            0.25,
            "rgb(198,219,239)"
           ],
           [
            0.375,
            "rgb(158,202,225)"
           ],
           [
            0.5,
            "rgb(107,174,214)"
           ],
           [
            0.625,
            "rgb(66,146,198)"
           ],
           [
            0.75,
            "rgb(33,113,181)"
           ],
           [
            0.875,
            "rgb(8,81,156)"
           ],
           [
            1,
            "rgb(8,48,107)"
           ]
          ],
          "line": {
           "color": "Grey",
           "width": 0.5
          },
          "showscale": true
         },
         "mode": "markers",
         "showlegend": false,
         "type": "scatter",
         "x": [
          "entropy",
          "gini",
          "entropy",
          "gini",
          "entropy",
          "entropy",
          "gini",
          "entropy",
          "entropy",
          "entropy",
          "gini",
          "gini",
          "gini",
          "gini",
          "entropy",
          "gini",
          "gini",
          "gini",
          "gini",
          "gini",
          "gini",
          "gini",
          "gini",
          "gini",
          "gini",
          "gini",
          "gini",
          "gini",
          "gini",
          "gini",
          "gini",
          "gini",
          "gini",
          "gini",
          "gini",
          "gini",
          "gini",
          "gini",
          "entropy",
          "gini",
          "entropy",
          "gini",
          "gini",
          "gini",
          "gini",
          "gini",
          "entropy",
          "gini",
          "gini",
          "gini",
          "entropy",
          "gini",
          "gini",
          "gini",
          "gini",
          "gini",
          "gini",
          "gini",
          "gini",
          "gini",
          "entropy",
          "gini",
          "gini",
          "gini",
          "gini",
          "gini",
          "gini",
          "gini",
          "gini",
          "gini",
          "gini",
          "gini",
          "gini",
          "gini",
          "gini",
          "gini",
          "gini",
          "gini",
          "gini",
          "entropy",
          "gini",
          "gini",
          "gini",
          "gini",
          "gini",
          "gini",
          "gini",
          "gini",
          "gini",
          "gini",
          "gini",
          "gini",
          "gini",
          "gini",
          "gini",
          "gini",
          "entropy",
          "gini",
          "gini",
          "gini"
         ],
         "xaxis": "x",
         "y": [
          0.8525024274649463,
          0.8420009214611913,
          0.8554971763367566,
          0.8330024177100639,
          0.8450061755908833,
          0.8450061755908833,
          0.8575021798410104,
          0.8504951728340034,
          0.8410036723380051,
          0.8525024274649463,
          0.8554889222055638,
          0.8435046740893818,
          0.8475011743377561,
          0.8515014264639452,
          0.8410006708357533,
          0.8464994229611921,
          0.8589901745823786,
          0.8459989224606916,
          0.85299617458538,
          0.8610056833445139,
          0.8425021723372549,
          0.8594944269606938,
          0.8554934244589417,
          0.8324959142050595,
          0.8345039192115654,
          0.8539964252108181,
          0.8510001755878817,
          0.8514939227083156,
          0.8455066760913837,
          0.8450054252153203,
          0.8629986808397603,
          0.8564936750843798,
          0.8299949124536831,
          0.8419994207100654,
          0.8449979214596905,
          0.8350051700876288,
          0.8315076695886292,
          0.8505026765896332,
          0.8435054244649448,
          0.8409879144511828,
          0.8404964184574379,
          0.8384974179576878,
          0.8500014257135696,
          0.844501172837005,
          0.851996674335505,
          0.8610011810911361,
          0.8515006760883822,
          0.8479956718337528,
          0.850506428467448,
          0.8415041728385058,
          0.8315024169596884,
          0.8500059279669475,
          0.8484999242120681,
          0.8374994184589387,
          0.8375099237168202,
          0.8420046733390062,
          0.8515021768395082,
          0.8460019239629434,
          0.8510001755878817,
          0.8484991738365052,
          0.852997675336506,
          0.8400011705858782,
          0.8410006708357533,
          0.8545014279646964,
          0.848989919454687,
          0.857999678839259,
          0.845014429722076,
          0.8599926763345054,
          0.8504959232095665,
          0.8605006805906356,
          0.8565086825956391,
          0.8569941755848802,
          0.8499946723335029,
          0.8439961700831266,
          0.8365014189601897,
          0.8475079277178228,
          0.8505019262140702,
          0.8385004194599398,
          0.8675024349687019,
          0.8399936668302486,
          0.8484999242120681,
          0.8470006738372556,
          0.8449986718352536,
          0.8549981765873819,
          0.8459996728362545,
          0.8439939189564377,
          0.8624981803392598,
          0.8475011743377561,
          0.840005672839256,
          0.8454931693312503,
          0.8460011735873806,
          0.8645024334679506,
          0.853997925961944,
          0.8349999174586881,
          0.8440029234631933,
          0.8544976760868815,
          0.8369929149539345,
          0.8514991753372563,
          0.8444959202080641,
          0.8410044227135681
         ],
         "yaxis": "y"
        },
        {
         "marker": {
          "color": [
           0,
           1,
           2,
           3,
           4,
           5,
           6,
           7,
           8,
           9,
           10,
           11,
           12,
           13,
           14,
           15,
           16,
           17,
           18,
           19,
           20,
           21,
           22,
           23,
           24,
           25,
           26,
           27,
           28,
           29,
           30,
           31,
           32,
           33,
           34,
           35,
           36,
           37,
           38,
           39,
           40,
           41,
           42,
           43,
           44,
           45,
           46,
           47,
           48,
           49,
           50,
           51,
           52,
           53,
           54,
           55,
           56,
           57,
           58,
           59,
           60,
           61,
           62,
           63,
           64,
           65,
           66,
           67,
           68,
           69,
           70,
           71,
           72,
           73,
           74,
           75,
           76,
           77,
           78,
           79,
           80,
           81,
           82,
           83,
           84,
           85,
           86,
           87,
           88,
           89,
           90,
           91,
           92,
           93,
           94,
           95,
           96,
           97,
           98,
           99
          ],
          "colorbar": {
           "title": {
            "text": "Trial"
           },
           "x": 1,
           "xpad": 40
          },
          "colorscale": [
           [
            0,
            "rgb(247,251,255)"
           ],
           [
            0.125,
            "rgb(222,235,247)"
           ],
           [
            0.25,
            "rgb(198,219,239)"
           ],
           [
            0.375,
            "rgb(158,202,225)"
           ],
           [
            0.5,
            "rgb(107,174,214)"
           ],
           [
            0.625,
            "rgb(66,146,198)"
           ],
           [
            0.75,
            "rgb(33,113,181)"
           ],
           [
            0.875,
            "rgb(8,81,156)"
           ],
           [
            1,
            "rgb(8,48,107)"
           ]
          ],
          "line": {
           "color": "Grey",
           "width": 0.5
          },
          "showscale": false
         },
         "mode": "markers",
         "showlegend": false,
         "type": "scatter",
         "x": [
          19,
          34,
          36,
          10,
          14,
          17,
          38,
          25,
          12,
          14,
          26,
          38,
          30,
          40,
          26,
          33,
          22,
          21,
          22,
          17,
          17,
          16,
          16,
          19,
          14,
          23,
          12,
          16,
          20,
          18,
          29,
          29,
          24,
          30,
          15,
          20,
          12,
          28,
          34,
          18,
          13,
          33,
          38,
          10,
          27,
          31,
          31,
          15,
          22,
          25,
          32,
          36,
          40,
          36,
          17,
          28,
          19,
          35,
          38,
          16,
          21,
          29,
          26,
          24,
          31,
          15,
          15,
          13,
          11,
          13,
          13,
          13,
          14,
          11,
          18,
          15,
          12,
          17,
          14,
          11,
          16,
          14,
          13,
          14,
          16,
          15,
          18,
          19,
          18,
          21,
          20,
          17,
          18,
          17,
          17,
          19,
          23,
          16,
          13,
          14
         ],
         "xaxis": "x2",
         "y": [
          0.8525024274649463,
          0.8420009214611913,
          0.8554971763367566,
          0.8330024177100639,
          0.8450061755908833,
          0.8450061755908833,
          0.8575021798410104,
          0.8504951728340034,
          0.8410036723380051,
          0.8525024274649463,
          0.8554889222055638,
          0.8435046740893818,
          0.8475011743377561,
          0.8515014264639452,
          0.8410006708357533,
          0.8464994229611921,
          0.8589901745823786,
          0.8459989224606916,
          0.85299617458538,
          0.8610056833445139,
          0.8425021723372549,
          0.8594944269606938,
          0.8554934244589417,
          0.8324959142050595,
          0.8345039192115654,
          0.8539964252108181,
          0.8510001755878817,
          0.8514939227083156,
          0.8455066760913837,
          0.8450054252153203,
          0.8629986808397603,
          0.8564936750843798,
          0.8299949124536831,
          0.8419994207100654,
          0.8449979214596905,
          0.8350051700876288,
          0.8315076695886292,
          0.8505026765896332,
          0.8435054244649448,
          0.8409879144511828,
          0.8404964184574379,
          0.8384974179576878,
          0.8500014257135696,
          0.844501172837005,
          0.851996674335505,
          0.8610011810911361,
          0.8515006760883822,
          0.8479956718337528,
          0.850506428467448,
          0.8415041728385058,
          0.8315024169596884,
          0.8500059279669475,
          0.8484999242120681,
          0.8374994184589387,
          0.8375099237168202,
          0.8420046733390062,
          0.8515021768395082,
          0.8460019239629434,
          0.8510001755878817,
          0.8484991738365052,
          0.852997675336506,
          0.8400011705858782,
          0.8410006708357533,
          0.8545014279646964,
          0.848989919454687,
          0.857999678839259,
          0.845014429722076,
          0.8599926763345054,
          0.8504959232095665,
          0.8605006805906356,
          0.8565086825956391,
          0.8569941755848802,
          0.8499946723335029,
          0.8439961700831266,
          0.8365014189601897,
          0.8475079277178228,
          0.8505019262140702,
          0.8385004194599398,
          0.8675024349687019,
          0.8399936668302486,
          0.8484999242120681,
          0.8470006738372556,
          0.8449986718352536,
          0.8549981765873819,
          0.8459996728362545,
          0.8439939189564377,
          0.8624981803392598,
          0.8475011743377561,
          0.840005672839256,
          0.8454931693312503,
          0.8460011735873806,
          0.8645024334679506,
          0.853997925961944,
          0.8349999174586881,
          0.8440029234631933,
          0.8544976760868815,
          0.8369929149539345,
          0.8514991753372563,
          0.8444959202080641,
          0.8410044227135681
         ],
         "yaxis": "y2"
        },
        {
         "marker": {
          "color": [
           0,
           1,
           2,
           3,
           4,
           5,
           6,
           7,
           8,
           9,
           10,
           11,
           12,
           13,
           14,
           15,
           16,
           17,
           18,
           19,
           20,
           21,
           22,
           23,
           24,
           25,
           26,
           27,
           28,
           29,
           30,
           31,
           32,
           33,
           34,
           35,
           36,
           37,
           38,
           39,
           40,
           41,
           42,
           43,
           44,
           45,
           46,
           47,
           48,
           49,
           50,
           51,
           52,
           53,
           54,
           55,
           56,
           57,
           58,
           59,
           60,
           61,
           62,
           63,
           64,
           65,
           66,
           67,
           68,
           69,
           70,
           71,
           72,
           73,
           74,
           75,
           76,
           77,
           78,
           79,
           80,
           81,
           82,
           83,
           84,
           85,
           86,
           87,
           88,
           89,
           90,
           91,
           92,
           93,
           94,
           95,
           96,
           97,
           98,
           99
          ],
          "colorbar": {
           "title": {
            "text": "Trial"
           },
           "x": 1,
           "xpad": 40
          },
          "colorscale": [
           [
            0,
            "rgb(247,251,255)"
           ],
           [
            0.125,
            "rgb(222,235,247)"
           ],
           [
            0.25,
            "rgb(198,219,239)"
           ],
           [
            0.375,
            "rgb(158,202,225)"
           ],
           [
            0.5,
            "rgb(107,174,214)"
           ],
           [
            0.625,
            "rgb(66,146,198)"
           ],
           [
            0.75,
            "rgb(33,113,181)"
           ],
           [
            0.875,
            "rgb(8,81,156)"
           ],
           [
            1,
            "rgb(8,48,107)"
           ]
          ],
          "line": {
           "color": "Grey",
           "width": 0.5
          },
          "showscale": false
         },
         "mode": "markers",
         "showlegend": false,
         "type": "scatter",
         "x": [
          8,
          46,
          63,
          39,
          55,
          32,
          75,
          99,
          54,
          35,
          84,
          73,
          72,
          69,
          92,
          62,
          82,
          82,
          86,
          21,
          19,
          23,
          21,
          8,
          23,
          0,
          29,
          43,
          10,
          15,
          49,
          29,
          1,
          47,
          60,
          14,
          41,
          51,
          26,
          35,
          58,
          79,
          100,
          67,
          90,
          78,
          94,
          76,
          34,
          66,
          88,
          80,
          73,
          96,
          85,
          53,
          17,
          76,
          70,
          39,
          64,
          30,
          25,
          11,
          5,
          46,
          47,
          55,
          58,
          38,
          38,
          43,
          49,
          55,
          44,
          23,
          51,
          38,
          27,
          20,
          32,
          27,
          35,
          18,
          24,
          28,
          41,
          32,
          41,
          82,
          14,
          48,
          49,
          21,
          55,
          41,
          36,
          45,
          52,
          16
         ],
         "xaxis": "x3",
         "y": [
          0.8525024274649463,
          0.8420009214611913,
          0.8554971763367566,
          0.8330024177100639,
          0.8450061755908833,
          0.8450061755908833,
          0.8575021798410104,
          0.8504951728340034,
          0.8410036723380051,
          0.8525024274649463,
          0.8554889222055638,
          0.8435046740893818,
          0.8475011743377561,
          0.8515014264639452,
          0.8410006708357533,
          0.8464994229611921,
          0.8589901745823786,
          0.8459989224606916,
          0.85299617458538,
          0.8610056833445139,
          0.8425021723372549,
          0.8594944269606938,
          0.8554934244589417,
          0.8324959142050595,
          0.8345039192115654,
          0.8539964252108181,
          0.8510001755878817,
          0.8514939227083156,
          0.8455066760913837,
          0.8450054252153203,
          0.8629986808397603,
          0.8564936750843798,
          0.8299949124536831,
          0.8419994207100654,
          0.8449979214596905,
          0.8350051700876288,
          0.8315076695886292,
          0.8505026765896332,
          0.8435054244649448,
          0.8409879144511828,
          0.8404964184574379,
          0.8384974179576878,
          0.8500014257135696,
          0.844501172837005,
          0.851996674335505,
          0.8610011810911361,
          0.8515006760883822,
          0.8479956718337528,
          0.850506428467448,
          0.8415041728385058,
          0.8315024169596884,
          0.8500059279669475,
          0.8484999242120681,
          0.8374994184589387,
          0.8375099237168202,
          0.8420046733390062,
          0.8515021768395082,
          0.8460019239629434,
          0.8510001755878817,
          0.8484991738365052,
          0.852997675336506,
          0.8400011705858782,
          0.8410006708357533,
          0.8545014279646964,
          0.848989919454687,
          0.857999678839259,
          0.845014429722076,
          0.8599926763345054,
          0.8504959232095665,
          0.8605006805906356,
          0.8565086825956391,
          0.8569941755848802,
          0.8499946723335029,
          0.8439961700831266,
          0.8365014189601897,
          0.8475079277178228,
          0.8505019262140702,
          0.8385004194599398,
          0.8675024349687019,
          0.8399936668302486,
          0.8484999242120681,
          0.8470006738372556,
          0.8449986718352536,
          0.8549981765873819,
          0.8459996728362545,
          0.8439939189564377,
          0.8624981803392598,
          0.8475011743377561,
          0.840005672839256,
          0.8454931693312503,
          0.8460011735873806,
          0.8645024334679506,
          0.853997925961944,
          0.8349999174586881,
          0.8440029234631933,
          0.8544976760868815,
          0.8369929149539345,
          0.8514991753372563,
          0.8444959202080641,
          0.8410044227135681
         ],
         "yaxis": "y3"
        },
        {
         "marker": {
          "color": [
           0,
           1,
           2,
           3,
           4,
           5,
           6,
           7,
           8,
           9,
           10,
           11,
           12,
           13,
           14,
           15,
           16,
           17,
           18,
           19,
           20,
           21,
           22,
           23,
           24,
           25,
           26,
           27,
           28,
           29,
           30,
           31,
           32,
           33,
           34,
           35,
           36,
           37,
           38,
           39,
           40,
           41,
           42,
           43,
           44,
           45,
           46,
           47,
           48,
           49,
           50,
           51,
           52,
           53,
           54,
           55,
           56,
           57,
           58,
           59,
           60,
           61,
           62,
           63,
           64,
           65,
           66,
           67,
           68,
           69,
           70,
           71,
           72,
           73,
           74,
           75,
           76,
           77,
           78,
           79,
           80,
           81,
           82,
           83,
           84,
           85,
           86,
           87,
           88,
           89,
           90,
           91,
           92,
           93,
           94,
           95,
           96,
           97,
           98,
           99
          ],
          "colorbar": {
           "title": {
            "text": "Trial"
           },
           "x": 1,
           "xpad": 40
          },
          "colorscale": [
           [
            0,
            "rgb(247,251,255)"
           ],
           [
            0.125,
            "rgb(222,235,247)"
           ],
           [
            0.25,
            "rgb(198,219,239)"
           ],
           [
            0.375,
            "rgb(158,202,225)"
           ],
           [
            0.5,
            "rgb(107,174,214)"
           ],
           [
            0.625,
            "rgb(66,146,198)"
           ],
           [
            0.75,
            "rgb(33,113,181)"
           ],
           [
            0.875,
            "rgb(8,81,156)"
           ],
           [
            1,
            "rgb(8,48,107)"
           ]
          ],
          "line": {
           "color": "Grey",
           "width": 0.5
          },
          "showscale": false
         },
         "mode": "markers",
         "showlegend": false,
         "type": "scatter",
         "x": [
          44,
          89,
          4,
          76,
          37,
          9,
          1,
          70,
          38,
          47,
          20,
          5,
          21,
          0,
          23,
          63,
          28,
          29,
          16,
          57,
          56,
          55,
          57,
          78,
          98,
          55,
          35,
          65,
          48,
          44,
          31,
          30,
          40,
          30,
          52,
          77,
          12,
          43,
          61,
          68,
          72,
          85,
          10,
          25,
          35,
          16,
          17,
          50,
          6,
          27,
          15,
          2,
          20,
          7,
          60,
          33,
          0,
          12,
          22,
          43,
          53,
          39,
          31,
          27,
          47,
          19,
          17,
          24,
          23,
          19,
          58,
          18,
          14,
          25,
          21,
          9,
          65,
          36,
          27,
          32,
          27,
          19,
          24,
          13,
          27,
          53,
          33,
          41,
          34,
          29,
          37,
          21,
          25,
          21,
          49,
          29,
          32,
          60,
          45,
          15
         ],
         "xaxis": "x4",
         "y": [
          0.8525024274649463,
          0.8420009214611913,
          0.8554971763367566,
          0.8330024177100639,
          0.8450061755908833,
          0.8450061755908833,
          0.8575021798410104,
          0.8504951728340034,
          0.8410036723380051,
          0.8525024274649463,
          0.8554889222055638,
          0.8435046740893818,
          0.8475011743377561,
          0.8515014264639452,
          0.8410006708357533,
          0.8464994229611921,
          0.8589901745823786,
          0.8459989224606916,
          0.85299617458538,
          0.8610056833445139,
          0.8425021723372549,
          0.8594944269606938,
          0.8554934244589417,
          0.8324959142050595,
          0.8345039192115654,
          0.8539964252108181,
          0.8510001755878817,
          0.8514939227083156,
          0.8455066760913837,
          0.8450054252153203,
          0.8629986808397603,
          0.8564936750843798,
          0.8299949124536831,
          0.8419994207100654,
          0.8449979214596905,
          0.8350051700876288,
          0.8315076695886292,
          0.8505026765896332,
          0.8435054244649448,
          0.8409879144511828,
          0.8404964184574379,
          0.8384974179576878,
          0.8500014257135696,
          0.844501172837005,
          0.851996674335505,
          0.8610011810911361,
          0.8515006760883822,
          0.8479956718337528,
          0.850506428467448,
          0.8415041728385058,
          0.8315024169596884,
          0.8500059279669475,
          0.8484999242120681,
          0.8374994184589387,
          0.8375099237168202,
          0.8420046733390062,
          0.8515021768395082,
          0.8460019239629434,
          0.8510001755878817,
          0.8484991738365052,
          0.852997675336506,
          0.8400011705858782,
          0.8410006708357533,
          0.8545014279646964,
          0.848989919454687,
          0.857999678839259,
          0.845014429722076,
          0.8599926763345054,
          0.8504959232095665,
          0.8605006805906356,
          0.8565086825956391,
          0.8569941755848802,
          0.8499946723335029,
          0.8439961700831266,
          0.8365014189601897,
          0.8475079277178228,
          0.8505019262140702,
          0.8385004194599398,
          0.8675024349687019,
          0.8399936668302486,
          0.8484999242120681,
          0.8470006738372556,
          0.8449986718352536,
          0.8549981765873819,
          0.8459996728362545,
          0.8439939189564377,
          0.8624981803392598,
          0.8475011743377561,
          0.840005672839256,
          0.8454931693312503,
          0.8460011735873806,
          0.8645024334679506,
          0.853997925961944,
          0.8349999174586881,
          0.8440029234631933,
          0.8544976760868815,
          0.8369929149539345,
          0.8514991753372563,
          0.8444959202080641,
          0.8410044227135681
         ],
         "yaxis": "y4"
        },
        {
         "marker": {
          "color": [
           0,
           1,
           2,
           3,
           4,
           5,
           6,
           7,
           8,
           9,
           10,
           11,
           12,
           13,
           14,
           15,
           16,
           17,
           18,
           19,
           20,
           21,
           22,
           23,
           24,
           25,
           26,
           27,
           28,
           29,
           30,
           31,
           32,
           33,
           34,
           35,
           36,
           37,
           38,
           39,
           40,
           41,
           42,
           43,
           44,
           45,
           46,
           47,
           48,
           49,
           50,
           51,
           52,
           53,
           54,
           55,
           56,
           57,
           58,
           59,
           60,
           61,
           62,
           63,
           64,
           65,
           66,
           67,
           68,
           69,
           70,
           71,
           72,
           73,
           74,
           75,
           76,
           77,
           78,
           79,
           80,
           81,
           82,
           83,
           84,
           85,
           86,
           87,
           88,
           89,
           90,
           91,
           92,
           93,
           94,
           95,
           96,
           97,
           98,
           99
          ],
          "colorbar": {
           "title": {
            "text": "Trial"
           },
           "x": 1,
           "xpad": 40
          },
          "colorscale": [
           [
            0,
            "rgb(247,251,255)"
           ],
           [
            0.125,
            "rgb(222,235,247)"
           ],
           [
            0.25,
            "rgb(198,219,239)"
           ],
           [
            0.375,
            "rgb(158,202,225)"
           ],
           [
            0.5,
            "rgb(107,174,214)"
           ],
           [
            0.625,
            "rgb(66,146,198)"
           ],
           [
            0.75,
            "rgb(33,113,181)"
           ],
           [
            0.875,
            "rgb(8,81,156)"
           ],
           [
            1,
            "rgb(8,48,107)"
           ]
          ],
          "line": {
           "color": "Grey",
           "width": 0.5
          },
          "showscale": false
         },
         "mode": "markers",
         "showlegend": false,
         "type": "scatter",
         "x": [
          357,
          350,
          451,
          348,
          469,
          408,
          496,
          487,
          487,
          387,
          301,
          449,
          438,
          498,
          439,
          462,
          416,
          414,
          384,
          303,
          312,
          322,
          325,
          331,
          368,
          329,
          420,
          301,
          391,
          367,
          342,
          338,
          315,
          345,
          366,
          314,
          354,
          320,
          426,
          378,
          340,
          472,
          306,
          402,
          357,
          336,
          335,
          349,
          323,
          308,
          398,
          499,
          478,
          462,
          435,
          300,
          450,
          319,
          489,
          328,
          378,
          337,
          344,
          357,
          308,
          329,
          331,
          318,
          317,
          324,
          323,
          331,
          412,
          308,
          312,
          342,
          327,
          334,
          424,
          427,
          417,
          407,
          425,
          441,
          318,
          324,
          351,
          305,
          355,
          352,
          362,
          339,
          344,
          339,
          348,
          312,
          432,
          334,
          321,
          395
         ],
         "xaxis": "x5",
         "y": [
          0.8525024274649463,
          0.8420009214611913,
          0.8554971763367566,
          0.8330024177100639,
          0.8450061755908833,
          0.8450061755908833,
          0.8575021798410104,
          0.8504951728340034,
          0.8410036723380051,
          0.8525024274649463,
          0.8554889222055638,
          0.8435046740893818,
          0.8475011743377561,
          0.8515014264639452,
          0.8410006708357533,
          0.8464994229611921,
          0.8589901745823786,
          0.8459989224606916,
          0.85299617458538,
          0.8610056833445139,
          0.8425021723372549,
          0.8594944269606938,
          0.8554934244589417,
          0.8324959142050595,
          0.8345039192115654,
          0.8539964252108181,
          0.8510001755878817,
          0.8514939227083156,
          0.8455066760913837,
          0.8450054252153203,
          0.8629986808397603,
          0.8564936750843798,
          0.8299949124536831,
          0.8419994207100654,
          0.8449979214596905,
          0.8350051700876288,
          0.8315076695886292,
          0.8505026765896332,
          0.8435054244649448,
          0.8409879144511828,
          0.8404964184574379,
          0.8384974179576878,
          0.8500014257135696,
          0.844501172837005,
          0.851996674335505,
          0.8610011810911361,
          0.8515006760883822,
          0.8479956718337528,
          0.850506428467448,
          0.8415041728385058,
          0.8315024169596884,
          0.8500059279669475,
          0.8484999242120681,
          0.8374994184589387,
          0.8375099237168202,
          0.8420046733390062,
          0.8515021768395082,
          0.8460019239629434,
          0.8510001755878817,
          0.8484991738365052,
          0.852997675336506,
          0.8400011705858782,
          0.8410006708357533,
          0.8545014279646964,
          0.848989919454687,
          0.857999678839259,
          0.845014429722076,
          0.8599926763345054,
          0.8504959232095665,
          0.8605006805906356,
          0.8565086825956391,
          0.8569941755848802,
          0.8499946723335029,
          0.8439961700831266,
          0.8365014189601897,
          0.8475079277178228,
          0.8505019262140702,
          0.8385004194599398,
          0.8675024349687019,
          0.8399936668302486,
          0.8484999242120681,
          0.8470006738372556,
          0.8449986718352536,
          0.8549981765873819,
          0.8459996728362545,
          0.8439939189564377,
          0.8624981803392598,
          0.8475011743377561,
          0.840005672839256,
          0.8454931693312503,
          0.8460011735873806,
          0.8645024334679506,
          0.853997925961944,
          0.8349999174586881,
          0.8440029234631933,
          0.8544976760868815,
          0.8369929149539345,
          0.8514991753372563,
          0.8444959202080641,
          0.8410044227135681
         ],
         "yaxis": "y5"
        }
       ],
       "layout": {
        "template": {
         "data": {
          "bar": [
           {
            "error_x": {
             "color": "#2a3f5f"
            },
            "error_y": {
             "color": "#2a3f5f"
            },
            "marker": {
             "line": {
              "color": "#E5ECF6",
              "width": 0.5
             },
             "pattern": {
              "fillmode": "overlay",
              "size": 10,
              "solidity": 0.2
             }
            },
            "type": "bar"
           }
          ],
          "barpolar": [
           {
            "marker": {
             "line": {
              "color": "#E5ECF6",
              "width": 0.5
             },
             "pattern": {
              "fillmode": "overlay",
              "size": 10,
              "solidity": 0.2
             }
            },
            "type": "barpolar"
           }
          ],
          "carpet": [
           {
            "aaxis": {
             "endlinecolor": "#2a3f5f",
             "gridcolor": "white",
             "linecolor": "white",
             "minorgridcolor": "white",
             "startlinecolor": "#2a3f5f"
            },
            "baxis": {
             "endlinecolor": "#2a3f5f",
             "gridcolor": "white",
             "linecolor": "white",
             "minorgridcolor": "white",
             "startlinecolor": "#2a3f5f"
            },
            "type": "carpet"
           }
          ],
          "choropleth": [
           {
            "colorbar": {
             "outlinewidth": 0,
             "ticks": ""
            },
            "type": "choropleth"
           }
          ],
          "contour": [
           {
            "colorbar": {
             "outlinewidth": 0,
             "ticks": ""
            },
            "colorscale": [
             [
              0,
              "#0d0887"
             ],
             [
              0.1111111111111111,
              "#46039f"
             ],
             [
              0.2222222222222222,
              "#7201a8"
             ],
             [
              0.3333333333333333,
              "#9c179e"
             ],
             [
              0.4444444444444444,
              "#bd3786"
             ],
             [
              0.5555555555555556,
              "#d8576b"
             ],
             [
              0.6666666666666666,
              "#ed7953"
             ],
             [
              0.7777777777777778,
              "#fb9f3a"
             ],
             [
              0.8888888888888888,
              "#fdca26"
             ],
             [
              1,
              "#f0f921"
             ]
            ],
            "type": "contour"
           }
          ],
          "contourcarpet": [
           {
            "colorbar": {
             "outlinewidth": 0,
             "ticks": ""
            },
            "type": "contourcarpet"
           }
          ],
          "heatmap": [
           {
            "colorbar": {
             "outlinewidth": 0,
             "ticks": ""
            },
            "colorscale": [
             [
              0,
              "#0d0887"
             ],
             [
              0.1111111111111111,
              "#46039f"
             ],
             [
              0.2222222222222222,
              "#7201a8"
             ],
             [
              0.3333333333333333,
              "#9c179e"
             ],
             [
              0.4444444444444444,
              "#bd3786"
             ],
             [
              0.5555555555555556,
              "#d8576b"
             ],
             [
              0.6666666666666666,
              "#ed7953"
             ],
             [
              0.7777777777777778,
              "#fb9f3a"
             ],
             [
              0.8888888888888888,
              "#fdca26"
             ],
             [
              1,
              "#f0f921"
             ]
            ],
            "type": "heatmap"
           }
          ],
          "heatmapgl": [
           {
            "colorbar": {
             "outlinewidth": 0,
             "ticks": ""
            },
            "colorscale": [
             [
              0,
              "#0d0887"
             ],
             [
              0.1111111111111111,
              "#46039f"
             ],
             [
              0.2222222222222222,
              "#7201a8"
             ],
             [
              0.3333333333333333,
              "#9c179e"
             ],
             [
              0.4444444444444444,
              "#bd3786"
             ],
             [
              0.5555555555555556,
              "#d8576b"
             ],
             [
              0.6666666666666666,
              "#ed7953"
             ],
             [
              0.7777777777777778,
              "#fb9f3a"
             ],
             [
              0.8888888888888888,
              "#fdca26"
             ],
             [
              1,
              "#f0f921"
             ]
            ],
            "type": "heatmapgl"
           }
          ],
          "histogram": [
           {
            "marker": {
             "pattern": {
              "fillmode": "overlay",
              "size": 10,
              "solidity": 0.2
             }
            },
            "type": "histogram"
           }
          ],
          "histogram2d": [
           {
            "colorbar": {
             "outlinewidth": 0,
             "ticks": ""
            },
            "colorscale": [
             [
              0,
              "#0d0887"
             ],
             [
              0.1111111111111111,
              "#46039f"
             ],
             [
              0.2222222222222222,
              "#7201a8"
             ],
             [
              0.3333333333333333,
              "#9c179e"
             ],
             [
              0.4444444444444444,
              "#bd3786"
             ],
             [
              0.5555555555555556,
              "#d8576b"
             ],
             [
              0.6666666666666666,
              "#ed7953"
             ],
             [
              0.7777777777777778,
              "#fb9f3a"
             ],
             [
              0.8888888888888888,
              "#fdca26"
             ],
             [
              1,
              "#f0f921"
             ]
            ],
            "type": "histogram2d"
           }
          ],
          "histogram2dcontour": [
           {
            "colorbar": {
             "outlinewidth": 0,
             "ticks": ""
            },
            "colorscale": [
             [
              0,
              "#0d0887"
             ],
             [
              0.1111111111111111,
              "#46039f"
             ],
             [
              0.2222222222222222,
              "#7201a8"
             ],
             [
              0.3333333333333333,
              "#9c179e"
             ],
             [
              0.4444444444444444,
              "#bd3786"
             ],
             [
              0.5555555555555556,
              "#d8576b"
             ],
             [
              0.6666666666666666,
              "#ed7953"
             ],
             [
              0.7777777777777778,
              "#fb9f3a"
             ],
             [
              0.8888888888888888,
              "#fdca26"
             ],
             [
              1,
              "#f0f921"
             ]
            ],
            "type": "histogram2dcontour"
           }
          ],
          "mesh3d": [
           {
            "colorbar": {
             "outlinewidth": 0,
             "ticks": ""
            },
            "type": "mesh3d"
           }
          ],
          "parcoords": [
           {
            "line": {
             "colorbar": {
              "outlinewidth": 0,
              "ticks": ""
             }
            },
            "type": "parcoords"
           }
          ],
          "pie": [
           {
            "automargin": true,
            "type": "pie"
           }
          ],
          "scatter": [
           {
            "marker": {
             "colorbar": {
              "outlinewidth": 0,
              "ticks": ""
             }
            },
            "type": "scatter"
           }
          ],
          "scatter3d": [
           {
            "line": {
             "colorbar": {
              "outlinewidth": 0,
              "ticks": ""
             }
            },
            "marker": {
             "colorbar": {
              "outlinewidth": 0,
              "ticks": ""
             }
            },
            "type": "scatter3d"
           }
          ],
          "scattercarpet": [
           {
            "marker": {
             "colorbar": {
              "outlinewidth": 0,
              "ticks": ""
             }
            },
            "type": "scattercarpet"
           }
          ],
          "scattergeo": [
           {
            "marker": {
             "colorbar": {
              "outlinewidth": 0,
              "ticks": ""
             }
            },
            "type": "scattergeo"
           }
          ],
          "scattergl": [
           {
            "marker": {
             "colorbar": {
              "outlinewidth": 0,
              "ticks": ""
             }
            },
            "type": "scattergl"
           }
          ],
          "scattermapbox": [
           {
            "marker": {
             "colorbar": {
              "outlinewidth": 0,
              "ticks": ""
             }
            },
            "type": "scattermapbox"
           }
          ],
          "scatterpolar": [
           {
            "marker": {
             "colorbar": {
              "outlinewidth": 0,
              "ticks": ""
             }
            },
            "type": "scatterpolar"
           }
          ],
          "scatterpolargl": [
           {
            "marker": {
             "colorbar": {
              "outlinewidth": 0,
              "ticks": ""
             }
            },
            "type": "scatterpolargl"
           }
          ],
          "scatterternary": [
           {
            "marker": {
             "colorbar": {
              "outlinewidth": 0,
              "ticks": ""
             }
            },
            "type": "scatterternary"
           }
          ],
          "surface": [
           {
            "colorbar": {
             "outlinewidth": 0,
             "ticks": ""
            },
            "colorscale": [
             [
              0,
              "#0d0887"
             ],
             [
              0.1111111111111111,
              "#46039f"
             ],
             [
              0.2222222222222222,
              "#7201a8"
             ],
             [
              0.3333333333333333,
              "#9c179e"
             ],
             [
              0.4444444444444444,
              "#bd3786"
             ],
             [
              0.5555555555555556,
              "#d8576b"
             ],
             [
              0.6666666666666666,
              "#ed7953"
             ],
             [
              0.7777777777777778,
              "#fb9f3a"
             ],
             [
              0.8888888888888888,
              "#fdca26"
             ],
             [
              1,
              "#f0f921"
             ]
            ],
            "type": "surface"
           }
          ],
          "table": [
           {
            "cells": {
             "fill": {
              "color": "#EBF0F8"
             },
             "line": {
              "color": "white"
             }
            },
            "header": {
             "fill": {
              "color": "#C8D4E3"
             },
             "line": {
              "color": "white"
             }
            },
            "type": "table"
           }
          ]
         },
         "layout": {
          "annotationdefaults": {
           "arrowcolor": "#2a3f5f",
           "arrowhead": 0,
           "arrowwidth": 1
          },
          "autotypenumbers": "strict",
          "coloraxis": {
           "colorbar": {
            "outlinewidth": 0,
            "ticks": ""
           }
          },
          "colorscale": {
           "diverging": [
            [
             0,
             "#8e0152"
            ],
            [
             0.1,
             "#c51b7d"
            ],
            [
             0.2,
             "#de77ae"
            ],
            [
             0.3,
             "#f1b6da"
            ],
            [
             0.4,
             "#fde0ef"
            ],
            [
             0.5,
             "#f7f7f7"
            ],
            [
             0.6,
             "#e6f5d0"
            ],
            [
             0.7,
             "#b8e186"
            ],
            [
             0.8,
             "#7fbc41"
            ],
            [
             0.9,
             "#4d9221"
            ],
            [
             1,
             "#276419"
            ]
           ],
           "sequential": [
            [
             0,
             "#0d0887"
            ],
            [
             0.1111111111111111,
             "#46039f"
            ],
            [
             0.2222222222222222,
             "#7201a8"
            ],
            [
             0.3333333333333333,
             "#9c179e"
            ],
            [
             0.4444444444444444,
             "#bd3786"
            ],
            [
             0.5555555555555556,
             "#d8576b"
            ],
            [
             0.6666666666666666,
             "#ed7953"
            ],
            [
             0.7777777777777778,
             "#fb9f3a"
            ],
            [
             0.8888888888888888,
             "#fdca26"
            ],
            [
             1,
             "#f0f921"
            ]
           ],
           "sequentialminus": [
            [
             0,
             "#0d0887"
            ],
            [
             0.1111111111111111,
             "#46039f"
            ],
            [
             0.2222222222222222,
             "#7201a8"
            ],
            [
             0.3333333333333333,
             "#9c179e"
            ],
            [
             0.4444444444444444,
             "#bd3786"
            ],
            [
             0.5555555555555556,
             "#d8576b"
            ],
            [
             0.6666666666666666,
             "#ed7953"
            ],
            [
             0.7777777777777778,
             "#fb9f3a"
            ],
            [
             0.8888888888888888,
             "#fdca26"
            ],
            [
             1,
             "#f0f921"
            ]
           ]
          },
          "colorway": [
           "#636efa",
           "#EF553B",
           "#00cc96",
           "#ab63fa",
           "#FFA15A",
           "#19d3f3",
           "#FF6692",
           "#B6E880",
           "#FF97FF",
           "#FECB52"
          ],
          "font": {
           "color": "#2a3f5f"
          },
          "geo": {
           "bgcolor": "white",
           "lakecolor": "white",
           "landcolor": "#E5ECF6",
           "showlakes": true,
           "showland": true,
           "subunitcolor": "white"
          },
          "hoverlabel": {
           "align": "left"
          },
          "hovermode": "closest",
          "mapbox": {
           "style": "light"
          },
          "paper_bgcolor": "white",
          "plot_bgcolor": "#E5ECF6",
          "polar": {
           "angularaxis": {
            "gridcolor": "white",
            "linecolor": "white",
            "ticks": ""
           },
           "bgcolor": "#E5ECF6",
           "radialaxis": {
            "gridcolor": "white",
            "linecolor": "white",
            "ticks": ""
           }
          },
          "scene": {
           "xaxis": {
            "backgroundcolor": "#E5ECF6",
            "gridcolor": "white",
            "gridwidth": 2,
            "linecolor": "white",
            "showbackground": true,
            "ticks": "",
            "zerolinecolor": "white"
           },
           "yaxis": {
            "backgroundcolor": "#E5ECF6",
            "gridcolor": "white",
            "gridwidth": 2,
            "linecolor": "white",
            "showbackground": true,
            "ticks": "",
            "zerolinecolor": "white"
           },
           "zaxis": {
            "backgroundcolor": "#E5ECF6",
            "gridcolor": "white",
            "gridwidth": 2,
            "linecolor": "white",
            "showbackground": true,
            "ticks": "",
            "zerolinecolor": "white"
           }
          },
          "shapedefaults": {
           "line": {
            "color": "#2a3f5f"
           }
          },
          "ternary": {
           "aaxis": {
            "gridcolor": "white",
            "linecolor": "white",
            "ticks": ""
           },
           "baxis": {
            "gridcolor": "white",
            "linecolor": "white",
            "ticks": ""
           },
           "bgcolor": "#E5ECF6",
           "caxis": {
            "gridcolor": "white",
            "linecolor": "white",
            "ticks": ""
           }
          },
          "title": {
           "x": 0.05
          },
          "xaxis": {
           "automargin": true,
           "gridcolor": "white",
           "linecolor": "white",
           "ticks": "",
           "title": {
            "standoff": 15
           },
           "zerolinecolor": "white",
           "zerolinewidth": 2
          },
          "yaxis": {
           "automargin": true,
           "gridcolor": "white",
           "linecolor": "white",
           "ticks": "",
           "title": {
            "standoff": 15
           },
           "zerolinecolor": "white",
           "zerolinewidth": 2
          }
         }
        },
        "title": {
         "text": "Slice Plot"
        },
        "width": 1500,
        "xaxis": {
         "anchor": "y",
         "domain": [
          0,
          0.16799999999999998
         ],
         "title": {
          "text": "criterion"
         }
        },
        "xaxis2": {
         "anchor": "y2",
         "domain": [
          0.208,
          0.376
         ],
         "title": {
          "text": "max_depth"
         },
         "type": "log"
        },
        "xaxis3": {
         "anchor": "y3",
         "domain": [
          0.416,
          0.584
         ],
         "title": {
          "text": "min_samples_leaf"
         }
        },
        "xaxis4": {
         "anchor": "y4",
         "domain": [
          0.624,
          0.792
         ],
         "title": {
          "text": "min_samples_split"
         }
        },
        "xaxis5": {
         "anchor": "y5",
         "domain": [
          0.832,
          1
         ],
         "title": {
          "text": "n_estimators"
         }
        },
        "yaxis": {
         "anchor": "x",
         "domain": [
          0,
          1
         ],
         "title": {
          "text": "Objective Value"
         }
        },
        "yaxis2": {
         "anchor": "x2",
         "domain": [
          0,
          1
         ],
         "matches": "y",
         "showticklabels": false
        },
        "yaxis3": {
         "anchor": "x3",
         "domain": [
          0,
          1
         ],
         "matches": "y",
         "showticklabels": false
        },
        "yaxis4": {
         "anchor": "x4",
         "domain": [
          0,
          1
         ],
         "matches": "y",
         "showticklabels": false
        },
        "yaxis5": {
         "anchor": "x5",
         "domain": [
          0,
          1
         ],
         "matches": "y",
         "showticklabels": false
        }
       }
      },
      "text/html": [
       "<div>                            <div id=\"ab77e8f2-c382-43da-8279-af606916cf48\" class=\"plotly-graph-div\" style=\"height:525px; width:1500px;\"></div>            <script type=\"text/javascript\">                require([\"plotly\"], function(Plotly) {                    window.PLOTLYENV=window.PLOTLYENV || {};                                    if (document.getElementById(\"ab77e8f2-c382-43da-8279-af606916cf48\")) {                    Plotly.newPlot(                        \"ab77e8f2-c382-43da-8279-af606916cf48\",                        [{\"marker\":{\"color\":[0,1,2,3,4,5,6,7,8,9,10,11,12,13,14,15,16,17,18,19,20,21,22,23,24,25,26,27,28,29,30,31,32,33,34,35,36,37,38,39,40,41,42,43,44,45,46,47,48,49,50,51,52,53,54,55,56,57,58,59,60,61,62,63,64,65,66,67,68,69,70,71,72,73,74,75,76,77,78,79,80,81,82,83,84,85,86,87,88,89,90,91,92,93,94,95,96,97,98,99],\"colorbar\":{\"title\":{\"text\":\"Trial\"},\"x\":1.0,\"xpad\":40},\"colorscale\":[[0.0,\"rgb(247,251,255)\"],[0.125,\"rgb(222,235,247)\"],[0.25,\"rgb(198,219,239)\"],[0.375,\"rgb(158,202,225)\"],[0.5,\"rgb(107,174,214)\"],[0.625,\"rgb(66,146,198)\"],[0.75,\"rgb(33,113,181)\"],[0.875,\"rgb(8,81,156)\"],[1.0,\"rgb(8,48,107)\"]],\"line\":{\"color\":\"Grey\",\"width\":0.5},\"showscale\":true},\"mode\":\"markers\",\"showlegend\":false,\"x\":[\"entropy\",\"gini\",\"entropy\",\"gini\",\"entropy\",\"entropy\",\"gini\",\"entropy\",\"entropy\",\"entropy\",\"gini\",\"gini\",\"gini\",\"gini\",\"entropy\",\"gini\",\"gini\",\"gini\",\"gini\",\"gini\",\"gini\",\"gini\",\"gini\",\"gini\",\"gini\",\"gini\",\"gini\",\"gini\",\"gini\",\"gini\",\"gini\",\"gini\",\"gini\",\"gini\",\"gini\",\"gini\",\"gini\",\"gini\",\"entropy\",\"gini\",\"entropy\",\"gini\",\"gini\",\"gini\",\"gini\",\"gini\",\"entropy\",\"gini\",\"gini\",\"gini\",\"entropy\",\"gini\",\"gini\",\"gini\",\"gini\",\"gini\",\"gini\",\"gini\",\"gini\",\"gini\",\"entropy\",\"gini\",\"gini\",\"gini\",\"gini\",\"gini\",\"gini\",\"gini\",\"gini\",\"gini\",\"gini\",\"gini\",\"gini\",\"gini\",\"gini\",\"gini\",\"gini\",\"gini\",\"gini\",\"entropy\",\"gini\",\"gini\",\"gini\",\"gini\",\"gini\",\"gini\",\"gini\",\"gini\",\"gini\",\"gini\",\"gini\",\"gini\",\"gini\",\"gini\",\"gini\",\"gini\",\"entropy\",\"gini\",\"gini\",\"gini\"],\"y\":[0.8525024274649463,0.8420009214611913,0.8554971763367566,0.8330024177100639,0.8450061755908833,0.8450061755908833,0.8575021798410104,0.8504951728340034,0.8410036723380051,0.8525024274649463,0.8554889222055638,0.8435046740893818,0.8475011743377561,0.8515014264639452,0.8410006708357533,0.8464994229611921,0.8589901745823786,0.8459989224606916,0.85299617458538,0.8610056833445139,0.8425021723372549,0.8594944269606938,0.8554934244589417,0.8324959142050595,0.8345039192115654,0.8539964252108181,0.8510001755878817,0.8514939227083156,0.8455066760913837,0.8450054252153203,0.8629986808397603,0.8564936750843798,0.8299949124536831,0.8419994207100654,0.8449979214596905,0.8350051700876288,0.8315076695886292,0.8505026765896332,0.8435054244649448,0.8409879144511828,0.8404964184574379,0.8384974179576878,0.8500014257135696,0.844501172837005,0.851996674335505,0.8610011810911361,0.8515006760883822,0.8479956718337528,0.850506428467448,0.8415041728385058,0.8315024169596884,0.8500059279669475,0.8484999242120681,0.8374994184589387,0.8375099237168202,0.8420046733390062,0.8515021768395082,0.8460019239629434,0.8510001755878817,0.8484991738365052,0.852997675336506,0.8400011705858782,0.8410006708357533,0.8545014279646964,0.848989919454687,0.857999678839259,0.845014429722076,0.8599926763345054,0.8504959232095665,0.8605006805906356,0.8565086825956391,0.8569941755848802,0.8499946723335029,0.8439961700831266,0.8365014189601897,0.8475079277178228,0.8505019262140702,0.8385004194599398,0.8675024349687019,0.8399936668302486,0.8484999242120681,0.8470006738372556,0.8449986718352536,0.8549981765873819,0.8459996728362545,0.8439939189564377,0.8624981803392598,0.8475011743377561,0.840005672839256,0.8454931693312503,0.8460011735873806,0.8645024334679506,0.853997925961944,0.8349999174586881,0.8440029234631933,0.8544976760868815,0.8369929149539345,0.8514991753372563,0.8444959202080641,0.8410044227135681],\"type\":\"scatter\",\"xaxis\":\"x\",\"yaxis\":\"y\"},{\"marker\":{\"color\":[0,1,2,3,4,5,6,7,8,9,10,11,12,13,14,15,16,17,18,19,20,21,22,23,24,25,26,27,28,29,30,31,32,33,34,35,36,37,38,39,40,41,42,43,44,45,46,47,48,49,50,51,52,53,54,55,56,57,58,59,60,61,62,63,64,65,66,67,68,69,70,71,72,73,74,75,76,77,78,79,80,81,82,83,84,85,86,87,88,89,90,91,92,93,94,95,96,97,98,99],\"colorbar\":{\"title\":{\"text\":\"Trial\"},\"x\":1.0,\"xpad\":40},\"colorscale\":[[0.0,\"rgb(247,251,255)\"],[0.125,\"rgb(222,235,247)\"],[0.25,\"rgb(198,219,239)\"],[0.375,\"rgb(158,202,225)\"],[0.5,\"rgb(107,174,214)\"],[0.625,\"rgb(66,146,198)\"],[0.75,\"rgb(33,113,181)\"],[0.875,\"rgb(8,81,156)\"],[1.0,\"rgb(8,48,107)\"]],\"line\":{\"color\":\"Grey\",\"width\":0.5},\"showscale\":false},\"mode\":\"markers\",\"showlegend\":false,\"x\":[19,34,36,10,14,17,38,25,12,14,26,38,30,40,26,33,22,21,22,17,17,16,16,19,14,23,12,16,20,18,29,29,24,30,15,20,12,28,34,18,13,33,38,10,27,31,31,15,22,25,32,36,40,36,17,28,19,35,38,16,21,29,26,24,31,15,15,13,11,13,13,13,14,11,18,15,12,17,14,11,16,14,13,14,16,15,18,19,18,21,20,17,18,17,17,19,23,16,13,14],\"y\":[0.8525024274649463,0.8420009214611913,0.8554971763367566,0.8330024177100639,0.8450061755908833,0.8450061755908833,0.8575021798410104,0.8504951728340034,0.8410036723380051,0.8525024274649463,0.8554889222055638,0.8435046740893818,0.8475011743377561,0.8515014264639452,0.8410006708357533,0.8464994229611921,0.8589901745823786,0.8459989224606916,0.85299617458538,0.8610056833445139,0.8425021723372549,0.8594944269606938,0.8554934244589417,0.8324959142050595,0.8345039192115654,0.8539964252108181,0.8510001755878817,0.8514939227083156,0.8455066760913837,0.8450054252153203,0.8629986808397603,0.8564936750843798,0.8299949124536831,0.8419994207100654,0.8449979214596905,0.8350051700876288,0.8315076695886292,0.8505026765896332,0.8435054244649448,0.8409879144511828,0.8404964184574379,0.8384974179576878,0.8500014257135696,0.844501172837005,0.851996674335505,0.8610011810911361,0.8515006760883822,0.8479956718337528,0.850506428467448,0.8415041728385058,0.8315024169596884,0.8500059279669475,0.8484999242120681,0.8374994184589387,0.8375099237168202,0.8420046733390062,0.8515021768395082,0.8460019239629434,0.8510001755878817,0.8484991738365052,0.852997675336506,0.8400011705858782,0.8410006708357533,0.8545014279646964,0.848989919454687,0.857999678839259,0.845014429722076,0.8599926763345054,0.8504959232095665,0.8605006805906356,0.8565086825956391,0.8569941755848802,0.8499946723335029,0.8439961700831266,0.8365014189601897,0.8475079277178228,0.8505019262140702,0.8385004194599398,0.8675024349687019,0.8399936668302486,0.8484999242120681,0.8470006738372556,0.8449986718352536,0.8549981765873819,0.8459996728362545,0.8439939189564377,0.8624981803392598,0.8475011743377561,0.840005672839256,0.8454931693312503,0.8460011735873806,0.8645024334679506,0.853997925961944,0.8349999174586881,0.8440029234631933,0.8544976760868815,0.8369929149539345,0.8514991753372563,0.8444959202080641,0.8410044227135681],\"type\":\"scatter\",\"xaxis\":\"x2\",\"yaxis\":\"y2\"},{\"marker\":{\"color\":[0,1,2,3,4,5,6,7,8,9,10,11,12,13,14,15,16,17,18,19,20,21,22,23,24,25,26,27,28,29,30,31,32,33,34,35,36,37,38,39,40,41,42,43,44,45,46,47,48,49,50,51,52,53,54,55,56,57,58,59,60,61,62,63,64,65,66,67,68,69,70,71,72,73,74,75,76,77,78,79,80,81,82,83,84,85,86,87,88,89,90,91,92,93,94,95,96,97,98,99],\"colorbar\":{\"title\":{\"text\":\"Trial\"},\"x\":1.0,\"xpad\":40},\"colorscale\":[[0.0,\"rgb(247,251,255)\"],[0.125,\"rgb(222,235,247)\"],[0.25,\"rgb(198,219,239)\"],[0.375,\"rgb(158,202,225)\"],[0.5,\"rgb(107,174,214)\"],[0.625,\"rgb(66,146,198)\"],[0.75,\"rgb(33,113,181)\"],[0.875,\"rgb(8,81,156)\"],[1.0,\"rgb(8,48,107)\"]],\"line\":{\"color\":\"Grey\",\"width\":0.5},\"showscale\":false},\"mode\":\"markers\",\"showlegend\":false,\"x\":[8,46,63,39,55,32,75,99,54,35,84,73,72,69,92,62,82,82,86,21,19,23,21,8,23,0,29,43,10,15,49,29,1,47,60,14,41,51,26,35,58,79,100,67,90,78,94,76,34,66,88,80,73,96,85,53,17,76,70,39,64,30,25,11,5,46,47,55,58,38,38,43,49,55,44,23,51,38,27,20,32,27,35,18,24,28,41,32,41,82,14,48,49,21,55,41,36,45,52,16],\"y\":[0.8525024274649463,0.8420009214611913,0.8554971763367566,0.8330024177100639,0.8450061755908833,0.8450061755908833,0.8575021798410104,0.8504951728340034,0.8410036723380051,0.8525024274649463,0.8554889222055638,0.8435046740893818,0.8475011743377561,0.8515014264639452,0.8410006708357533,0.8464994229611921,0.8589901745823786,0.8459989224606916,0.85299617458538,0.8610056833445139,0.8425021723372549,0.8594944269606938,0.8554934244589417,0.8324959142050595,0.8345039192115654,0.8539964252108181,0.8510001755878817,0.8514939227083156,0.8455066760913837,0.8450054252153203,0.8629986808397603,0.8564936750843798,0.8299949124536831,0.8419994207100654,0.8449979214596905,0.8350051700876288,0.8315076695886292,0.8505026765896332,0.8435054244649448,0.8409879144511828,0.8404964184574379,0.8384974179576878,0.8500014257135696,0.844501172837005,0.851996674335505,0.8610011810911361,0.8515006760883822,0.8479956718337528,0.850506428467448,0.8415041728385058,0.8315024169596884,0.8500059279669475,0.8484999242120681,0.8374994184589387,0.8375099237168202,0.8420046733390062,0.8515021768395082,0.8460019239629434,0.8510001755878817,0.8484991738365052,0.852997675336506,0.8400011705858782,0.8410006708357533,0.8545014279646964,0.848989919454687,0.857999678839259,0.845014429722076,0.8599926763345054,0.8504959232095665,0.8605006805906356,0.8565086825956391,0.8569941755848802,0.8499946723335029,0.8439961700831266,0.8365014189601897,0.8475079277178228,0.8505019262140702,0.8385004194599398,0.8675024349687019,0.8399936668302486,0.8484999242120681,0.8470006738372556,0.8449986718352536,0.8549981765873819,0.8459996728362545,0.8439939189564377,0.8624981803392598,0.8475011743377561,0.840005672839256,0.8454931693312503,0.8460011735873806,0.8645024334679506,0.853997925961944,0.8349999174586881,0.8440029234631933,0.8544976760868815,0.8369929149539345,0.8514991753372563,0.8444959202080641,0.8410044227135681],\"type\":\"scatter\",\"xaxis\":\"x3\",\"yaxis\":\"y3\"},{\"marker\":{\"color\":[0,1,2,3,4,5,6,7,8,9,10,11,12,13,14,15,16,17,18,19,20,21,22,23,24,25,26,27,28,29,30,31,32,33,34,35,36,37,38,39,40,41,42,43,44,45,46,47,48,49,50,51,52,53,54,55,56,57,58,59,60,61,62,63,64,65,66,67,68,69,70,71,72,73,74,75,76,77,78,79,80,81,82,83,84,85,86,87,88,89,90,91,92,93,94,95,96,97,98,99],\"colorbar\":{\"title\":{\"text\":\"Trial\"},\"x\":1.0,\"xpad\":40},\"colorscale\":[[0.0,\"rgb(247,251,255)\"],[0.125,\"rgb(222,235,247)\"],[0.25,\"rgb(198,219,239)\"],[0.375,\"rgb(158,202,225)\"],[0.5,\"rgb(107,174,214)\"],[0.625,\"rgb(66,146,198)\"],[0.75,\"rgb(33,113,181)\"],[0.875,\"rgb(8,81,156)\"],[1.0,\"rgb(8,48,107)\"]],\"line\":{\"color\":\"Grey\",\"width\":0.5},\"showscale\":false},\"mode\":\"markers\",\"showlegend\":false,\"x\":[44,89,4,76,37,9,1,70,38,47,20,5,21,0,23,63,28,29,16,57,56,55,57,78,98,55,35,65,48,44,31,30,40,30,52,77,12,43,61,68,72,85,10,25,35,16,17,50,6,27,15,2,20,7,60,33,0,12,22,43,53,39,31,27,47,19,17,24,23,19,58,18,14,25,21,9,65,36,27,32,27,19,24,13,27,53,33,41,34,29,37,21,25,21,49,29,32,60,45,15],\"y\":[0.8525024274649463,0.8420009214611913,0.8554971763367566,0.8330024177100639,0.8450061755908833,0.8450061755908833,0.8575021798410104,0.8504951728340034,0.8410036723380051,0.8525024274649463,0.8554889222055638,0.8435046740893818,0.8475011743377561,0.8515014264639452,0.8410006708357533,0.8464994229611921,0.8589901745823786,0.8459989224606916,0.85299617458538,0.8610056833445139,0.8425021723372549,0.8594944269606938,0.8554934244589417,0.8324959142050595,0.8345039192115654,0.8539964252108181,0.8510001755878817,0.8514939227083156,0.8455066760913837,0.8450054252153203,0.8629986808397603,0.8564936750843798,0.8299949124536831,0.8419994207100654,0.8449979214596905,0.8350051700876288,0.8315076695886292,0.8505026765896332,0.8435054244649448,0.8409879144511828,0.8404964184574379,0.8384974179576878,0.8500014257135696,0.844501172837005,0.851996674335505,0.8610011810911361,0.8515006760883822,0.8479956718337528,0.850506428467448,0.8415041728385058,0.8315024169596884,0.8500059279669475,0.8484999242120681,0.8374994184589387,0.8375099237168202,0.8420046733390062,0.8515021768395082,0.8460019239629434,0.8510001755878817,0.8484991738365052,0.852997675336506,0.8400011705858782,0.8410006708357533,0.8545014279646964,0.848989919454687,0.857999678839259,0.845014429722076,0.8599926763345054,0.8504959232095665,0.8605006805906356,0.8565086825956391,0.8569941755848802,0.8499946723335029,0.8439961700831266,0.8365014189601897,0.8475079277178228,0.8505019262140702,0.8385004194599398,0.8675024349687019,0.8399936668302486,0.8484999242120681,0.8470006738372556,0.8449986718352536,0.8549981765873819,0.8459996728362545,0.8439939189564377,0.8624981803392598,0.8475011743377561,0.840005672839256,0.8454931693312503,0.8460011735873806,0.8645024334679506,0.853997925961944,0.8349999174586881,0.8440029234631933,0.8544976760868815,0.8369929149539345,0.8514991753372563,0.8444959202080641,0.8410044227135681],\"type\":\"scatter\",\"xaxis\":\"x4\",\"yaxis\":\"y4\"},{\"marker\":{\"color\":[0,1,2,3,4,5,6,7,8,9,10,11,12,13,14,15,16,17,18,19,20,21,22,23,24,25,26,27,28,29,30,31,32,33,34,35,36,37,38,39,40,41,42,43,44,45,46,47,48,49,50,51,52,53,54,55,56,57,58,59,60,61,62,63,64,65,66,67,68,69,70,71,72,73,74,75,76,77,78,79,80,81,82,83,84,85,86,87,88,89,90,91,92,93,94,95,96,97,98,99],\"colorbar\":{\"title\":{\"text\":\"Trial\"},\"x\":1.0,\"xpad\":40},\"colorscale\":[[0.0,\"rgb(247,251,255)\"],[0.125,\"rgb(222,235,247)\"],[0.25,\"rgb(198,219,239)\"],[0.375,\"rgb(158,202,225)\"],[0.5,\"rgb(107,174,214)\"],[0.625,\"rgb(66,146,198)\"],[0.75,\"rgb(33,113,181)\"],[0.875,\"rgb(8,81,156)\"],[1.0,\"rgb(8,48,107)\"]],\"line\":{\"color\":\"Grey\",\"width\":0.5},\"showscale\":false},\"mode\":\"markers\",\"showlegend\":false,\"x\":[357,350,451,348,469,408,496,487,487,387,301,449,438,498,439,462,416,414,384,303,312,322,325,331,368,329,420,301,391,367,342,338,315,345,366,314,354,320,426,378,340,472,306,402,357,336,335,349,323,308,398,499,478,462,435,300,450,319,489,328,378,337,344,357,308,329,331,318,317,324,323,331,412,308,312,342,327,334,424,427,417,407,425,441,318,324,351,305,355,352,362,339,344,339,348,312,432,334,321,395],\"y\":[0.8525024274649463,0.8420009214611913,0.8554971763367566,0.8330024177100639,0.8450061755908833,0.8450061755908833,0.8575021798410104,0.8504951728340034,0.8410036723380051,0.8525024274649463,0.8554889222055638,0.8435046740893818,0.8475011743377561,0.8515014264639452,0.8410006708357533,0.8464994229611921,0.8589901745823786,0.8459989224606916,0.85299617458538,0.8610056833445139,0.8425021723372549,0.8594944269606938,0.8554934244589417,0.8324959142050595,0.8345039192115654,0.8539964252108181,0.8510001755878817,0.8514939227083156,0.8455066760913837,0.8450054252153203,0.8629986808397603,0.8564936750843798,0.8299949124536831,0.8419994207100654,0.8449979214596905,0.8350051700876288,0.8315076695886292,0.8505026765896332,0.8435054244649448,0.8409879144511828,0.8404964184574379,0.8384974179576878,0.8500014257135696,0.844501172837005,0.851996674335505,0.8610011810911361,0.8515006760883822,0.8479956718337528,0.850506428467448,0.8415041728385058,0.8315024169596884,0.8500059279669475,0.8484999242120681,0.8374994184589387,0.8375099237168202,0.8420046733390062,0.8515021768395082,0.8460019239629434,0.8510001755878817,0.8484991738365052,0.852997675336506,0.8400011705858782,0.8410006708357533,0.8545014279646964,0.848989919454687,0.857999678839259,0.845014429722076,0.8599926763345054,0.8504959232095665,0.8605006805906356,0.8565086825956391,0.8569941755848802,0.8499946723335029,0.8439961700831266,0.8365014189601897,0.8475079277178228,0.8505019262140702,0.8385004194599398,0.8675024349687019,0.8399936668302486,0.8484999242120681,0.8470006738372556,0.8449986718352536,0.8549981765873819,0.8459996728362545,0.8439939189564377,0.8624981803392598,0.8475011743377561,0.840005672839256,0.8454931693312503,0.8460011735873806,0.8645024334679506,0.853997925961944,0.8349999174586881,0.8440029234631933,0.8544976760868815,0.8369929149539345,0.8514991753372563,0.8444959202080641,0.8410044227135681],\"type\":\"scatter\",\"xaxis\":\"x5\",\"yaxis\":\"y5\"}],                        {\"template\":{\"data\":{\"bar\":[{\"error_x\":{\"color\":\"#2a3f5f\"},\"error_y\":{\"color\":\"#2a3f5f\"},\"marker\":{\"line\":{\"color\":\"#E5ECF6\",\"width\":0.5},\"pattern\":{\"fillmode\":\"overlay\",\"size\":10,\"solidity\":0.2}},\"type\":\"bar\"}],\"barpolar\":[{\"marker\":{\"line\":{\"color\":\"#E5ECF6\",\"width\":0.5},\"pattern\":{\"fillmode\":\"overlay\",\"size\":10,\"solidity\":0.2}},\"type\":\"barpolar\"}],\"carpet\":[{\"aaxis\":{\"endlinecolor\":\"#2a3f5f\",\"gridcolor\":\"white\",\"linecolor\":\"white\",\"minorgridcolor\":\"white\",\"startlinecolor\":\"#2a3f5f\"},\"baxis\":{\"endlinecolor\":\"#2a3f5f\",\"gridcolor\":\"white\",\"linecolor\":\"white\",\"minorgridcolor\":\"white\",\"startlinecolor\":\"#2a3f5f\"},\"type\":\"carpet\"}],\"choropleth\":[{\"colorbar\":{\"outlinewidth\":0,\"ticks\":\"\"},\"type\":\"choropleth\"}],\"contour\":[{\"colorbar\":{\"outlinewidth\":0,\"ticks\":\"\"},\"colorscale\":[[0.0,\"#0d0887\"],[0.1111111111111111,\"#46039f\"],[0.2222222222222222,\"#7201a8\"],[0.3333333333333333,\"#9c179e\"],[0.4444444444444444,\"#bd3786\"],[0.5555555555555556,\"#d8576b\"],[0.6666666666666666,\"#ed7953\"],[0.7777777777777778,\"#fb9f3a\"],[0.8888888888888888,\"#fdca26\"],[1.0,\"#f0f921\"]],\"type\":\"contour\"}],\"contourcarpet\":[{\"colorbar\":{\"outlinewidth\":0,\"ticks\":\"\"},\"type\":\"contourcarpet\"}],\"heatmap\":[{\"colorbar\":{\"outlinewidth\":0,\"ticks\":\"\"},\"colorscale\":[[0.0,\"#0d0887\"],[0.1111111111111111,\"#46039f\"],[0.2222222222222222,\"#7201a8\"],[0.3333333333333333,\"#9c179e\"],[0.4444444444444444,\"#bd3786\"],[0.5555555555555556,\"#d8576b\"],[0.6666666666666666,\"#ed7953\"],[0.7777777777777778,\"#fb9f3a\"],[0.8888888888888888,\"#fdca26\"],[1.0,\"#f0f921\"]],\"type\":\"heatmap\"}],\"heatmapgl\":[{\"colorbar\":{\"outlinewidth\":0,\"ticks\":\"\"},\"colorscale\":[[0.0,\"#0d0887\"],[0.1111111111111111,\"#46039f\"],[0.2222222222222222,\"#7201a8\"],[0.3333333333333333,\"#9c179e\"],[0.4444444444444444,\"#bd3786\"],[0.5555555555555556,\"#d8576b\"],[0.6666666666666666,\"#ed7953\"],[0.7777777777777778,\"#fb9f3a\"],[0.8888888888888888,\"#fdca26\"],[1.0,\"#f0f921\"]],\"type\":\"heatmapgl\"}],\"histogram\":[{\"marker\":{\"pattern\":{\"fillmode\":\"overlay\",\"size\":10,\"solidity\":0.2}},\"type\":\"histogram\"}],\"histogram2d\":[{\"colorbar\":{\"outlinewidth\":0,\"ticks\":\"\"},\"colorscale\":[[0.0,\"#0d0887\"],[0.1111111111111111,\"#46039f\"],[0.2222222222222222,\"#7201a8\"],[0.3333333333333333,\"#9c179e\"],[0.4444444444444444,\"#bd3786\"],[0.5555555555555556,\"#d8576b\"],[0.6666666666666666,\"#ed7953\"],[0.7777777777777778,\"#fb9f3a\"],[0.8888888888888888,\"#fdca26\"],[1.0,\"#f0f921\"]],\"type\":\"histogram2d\"}],\"histogram2dcontour\":[{\"colorbar\":{\"outlinewidth\":0,\"ticks\":\"\"},\"colorscale\":[[0.0,\"#0d0887\"],[0.1111111111111111,\"#46039f\"],[0.2222222222222222,\"#7201a8\"],[0.3333333333333333,\"#9c179e\"],[0.4444444444444444,\"#bd3786\"],[0.5555555555555556,\"#d8576b\"],[0.6666666666666666,\"#ed7953\"],[0.7777777777777778,\"#fb9f3a\"],[0.8888888888888888,\"#fdca26\"],[1.0,\"#f0f921\"]],\"type\":\"histogram2dcontour\"}],\"mesh3d\":[{\"colorbar\":{\"outlinewidth\":0,\"ticks\":\"\"},\"type\":\"mesh3d\"}],\"parcoords\":[{\"line\":{\"colorbar\":{\"outlinewidth\":0,\"ticks\":\"\"}},\"type\":\"parcoords\"}],\"pie\":[{\"automargin\":true,\"type\":\"pie\"}],\"scatter\":[{\"marker\":{\"colorbar\":{\"outlinewidth\":0,\"ticks\":\"\"}},\"type\":\"scatter\"}],\"scatter3d\":[{\"line\":{\"colorbar\":{\"outlinewidth\":0,\"ticks\":\"\"}},\"marker\":{\"colorbar\":{\"outlinewidth\":0,\"ticks\":\"\"}},\"type\":\"scatter3d\"}],\"scattercarpet\":[{\"marker\":{\"colorbar\":{\"outlinewidth\":0,\"ticks\":\"\"}},\"type\":\"scattercarpet\"}],\"scattergeo\":[{\"marker\":{\"colorbar\":{\"outlinewidth\":0,\"ticks\":\"\"}},\"type\":\"scattergeo\"}],\"scattergl\":[{\"marker\":{\"colorbar\":{\"outlinewidth\":0,\"ticks\":\"\"}},\"type\":\"scattergl\"}],\"scattermapbox\":[{\"marker\":{\"colorbar\":{\"outlinewidth\":0,\"ticks\":\"\"}},\"type\":\"scattermapbox\"}],\"scatterpolar\":[{\"marker\":{\"colorbar\":{\"outlinewidth\":0,\"ticks\":\"\"}},\"type\":\"scatterpolar\"}],\"scatterpolargl\":[{\"marker\":{\"colorbar\":{\"outlinewidth\":0,\"ticks\":\"\"}},\"type\":\"scatterpolargl\"}],\"scatterternary\":[{\"marker\":{\"colorbar\":{\"outlinewidth\":0,\"ticks\":\"\"}},\"type\":\"scatterternary\"}],\"surface\":[{\"colorbar\":{\"outlinewidth\":0,\"ticks\":\"\"},\"colorscale\":[[0.0,\"#0d0887\"],[0.1111111111111111,\"#46039f\"],[0.2222222222222222,\"#7201a8\"],[0.3333333333333333,\"#9c179e\"],[0.4444444444444444,\"#bd3786\"],[0.5555555555555556,\"#d8576b\"],[0.6666666666666666,\"#ed7953\"],[0.7777777777777778,\"#fb9f3a\"],[0.8888888888888888,\"#fdca26\"],[1.0,\"#f0f921\"]],\"type\":\"surface\"}],\"table\":[{\"cells\":{\"fill\":{\"color\":\"#EBF0F8\"},\"line\":{\"color\":\"white\"}},\"header\":{\"fill\":{\"color\":\"#C8D4E3\"},\"line\":{\"color\":\"white\"}},\"type\":\"table\"}]},\"layout\":{\"annotationdefaults\":{\"arrowcolor\":\"#2a3f5f\",\"arrowhead\":0,\"arrowwidth\":1},\"autotypenumbers\":\"strict\",\"coloraxis\":{\"colorbar\":{\"outlinewidth\":0,\"ticks\":\"\"}},\"colorscale\":{\"diverging\":[[0,\"#8e0152\"],[0.1,\"#c51b7d\"],[0.2,\"#de77ae\"],[0.3,\"#f1b6da\"],[0.4,\"#fde0ef\"],[0.5,\"#f7f7f7\"],[0.6,\"#e6f5d0\"],[0.7,\"#b8e186\"],[0.8,\"#7fbc41\"],[0.9,\"#4d9221\"],[1,\"#276419\"]],\"sequential\":[[0.0,\"#0d0887\"],[0.1111111111111111,\"#46039f\"],[0.2222222222222222,\"#7201a8\"],[0.3333333333333333,\"#9c179e\"],[0.4444444444444444,\"#bd3786\"],[0.5555555555555556,\"#d8576b\"],[0.6666666666666666,\"#ed7953\"],[0.7777777777777778,\"#fb9f3a\"],[0.8888888888888888,\"#fdca26\"],[1.0,\"#f0f921\"]],\"sequentialminus\":[[0.0,\"#0d0887\"],[0.1111111111111111,\"#46039f\"],[0.2222222222222222,\"#7201a8\"],[0.3333333333333333,\"#9c179e\"],[0.4444444444444444,\"#bd3786\"],[0.5555555555555556,\"#d8576b\"],[0.6666666666666666,\"#ed7953\"],[0.7777777777777778,\"#fb9f3a\"],[0.8888888888888888,\"#fdca26\"],[1.0,\"#f0f921\"]]},\"colorway\":[\"#636efa\",\"#EF553B\",\"#00cc96\",\"#ab63fa\",\"#FFA15A\",\"#19d3f3\",\"#FF6692\",\"#B6E880\",\"#FF97FF\",\"#FECB52\"],\"font\":{\"color\":\"#2a3f5f\"},\"geo\":{\"bgcolor\":\"white\",\"lakecolor\":\"white\",\"landcolor\":\"#E5ECF6\",\"showlakes\":true,\"showland\":true,\"subunitcolor\":\"white\"},\"hoverlabel\":{\"align\":\"left\"},\"hovermode\":\"closest\",\"mapbox\":{\"style\":\"light\"},\"paper_bgcolor\":\"white\",\"plot_bgcolor\":\"#E5ECF6\",\"polar\":{\"angularaxis\":{\"gridcolor\":\"white\",\"linecolor\":\"white\",\"ticks\":\"\"},\"bgcolor\":\"#E5ECF6\",\"radialaxis\":{\"gridcolor\":\"white\",\"linecolor\":\"white\",\"ticks\":\"\"}},\"scene\":{\"xaxis\":{\"backgroundcolor\":\"#E5ECF6\",\"gridcolor\":\"white\",\"gridwidth\":2,\"linecolor\":\"white\",\"showbackground\":true,\"ticks\":\"\",\"zerolinecolor\":\"white\"},\"yaxis\":{\"backgroundcolor\":\"#E5ECF6\",\"gridcolor\":\"white\",\"gridwidth\":2,\"linecolor\":\"white\",\"showbackground\":true,\"ticks\":\"\",\"zerolinecolor\":\"white\"},\"zaxis\":{\"backgroundcolor\":\"#E5ECF6\",\"gridcolor\":\"white\",\"gridwidth\":2,\"linecolor\":\"white\",\"showbackground\":true,\"ticks\":\"\",\"zerolinecolor\":\"white\"}},\"shapedefaults\":{\"line\":{\"color\":\"#2a3f5f\"}},\"ternary\":{\"aaxis\":{\"gridcolor\":\"white\",\"linecolor\":\"white\",\"ticks\":\"\"},\"baxis\":{\"gridcolor\":\"white\",\"linecolor\":\"white\",\"ticks\":\"\"},\"bgcolor\":\"#E5ECF6\",\"caxis\":{\"gridcolor\":\"white\",\"linecolor\":\"white\",\"ticks\":\"\"}},\"title\":{\"x\":0.05},\"xaxis\":{\"automargin\":true,\"gridcolor\":\"white\",\"linecolor\":\"white\",\"ticks\":\"\",\"title\":{\"standoff\":15},\"zerolinecolor\":\"white\",\"zerolinewidth\":2},\"yaxis\":{\"automargin\":true,\"gridcolor\":\"white\",\"linecolor\":\"white\",\"ticks\":\"\",\"title\":{\"standoff\":15},\"zerolinecolor\":\"white\",\"zerolinewidth\":2}}},\"xaxis\":{\"anchor\":\"y\",\"domain\":[0.0,0.16799999999999998],\"title\":{\"text\":\"criterion\"}},\"yaxis\":{\"anchor\":\"x\",\"domain\":[0.0,1.0],\"title\":{\"text\":\"Objective Value\"}},\"xaxis2\":{\"anchor\":\"y2\",\"domain\":[0.208,0.376],\"title\":{\"text\":\"max_depth\"},\"type\":\"log\"},\"yaxis2\":{\"anchor\":\"x2\",\"domain\":[0.0,1.0],\"matches\":\"y\",\"showticklabels\":false},\"xaxis3\":{\"anchor\":\"y3\",\"domain\":[0.416,0.584],\"title\":{\"text\":\"min_samples_leaf\"}},\"yaxis3\":{\"anchor\":\"x3\",\"domain\":[0.0,1.0],\"matches\":\"y\",\"showticklabels\":false},\"xaxis4\":{\"anchor\":\"y4\",\"domain\":[0.624,0.792],\"title\":{\"text\":\"min_samples_split\"}},\"yaxis4\":{\"anchor\":\"x4\",\"domain\":[0.0,1.0],\"matches\":\"y\",\"showticklabels\":false},\"xaxis5\":{\"anchor\":\"y5\",\"domain\":[0.832,1.0],\"title\":{\"text\":\"n_estimators\"}},\"yaxis5\":{\"anchor\":\"x5\",\"domain\":[0.0,1.0],\"matches\":\"y\",\"showticklabels\":false},\"title\":{\"text\":\"Slice Plot\"},\"width\":1500},                        {\"responsive\": true}                    ).then(function(){\n",
       "                            \n",
       "var gd = document.getElementById('ab77e8f2-c382-43da-8279-af606916cf48');\n",
       "var x = new MutationObserver(function (mutations, observer) {{\n",
       "        var display = window.getComputedStyle(gd).display;\n",
       "        if (!display || display === 'none') {{\n",
       "            console.log([gd, 'removed!']);\n",
       "            Plotly.purge(gd);\n",
       "            observer.disconnect();\n",
       "        }}\n",
       "}});\n",
       "\n",
       "// Listen for the removal of the full notebook cells\n",
       "var notebookContainer = gd.closest('#notebook-container');\n",
       "if (notebookContainer) {{\n",
       "    x.observe(notebookContainer, {childList: true});\n",
       "}}\n",
       "\n",
       "// Listen for the clearing of the current output cell\n",
       "var outputEl = gd.closest('.output');\n",
       "if (outputEl) {{\n",
       "    x.observe(outputEl, {childList: true});\n",
       "}}\n",
       "\n",
       "                        })                };                });            </script>        </div>"
      ]
     },
     "metadata": {},
     "output_type": "display_data"
    }
   ],
   "source": [
    "optuna.visualization.plot_slice(study)"
   ]
  },
  {
   "cell_type": "code",
   "execution_count": 21,
   "id": "44698cc5",
   "metadata": {},
   "outputs": [
    {
     "data": {
      "application/vnd.plotly.v1+json": {
       "config": {
        "plotlyServerURL": "https://plot.ly"
       },
       "data": [
        {
         "cliponaxis": false,
         "hovertemplate": [
          "criterion (CategoricalDistribution): 0.016346304113814013<extra></extra>",
          "max_depth (IntDistribution): 0.04988974767593402<extra></extra>",
          "n_estimators (IntDistribution): 0.10745706939279874<extra></extra>",
          "min_samples_leaf (IntDistribution): 0.13051713842345558<extra></extra>",
          "min_samples_split (IntDistribution): 0.6957897403939977<extra></extra>"
         ],
         "marker": {
          "color": "rgb(66,146,198)"
         },
         "orientation": "h",
         "text": [
          "0.02",
          "0.05",
          "0.11",
          "0.13",
          "0.70"
         ],
         "textposition": "outside",
         "type": "bar",
         "x": [
          0.016346304113814013,
          0.04988974767593402,
          0.10745706939279874,
          0.13051713842345558,
          0.6957897403939977
         ],
         "y": [
          "criterion",
          "max_depth",
          "n_estimators",
          "min_samples_leaf",
          "min_samples_split"
         ]
        }
       ],
       "layout": {
        "showlegend": false,
        "template": {
         "data": {
          "bar": [
           {
            "error_x": {
             "color": "#2a3f5f"
            },
            "error_y": {
             "color": "#2a3f5f"
            },
            "marker": {
             "line": {
              "color": "#E5ECF6",
              "width": 0.5
             },
             "pattern": {
              "fillmode": "overlay",
              "size": 10,
              "solidity": 0.2
             }
            },
            "type": "bar"
           }
          ],
          "barpolar": [
           {
            "marker": {
             "line": {
              "color": "#E5ECF6",
              "width": 0.5
             },
             "pattern": {
              "fillmode": "overlay",
              "size": 10,
              "solidity": 0.2
             }
            },
            "type": "barpolar"
           }
          ],
          "carpet": [
           {
            "aaxis": {
             "endlinecolor": "#2a3f5f",
             "gridcolor": "white",
             "linecolor": "white",
             "minorgridcolor": "white",
             "startlinecolor": "#2a3f5f"
            },
            "baxis": {
             "endlinecolor": "#2a3f5f",
             "gridcolor": "white",
             "linecolor": "white",
             "minorgridcolor": "white",
             "startlinecolor": "#2a3f5f"
            },
            "type": "carpet"
           }
          ],
          "choropleth": [
           {
            "colorbar": {
             "outlinewidth": 0,
             "ticks": ""
            },
            "type": "choropleth"
           }
          ],
          "contour": [
           {
            "colorbar": {
             "outlinewidth": 0,
             "ticks": ""
            },
            "colorscale": [
             [
              0,
              "#0d0887"
             ],
             [
              0.1111111111111111,
              "#46039f"
             ],
             [
              0.2222222222222222,
              "#7201a8"
             ],
             [
              0.3333333333333333,
              "#9c179e"
             ],
             [
              0.4444444444444444,
              "#bd3786"
             ],
             [
              0.5555555555555556,
              "#d8576b"
             ],
             [
              0.6666666666666666,
              "#ed7953"
             ],
             [
              0.7777777777777778,
              "#fb9f3a"
             ],
             [
              0.8888888888888888,
              "#fdca26"
             ],
             [
              1,
              "#f0f921"
             ]
            ],
            "type": "contour"
           }
          ],
          "contourcarpet": [
           {
            "colorbar": {
             "outlinewidth": 0,
             "ticks": ""
            },
            "type": "contourcarpet"
           }
          ],
          "heatmap": [
           {
            "colorbar": {
             "outlinewidth": 0,
             "ticks": ""
            },
            "colorscale": [
             [
              0,
              "#0d0887"
             ],
             [
              0.1111111111111111,
              "#46039f"
             ],
             [
              0.2222222222222222,
              "#7201a8"
             ],
             [
              0.3333333333333333,
              "#9c179e"
             ],
             [
              0.4444444444444444,
              "#bd3786"
             ],
             [
              0.5555555555555556,
              "#d8576b"
             ],
             [
              0.6666666666666666,
              "#ed7953"
             ],
             [
              0.7777777777777778,
              "#fb9f3a"
             ],
             [
              0.8888888888888888,
              "#fdca26"
             ],
             [
              1,
              "#f0f921"
             ]
            ],
            "type": "heatmap"
           }
          ],
          "heatmapgl": [
           {
            "colorbar": {
             "outlinewidth": 0,
             "ticks": ""
            },
            "colorscale": [
             [
              0,
              "#0d0887"
             ],
             [
              0.1111111111111111,
              "#46039f"
             ],
             [
              0.2222222222222222,
              "#7201a8"
             ],
             [
              0.3333333333333333,
              "#9c179e"
             ],
             [
              0.4444444444444444,
              "#bd3786"
             ],
             [
              0.5555555555555556,
              "#d8576b"
             ],
             [
              0.6666666666666666,
              "#ed7953"
             ],
             [
              0.7777777777777778,
              "#fb9f3a"
             ],
             [
              0.8888888888888888,
              "#fdca26"
             ],
             [
              1,
              "#f0f921"
             ]
            ],
            "type": "heatmapgl"
           }
          ],
          "histogram": [
           {
            "marker": {
             "pattern": {
              "fillmode": "overlay",
              "size": 10,
              "solidity": 0.2
             }
            },
            "type": "histogram"
           }
          ],
          "histogram2d": [
           {
            "colorbar": {
             "outlinewidth": 0,
             "ticks": ""
            },
            "colorscale": [
             [
              0,
              "#0d0887"
             ],
             [
              0.1111111111111111,
              "#46039f"
             ],
             [
              0.2222222222222222,
              "#7201a8"
             ],
             [
              0.3333333333333333,
              "#9c179e"
             ],
             [
              0.4444444444444444,
              "#bd3786"
             ],
             [
              0.5555555555555556,
              "#d8576b"
             ],
             [
              0.6666666666666666,
              "#ed7953"
             ],
             [
              0.7777777777777778,
              "#fb9f3a"
             ],
             [
              0.8888888888888888,
              "#fdca26"
             ],
             [
              1,
              "#f0f921"
             ]
            ],
            "type": "histogram2d"
           }
          ],
          "histogram2dcontour": [
           {
            "colorbar": {
             "outlinewidth": 0,
             "ticks": ""
            },
            "colorscale": [
             [
              0,
              "#0d0887"
             ],
             [
              0.1111111111111111,
              "#46039f"
             ],
             [
              0.2222222222222222,
              "#7201a8"
             ],
             [
              0.3333333333333333,
              "#9c179e"
             ],
             [
              0.4444444444444444,
              "#bd3786"
             ],
             [
              0.5555555555555556,
              "#d8576b"
             ],
             [
              0.6666666666666666,
              "#ed7953"
             ],
             [
              0.7777777777777778,
              "#fb9f3a"
             ],
             [
              0.8888888888888888,
              "#fdca26"
             ],
             [
              1,
              "#f0f921"
             ]
            ],
            "type": "histogram2dcontour"
           }
          ],
          "mesh3d": [
           {
            "colorbar": {
             "outlinewidth": 0,
             "ticks": ""
            },
            "type": "mesh3d"
           }
          ],
          "parcoords": [
           {
            "line": {
             "colorbar": {
              "outlinewidth": 0,
              "ticks": ""
             }
            },
            "type": "parcoords"
           }
          ],
          "pie": [
           {
            "automargin": true,
            "type": "pie"
           }
          ],
          "scatter": [
           {
            "marker": {
             "colorbar": {
              "outlinewidth": 0,
              "ticks": ""
             }
            },
            "type": "scatter"
           }
          ],
          "scatter3d": [
           {
            "line": {
             "colorbar": {
              "outlinewidth": 0,
              "ticks": ""
             }
            },
            "marker": {
             "colorbar": {
              "outlinewidth": 0,
              "ticks": ""
             }
            },
            "type": "scatter3d"
           }
          ],
          "scattercarpet": [
           {
            "marker": {
             "colorbar": {
              "outlinewidth": 0,
              "ticks": ""
             }
            },
            "type": "scattercarpet"
           }
          ],
          "scattergeo": [
           {
            "marker": {
             "colorbar": {
              "outlinewidth": 0,
              "ticks": ""
             }
            },
            "type": "scattergeo"
           }
          ],
          "scattergl": [
           {
            "marker": {
             "colorbar": {
              "outlinewidth": 0,
              "ticks": ""
             }
            },
            "type": "scattergl"
           }
          ],
          "scattermapbox": [
           {
            "marker": {
             "colorbar": {
              "outlinewidth": 0,
              "ticks": ""
             }
            },
            "type": "scattermapbox"
           }
          ],
          "scatterpolar": [
           {
            "marker": {
             "colorbar": {
              "outlinewidth": 0,
              "ticks": ""
             }
            },
            "type": "scatterpolar"
           }
          ],
          "scatterpolargl": [
           {
            "marker": {
             "colorbar": {
              "outlinewidth": 0,
              "ticks": ""
             }
            },
            "type": "scatterpolargl"
           }
          ],
          "scatterternary": [
           {
            "marker": {
             "colorbar": {
              "outlinewidth": 0,
              "ticks": ""
             }
            },
            "type": "scatterternary"
           }
          ],
          "surface": [
           {
            "colorbar": {
             "outlinewidth": 0,
             "ticks": ""
            },
            "colorscale": [
             [
              0,
              "#0d0887"
             ],
             [
              0.1111111111111111,
              "#46039f"
             ],
             [
              0.2222222222222222,
              "#7201a8"
             ],
             [
              0.3333333333333333,
              "#9c179e"
             ],
             [
              0.4444444444444444,
              "#bd3786"
             ],
             [
              0.5555555555555556,
              "#d8576b"
             ],
             [
              0.6666666666666666,
              "#ed7953"
             ],
             [
              0.7777777777777778,
              "#fb9f3a"
             ],
             [
              0.8888888888888888,
              "#fdca26"
             ],
             [
              1,
              "#f0f921"
             ]
            ],
            "type": "surface"
           }
          ],
          "table": [
           {
            "cells": {
             "fill": {
              "color": "#EBF0F8"
             },
             "line": {
              "color": "white"
             }
            },
            "header": {
             "fill": {
              "color": "#C8D4E3"
             },
             "line": {
              "color": "white"
             }
            },
            "type": "table"
           }
          ]
         },
         "layout": {
          "annotationdefaults": {
           "arrowcolor": "#2a3f5f",
           "arrowhead": 0,
           "arrowwidth": 1
          },
          "autotypenumbers": "strict",
          "coloraxis": {
           "colorbar": {
            "outlinewidth": 0,
            "ticks": ""
           }
          },
          "colorscale": {
           "diverging": [
            [
             0,
             "#8e0152"
            ],
            [
             0.1,
             "#c51b7d"
            ],
            [
             0.2,
             "#de77ae"
            ],
            [
             0.3,
             "#f1b6da"
            ],
            [
             0.4,
             "#fde0ef"
            ],
            [
             0.5,
             "#f7f7f7"
            ],
            [
             0.6,
             "#e6f5d0"
            ],
            [
             0.7,
             "#b8e186"
            ],
            [
             0.8,
             "#7fbc41"
            ],
            [
             0.9,
             "#4d9221"
            ],
            [
             1,
             "#276419"
            ]
           ],
           "sequential": [
            [
             0,
             "#0d0887"
            ],
            [
             0.1111111111111111,
             "#46039f"
            ],
            [
             0.2222222222222222,
             "#7201a8"
            ],
            [
             0.3333333333333333,
             "#9c179e"
            ],
            [
             0.4444444444444444,
             "#bd3786"
            ],
            [
             0.5555555555555556,
             "#d8576b"
            ],
            [
             0.6666666666666666,
             "#ed7953"
            ],
            [
             0.7777777777777778,
             "#fb9f3a"
            ],
            [
             0.8888888888888888,
             "#fdca26"
            ],
            [
             1,
             "#f0f921"
            ]
           ],
           "sequentialminus": [
            [
             0,
             "#0d0887"
            ],
            [
             0.1111111111111111,
             "#46039f"
            ],
            [
             0.2222222222222222,
             "#7201a8"
            ],
            [
             0.3333333333333333,
             "#9c179e"
            ],
            [
             0.4444444444444444,
             "#bd3786"
            ],
            [
             0.5555555555555556,
             "#d8576b"
            ],
            [
             0.6666666666666666,
             "#ed7953"
            ],
            [
             0.7777777777777778,
             "#fb9f3a"
            ],
            [
             0.8888888888888888,
             "#fdca26"
            ],
            [
             1,
             "#f0f921"
            ]
           ]
          },
          "colorway": [
           "#636efa",
           "#EF553B",
           "#00cc96",
           "#ab63fa",
           "#FFA15A",
           "#19d3f3",
           "#FF6692",
           "#B6E880",
           "#FF97FF",
           "#FECB52"
          ],
          "font": {
           "color": "#2a3f5f"
          },
          "geo": {
           "bgcolor": "white",
           "lakecolor": "white",
           "landcolor": "#E5ECF6",
           "showlakes": true,
           "showland": true,
           "subunitcolor": "white"
          },
          "hoverlabel": {
           "align": "left"
          },
          "hovermode": "closest",
          "mapbox": {
           "style": "light"
          },
          "paper_bgcolor": "white",
          "plot_bgcolor": "#E5ECF6",
          "polar": {
           "angularaxis": {
            "gridcolor": "white",
            "linecolor": "white",
            "ticks": ""
           },
           "bgcolor": "#E5ECF6",
           "radialaxis": {
            "gridcolor": "white",
            "linecolor": "white",
            "ticks": ""
           }
          },
          "scene": {
           "xaxis": {
            "backgroundcolor": "#E5ECF6",
            "gridcolor": "white",
            "gridwidth": 2,
            "linecolor": "white",
            "showbackground": true,
            "ticks": "",
            "zerolinecolor": "white"
           },
           "yaxis": {
            "backgroundcolor": "#E5ECF6",
            "gridcolor": "white",
            "gridwidth": 2,
            "linecolor": "white",
            "showbackground": true,
            "ticks": "",
            "zerolinecolor": "white"
           },
           "zaxis": {
            "backgroundcolor": "#E5ECF6",
            "gridcolor": "white",
            "gridwidth": 2,
            "linecolor": "white",
            "showbackground": true,
            "ticks": "",
            "zerolinecolor": "white"
           }
          },
          "shapedefaults": {
           "line": {
            "color": "#2a3f5f"
           }
          },
          "ternary": {
           "aaxis": {
            "gridcolor": "white",
            "linecolor": "white",
            "ticks": ""
           },
           "baxis": {
            "gridcolor": "white",
            "linecolor": "white",
            "ticks": ""
           },
           "bgcolor": "#E5ECF6",
           "caxis": {
            "gridcolor": "white",
            "linecolor": "white",
            "ticks": ""
           }
          },
          "title": {
           "x": 0.05
          },
          "xaxis": {
           "automargin": true,
           "gridcolor": "white",
           "linecolor": "white",
           "ticks": "",
           "title": {
            "standoff": 15
           },
           "zerolinecolor": "white",
           "zerolinewidth": 2
          },
          "yaxis": {
           "automargin": true,
           "gridcolor": "white",
           "linecolor": "white",
           "ticks": "",
           "title": {
            "standoff": 15
           },
           "zerolinecolor": "white",
           "zerolinewidth": 2
          }
         }
        },
        "title": {
         "text": "Hyperparameter Importances"
        },
        "xaxis": {
         "title": {
          "text": "Importance for Objective Value"
         }
        },
        "yaxis": {
         "title": {
          "text": "Hyperparameter"
         }
        }
       }
      },
      "text/html": [
       "<div>                            <div id=\"6f123b26-2031-4a1d-a59d-4d8a5d77d2e7\" class=\"plotly-graph-div\" style=\"height:525px; width:100%;\"></div>            <script type=\"text/javascript\">                require([\"plotly\"], function(Plotly) {                    window.PLOTLYENV=window.PLOTLYENV || {};                                    if (document.getElementById(\"6f123b26-2031-4a1d-a59d-4d8a5d77d2e7\")) {                    Plotly.newPlot(                        \"6f123b26-2031-4a1d-a59d-4d8a5d77d2e7\",                        [{\"cliponaxis\":false,\"hovertemplate\":[\"criterion (CategoricalDistribution): 0.016346304113814013<extra></extra>\",\"max_depth (IntDistribution): 0.04988974767593402<extra></extra>\",\"n_estimators (IntDistribution): 0.10745706939279874<extra></extra>\",\"min_samples_leaf (IntDistribution): 0.13051713842345558<extra></extra>\",\"min_samples_split (IntDistribution): 0.6957897403939977<extra></extra>\"],\"marker\":{\"color\":\"rgb(66,146,198)\"},\"orientation\":\"h\",\"text\":[\"0.02\",\"0.05\",\"0.11\",\"0.13\",\"0.70\"],\"textposition\":\"outside\",\"x\":[0.016346304113814013,0.04988974767593402,0.10745706939279874,0.13051713842345558,0.6957897403939977],\"y\":[\"criterion\",\"max_depth\",\"n_estimators\",\"min_samples_leaf\",\"min_samples_split\"],\"type\":\"bar\"}],                        {\"showlegend\":false,\"title\":{\"text\":\"Hyperparameter Importances\"},\"xaxis\":{\"title\":{\"text\":\"Importance for Objective Value\"}},\"yaxis\":{\"title\":{\"text\":\"Hyperparameter\"}},\"template\":{\"data\":{\"bar\":[{\"error_x\":{\"color\":\"#2a3f5f\"},\"error_y\":{\"color\":\"#2a3f5f\"},\"marker\":{\"line\":{\"color\":\"#E5ECF6\",\"width\":0.5},\"pattern\":{\"fillmode\":\"overlay\",\"size\":10,\"solidity\":0.2}},\"type\":\"bar\"}],\"barpolar\":[{\"marker\":{\"line\":{\"color\":\"#E5ECF6\",\"width\":0.5},\"pattern\":{\"fillmode\":\"overlay\",\"size\":10,\"solidity\":0.2}},\"type\":\"barpolar\"}],\"carpet\":[{\"aaxis\":{\"endlinecolor\":\"#2a3f5f\",\"gridcolor\":\"white\",\"linecolor\":\"white\",\"minorgridcolor\":\"white\",\"startlinecolor\":\"#2a3f5f\"},\"baxis\":{\"endlinecolor\":\"#2a3f5f\",\"gridcolor\":\"white\",\"linecolor\":\"white\",\"minorgridcolor\":\"white\",\"startlinecolor\":\"#2a3f5f\"},\"type\":\"carpet\"}],\"choropleth\":[{\"colorbar\":{\"outlinewidth\":0,\"ticks\":\"\"},\"type\":\"choropleth\"}],\"contour\":[{\"colorbar\":{\"outlinewidth\":0,\"ticks\":\"\"},\"colorscale\":[[0.0,\"#0d0887\"],[0.1111111111111111,\"#46039f\"],[0.2222222222222222,\"#7201a8\"],[0.3333333333333333,\"#9c179e\"],[0.4444444444444444,\"#bd3786\"],[0.5555555555555556,\"#d8576b\"],[0.6666666666666666,\"#ed7953\"],[0.7777777777777778,\"#fb9f3a\"],[0.8888888888888888,\"#fdca26\"],[1.0,\"#f0f921\"]],\"type\":\"contour\"}],\"contourcarpet\":[{\"colorbar\":{\"outlinewidth\":0,\"ticks\":\"\"},\"type\":\"contourcarpet\"}],\"heatmap\":[{\"colorbar\":{\"outlinewidth\":0,\"ticks\":\"\"},\"colorscale\":[[0.0,\"#0d0887\"],[0.1111111111111111,\"#46039f\"],[0.2222222222222222,\"#7201a8\"],[0.3333333333333333,\"#9c179e\"],[0.4444444444444444,\"#bd3786\"],[0.5555555555555556,\"#d8576b\"],[0.6666666666666666,\"#ed7953\"],[0.7777777777777778,\"#fb9f3a\"],[0.8888888888888888,\"#fdca26\"],[1.0,\"#f0f921\"]],\"type\":\"heatmap\"}],\"heatmapgl\":[{\"colorbar\":{\"outlinewidth\":0,\"ticks\":\"\"},\"colorscale\":[[0.0,\"#0d0887\"],[0.1111111111111111,\"#46039f\"],[0.2222222222222222,\"#7201a8\"],[0.3333333333333333,\"#9c179e\"],[0.4444444444444444,\"#bd3786\"],[0.5555555555555556,\"#d8576b\"],[0.6666666666666666,\"#ed7953\"],[0.7777777777777778,\"#fb9f3a\"],[0.8888888888888888,\"#fdca26\"],[1.0,\"#f0f921\"]],\"type\":\"heatmapgl\"}],\"histogram\":[{\"marker\":{\"pattern\":{\"fillmode\":\"overlay\",\"size\":10,\"solidity\":0.2}},\"type\":\"histogram\"}],\"histogram2d\":[{\"colorbar\":{\"outlinewidth\":0,\"ticks\":\"\"},\"colorscale\":[[0.0,\"#0d0887\"],[0.1111111111111111,\"#46039f\"],[0.2222222222222222,\"#7201a8\"],[0.3333333333333333,\"#9c179e\"],[0.4444444444444444,\"#bd3786\"],[0.5555555555555556,\"#d8576b\"],[0.6666666666666666,\"#ed7953\"],[0.7777777777777778,\"#fb9f3a\"],[0.8888888888888888,\"#fdca26\"],[1.0,\"#f0f921\"]],\"type\":\"histogram2d\"}],\"histogram2dcontour\":[{\"colorbar\":{\"outlinewidth\":0,\"ticks\":\"\"},\"colorscale\":[[0.0,\"#0d0887\"],[0.1111111111111111,\"#46039f\"],[0.2222222222222222,\"#7201a8\"],[0.3333333333333333,\"#9c179e\"],[0.4444444444444444,\"#bd3786\"],[0.5555555555555556,\"#d8576b\"],[0.6666666666666666,\"#ed7953\"],[0.7777777777777778,\"#fb9f3a\"],[0.8888888888888888,\"#fdca26\"],[1.0,\"#f0f921\"]],\"type\":\"histogram2dcontour\"}],\"mesh3d\":[{\"colorbar\":{\"outlinewidth\":0,\"ticks\":\"\"},\"type\":\"mesh3d\"}],\"parcoords\":[{\"line\":{\"colorbar\":{\"outlinewidth\":0,\"ticks\":\"\"}},\"type\":\"parcoords\"}],\"pie\":[{\"automargin\":true,\"type\":\"pie\"}],\"scatter\":[{\"marker\":{\"colorbar\":{\"outlinewidth\":0,\"ticks\":\"\"}},\"type\":\"scatter\"}],\"scatter3d\":[{\"line\":{\"colorbar\":{\"outlinewidth\":0,\"ticks\":\"\"}},\"marker\":{\"colorbar\":{\"outlinewidth\":0,\"ticks\":\"\"}},\"type\":\"scatter3d\"}],\"scattercarpet\":[{\"marker\":{\"colorbar\":{\"outlinewidth\":0,\"ticks\":\"\"}},\"type\":\"scattercarpet\"}],\"scattergeo\":[{\"marker\":{\"colorbar\":{\"outlinewidth\":0,\"ticks\":\"\"}},\"type\":\"scattergeo\"}],\"scattergl\":[{\"marker\":{\"colorbar\":{\"outlinewidth\":0,\"ticks\":\"\"}},\"type\":\"scattergl\"}],\"scattermapbox\":[{\"marker\":{\"colorbar\":{\"outlinewidth\":0,\"ticks\":\"\"}},\"type\":\"scattermapbox\"}],\"scatterpolar\":[{\"marker\":{\"colorbar\":{\"outlinewidth\":0,\"ticks\":\"\"}},\"type\":\"scatterpolar\"}],\"scatterpolargl\":[{\"marker\":{\"colorbar\":{\"outlinewidth\":0,\"ticks\":\"\"}},\"type\":\"scatterpolargl\"}],\"scatterternary\":[{\"marker\":{\"colorbar\":{\"outlinewidth\":0,\"ticks\":\"\"}},\"type\":\"scatterternary\"}],\"surface\":[{\"colorbar\":{\"outlinewidth\":0,\"ticks\":\"\"},\"colorscale\":[[0.0,\"#0d0887\"],[0.1111111111111111,\"#46039f\"],[0.2222222222222222,\"#7201a8\"],[0.3333333333333333,\"#9c179e\"],[0.4444444444444444,\"#bd3786\"],[0.5555555555555556,\"#d8576b\"],[0.6666666666666666,\"#ed7953\"],[0.7777777777777778,\"#fb9f3a\"],[0.8888888888888888,\"#fdca26\"],[1.0,\"#f0f921\"]],\"type\":\"surface\"}],\"table\":[{\"cells\":{\"fill\":{\"color\":\"#EBF0F8\"},\"line\":{\"color\":\"white\"}},\"header\":{\"fill\":{\"color\":\"#C8D4E3\"},\"line\":{\"color\":\"white\"}},\"type\":\"table\"}]},\"layout\":{\"annotationdefaults\":{\"arrowcolor\":\"#2a3f5f\",\"arrowhead\":0,\"arrowwidth\":1},\"autotypenumbers\":\"strict\",\"coloraxis\":{\"colorbar\":{\"outlinewidth\":0,\"ticks\":\"\"}},\"colorscale\":{\"diverging\":[[0,\"#8e0152\"],[0.1,\"#c51b7d\"],[0.2,\"#de77ae\"],[0.3,\"#f1b6da\"],[0.4,\"#fde0ef\"],[0.5,\"#f7f7f7\"],[0.6,\"#e6f5d0\"],[0.7,\"#b8e186\"],[0.8,\"#7fbc41\"],[0.9,\"#4d9221\"],[1,\"#276419\"]],\"sequential\":[[0.0,\"#0d0887\"],[0.1111111111111111,\"#46039f\"],[0.2222222222222222,\"#7201a8\"],[0.3333333333333333,\"#9c179e\"],[0.4444444444444444,\"#bd3786\"],[0.5555555555555556,\"#d8576b\"],[0.6666666666666666,\"#ed7953\"],[0.7777777777777778,\"#fb9f3a\"],[0.8888888888888888,\"#fdca26\"],[1.0,\"#f0f921\"]],\"sequentialminus\":[[0.0,\"#0d0887\"],[0.1111111111111111,\"#46039f\"],[0.2222222222222222,\"#7201a8\"],[0.3333333333333333,\"#9c179e\"],[0.4444444444444444,\"#bd3786\"],[0.5555555555555556,\"#d8576b\"],[0.6666666666666666,\"#ed7953\"],[0.7777777777777778,\"#fb9f3a\"],[0.8888888888888888,\"#fdca26\"],[1.0,\"#f0f921\"]]},\"colorway\":[\"#636efa\",\"#EF553B\",\"#00cc96\",\"#ab63fa\",\"#FFA15A\",\"#19d3f3\",\"#FF6692\",\"#B6E880\",\"#FF97FF\",\"#FECB52\"],\"font\":{\"color\":\"#2a3f5f\"},\"geo\":{\"bgcolor\":\"white\",\"lakecolor\":\"white\",\"landcolor\":\"#E5ECF6\",\"showlakes\":true,\"showland\":true,\"subunitcolor\":\"white\"},\"hoverlabel\":{\"align\":\"left\"},\"hovermode\":\"closest\",\"mapbox\":{\"style\":\"light\"},\"paper_bgcolor\":\"white\",\"plot_bgcolor\":\"#E5ECF6\",\"polar\":{\"angularaxis\":{\"gridcolor\":\"white\",\"linecolor\":\"white\",\"ticks\":\"\"},\"bgcolor\":\"#E5ECF6\",\"radialaxis\":{\"gridcolor\":\"white\",\"linecolor\":\"white\",\"ticks\":\"\"}},\"scene\":{\"xaxis\":{\"backgroundcolor\":\"#E5ECF6\",\"gridcolor\":\"white\",\"gridwidth\":2,\"linecolor\":\"white\",\"showbackground\":true,\"ticks\":\"\",\"zerolinecolor\":\"white\"},\"yaxis\":{\"backgroundcolor\":\"#E5ECF6\",\"gridcolor\":\"white\",\"gridwidth\":2,\"linecolor\":\"white\",\"showbackground\":true,\"ticks\":\"\",\"zerolinecolor\":\"white\"},\"zaxis\":{\"backgroundcolor\":\"#E5ECF6\",\"gridcolor\":\"white\",\"gridwidth\":2,\"linecolor\":\"white\",\"showbackground\":true,\"ticks\":\"\",\"zerolinecolor\":\"white\"}},\"shapedefaults\":{\"line\":{\"color\":\"#2a3f5f\"}},\"ternary\":{\"aaxis\":{\"gridcolor\":\"white\",\"linecolor\":\"white\",\"ticks\":\"\"},\"baxis\":{\"gridcolor\":\"white\",\"linecolor\":\"white\",\"ticks\":\"\"},\"bgcolor\":\"#E5ECF6\",\"caxis\":{\"gridcolor\":\"white\",\"linecolor\":\"white\",\"ticks\":\"\"}},\"title\":{\"x\":0.05},\"xaxis\":{\"automargin\":true,\"gridcolor\":\"white\",\"linecolor\":\"white\",\"ticks\":\"\",\"title\":{\"standoff\":15},\"zerolinecolor\":\"white\",\"zerolinewidth\":2},\"yaxis\":{\"automargin\":true,\"gridcolor\":\"white\",\"linecolor\":\"white\",\"ticks\":\"\",\"title\":{\"standoff\":15},\"zerolinecolor\":\"white\",\"zerolinewidth\":2}}}},                        {\"responsive\": true}                    ).then(function(){\n",
       "                            \n",
       "var gd = document.getElementById('6f123b26-2031-4a1d-a59d-4d8a5d77d2e7');\n",
       "var x = new MutationObserver(function (mutations, observer) {{\n",
       "        var display = window.getComputedStyle(gd).display;\n",
       "        if (!display || display === 'none') {{\n",
       "            console.log([gd, 'removed!']);\n",
       "            Plotly.purge(gd);\n",
       "            observer.disconnect();\n",
       "        }}\n",
       "}});\n",
       "\n",
       "// Listen for the removal of the full notebook cells\n",
       "var notebookContainer = gd.closest('#notebook-container');\n",
       "if (notebookContainer) {{\n",
       "    x.observe(notebookContainer, {childList: true});\n",
       "}}\n",
       "\n",
       "// Listen for the clearing of the current output cell\n",
       "var outputEl = gd.closest('.output');\n",
       "if (outputEl) {{\n",
       "    x.observe(outputEl, {childList: true});\n",
       "}}\n",
       "\n",
       "                        })                };                });            </script>        </div>"
      ]
     },
     "metadata": {},
     "output_type": "display_data"
    }
   ],
   "source": [
    "optuna.visualization.plot_param_importances(study)"
   ]
  },
  {
   "cell_type": "code",
   "execution_count": 22,
   "id": "458e92cb",
   "metadata": {},
   "outputs": [
    {
     "name": "stdout",
     "output_type": "stream",
     "text": [
      "Train Accuracy: 0.87425\n",
      "Test Accuracy: 0.8515\n"
     ]
    }
   ],
   "source": [
    "rf = sklearn.ensemble.RandomForestClassifier(**study.best_params)\n",
    "rf.fit(X_train, y_train)\n",
    "\n",
    "scoreTrain = rf.score(X_train,y_train)\n",
    "print(f\"Train Accuracy: {scoreTrain}\")\n",
    "\n",
    "scoreTest = rf.score(X_test,y_test)\n",
    "print(f\"Test Accuracy: {scoreTest}\")\n"
   ]
  },
  {
   "cell_type": "code",
   "execution_count": 27,
   "id": "1ff26675",
   "metadata": {},
   "outputs": [
    {
     "name": "stdout",
     "output_type": "stream",
     "text": [
      "AUC on train data:  0.8395548931594023\n",
      "AUC on test data:  0.8097348269994328\n"
     ]
    }
   ],
   "source": [
    "print(\"AUC on train data: \", roc_auc_score(y_train,rf.predict(X_train)))\n",
    "print(\"AUC on test data: \", roc_auc_score(y_test,rf.predict(X_test)))"
   ]
  },
  {
   "cell_type": "code",
   "execution_count": null,
   "id": "212b98b8",
   "metadata": {},
   "outputs": [],
   "source": []
  }
 ],
 "metadata": {
  "kernelspec": {
   "display_name": "Python 3 (ipykernel)",
   "language": "python",
   "name": "python3"
  },
  "language_info": {
   "codemirror_mode": {
    "name": "ipython",
    "version": 3
   },
   "file_extension": ".py",
   "mimetype": "text/x-python",
   "name": "python",
   "nbconvert_exporter": "python",
   "pygments_lexer": "ipython3",
   "version": "3.9.12"
  }
 },
 "nbformat": 4,
 "nbformat_minor": 5
}
