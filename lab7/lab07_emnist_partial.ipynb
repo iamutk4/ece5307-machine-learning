{
 "cells": [
  {
   "cell_type": "markdown",
   "metadata": {},
   "source": [
    "# Lab: SVMs on Extended MNIST\n",
    "\n",
    "In the demo for this unit, we saw how SVMs can be used for the classic problem of MNIST digit recognition. In this lab, we are going to extend the MNIST dataset by adding a number of non-digit letters and see if the classifier can distinguish the digits from the non-digits. All non-digits will be lumped as a single 11-th class. This is a highly simplified version of a 'detection' problem (as opposed to 'classification' problem). Detection is vital in OCR and related problems since the non useful characters must be rejected. \n",
    "\n",
    "In addition to the concepts in the demo, you will learn:\n",
    "* Combine multiple datasets\n",
    "* Select the SVM parameters (`C` and `gamma`) via cross-validation.\n",
    "* Use the `GridSearchCV` method to search for parameters with cross-validation.\n"
   ]
  },
  {
   "cell_type": "markdown",
   "metadata": {},
   "source": [
    "As usual, we download the standard packages"
   ]
  },
  {
   "cell_type": "code",
   "execution_count": 66,
   "metadata": {},
   "outputs": [],
   "source": [
    "import numpy as np\n",
    "import matplotlib.pyplot as plt\n",
    "%matplotlib inline\n",
    "from sklearn import linear_model, preprocessing"
   ]
  },
  {
   "cell_type": "markdown",
   "metadata": {},
   "source": [
    "## Downloading the EMNIST Dataset\n",
    "\n",
    "After creating the highly popular MNIST dataset, NIST created an extended version of the dataset that includes letters and digits.\n",
    "The extended datbase (called EMNIST) also has many more examples per class.  \n",
    "\n",
    "To download the data, go to the [EMNIST webpage](https://www.nist.gov/itl/iad/image-group/emnist-dataset).  Near the bottom, you will see a link for `MATLAB format dataset`.  If you click on this link, you will download a `zip` file with several datasets in it.  The total file is 726M, so it may take some time and diskspace to download.  Extract two files:\n",
    "* `emnist-digits.mat`:  This is a file of digits `0` to `9`, but with more examples per class.\n",
    "* `emnist-letters.mat`:  This is a file of letters `a/A` to `z/Z`.  The lower and upper case letters are grouped into the same class.\n",
    "\n",
    "Once you get these two files, you can save yourself the diskspace and remove all the other files."
   ]
  },
  {
   "cell_type": "code",
   "execution_count": 67,
   "metadata": {},
   "outputs": [],
   "source": [
    "# TODO:  Download emnist-letters.mat and emnist-digits.mat to the working directory"
   ]
  },
  {
   "cell_type": "markdown",
   "metadata": {},
   "source": [
    "Since MATLAB files are still widely-used, Python has excellent routines for loading MATLAB files.  The function below uses the `scipy.io` package to extract the relevant fields from the MATLAB file.  Specifically, the function extracts the training and test data from MATLAB file. "
   ]
  },
  {
   "cell_type": "code",
   "execution_count": 68,
   "metadata": {},
   "outputs": [],
   "source": [
    "import scipy.io\n",
    "def load_emnist(file_path='emnist-digits.mat'):\n",
    "    \"\"\"\n",
    "    Loads training and test data with ntr and nts training and test samples\n",
    "    The `file_path` is the location of the `eminst-balanced.mat`.\n",
    "    \"\"\"    \n",
    "    \n",
    "    # Load the MATLAB file\n",
    "    mat = scipy.io.loadmat(file_path)\n",
    "    \n",
    "    # Get the training data\n",
    "    Xtr = mat['dataset'][0][0][0][0][0][0][:]\n",
    "    ntr = Xtr.shape[0]\n",
    "    ytr = mat['dataset'][0][0][0][0][0][1][:].reshape(ntr).astype(int)\n",
    "    \n",
    "    # Get the test data\n",
    "    Xts = mat['dataset'][0][0][1][0][0][0][:]\n",
    "    nts = Xts.shape[0]\n",
    "    yts = mat['dataset'][0][0][1][0][0][1][:].reshape(nts).astype(int)\n",
    "    \n",
    "    print(\"%d training samples, %d test samples loaded\" % (ntr, nts))\n",
    "\n",
    "    return [Xtr, Xts, ytr, yts]"
   ]
  },
  {
   "cell_type": "markdown",
   "metadata": {},
   "source": [
    "Use the function above to get all the digit images from the `emnist-digits.mat` file.  "
   ]
  },
  {
   "cell_type": "code",
   "execution_count": 69,
   "metadata": {},
   "outputs": [
    {
     "name": "stdout",
     "output_type": "stream",
     "text": [
      "240000 training samples, 40000 test samples loaded\n"
     ]
    }
   ],
   "source": [
    "# TODO:  Load the digit data from emnist-digits.mat\n",
    "# Xtr_dig, Xts_dig, ytr_dig, yts_dig = ...\n",
    "Xtr_dig, Xts_dig, ytr_dig, yts_dig = load_emnist('emnist-digits.mat')"
   ]
  },
  {
   "cell_type": "markdown",
   "metadata": {},
   "source": [
    "You should see 240000 training samples and 40000 test samples.  Now use the same function to get the letter characters from `emnist-letters.mat`.  "
   ]
  },
  {
   "cell_type": "code",
   "execution_count": 70,
   "metadata": {},
   "outputs": [
    {
     "name": "stdout",
     "output_type": "stream",
     "text": [
      "124800 training samples, 20800 test samples loaded\n"
     ]
    }
   ],
   "source": [
    "# TODO:  Load the digit data from emnist-letters.mat\n",
    "# Xtr_let, Xts_let, ytr_let, yts_let = ...\n",
    "Xtr_let, Xts_let, ytr_let, yts_let = load_emnist('emnist-letters.mat')"
   ]
  },
  {
   "cell_type": "markdown",
   "metadata": {},
   "source": [
    "You should see 124800 training samples and 20800 test samples.  Next, will recreate the `plt_digit` function from the demo."
   ]
  },
  {
   "cell_type": "code",
   "execution_count": 71,
   "metadata": {},
   "outputs": [],
   "source": [
    "def plt_digit(x,y=None):\n",
    "    nrow = 28\n",
    "    ncol = 28\n",
    "    xsq = x.reshape((nrow,ncol))\n",
    "    plt.imshow(xsq.T,  cmap='Greys_r')\n",
    "    plt.xticks([])\n",
    "    plt.yticks([])    \n",
    "    if y != None:\n",
    "        plt.title('%d' % y)        "
   ]
  },
  {
   "cell_type": "markdown",
   "metadata": {},
   "source": [
    "Plot 8 random samples from the training data.  You can use the `plt_digit` function above with `subplot` to create a nice display.  I suggest sizing your plots using the `plt.figure(figsize=(10,20))` command."
   ]
  },
  {
   "cell_type": "code",
   "execution_count": 72,
   "metadata": {},
   "outputs": [
    {
     "data": {
      "image/png": "[encoded data removed]",
      "text/plain": [
       "<Figure size 720x1440 with 8 Axes>"
      ]
     },
     "metadata": {},
     "output_type": "display_data"
    }
   ],
   "source": [
    "# TODO:  Plot 8 random samples from the training data of the digits\n",
    "# Select random digits\n",
    "nplt = 8\n",
    "nsamp = Xtr_dig.shape[0]\n",
    "Iperm = np.random.permutation(nsamp)\n",
    "plt.figure(figsize=(10,20))\n",
    "for i in range(nplt):\n",
    "    ind = Iperm[i]\n",
    "    plt.subplot(1,nplt,i+1)\n",
    "    plt_digit(Xtr_dig[ind,:], ytr_dig[ind]) "
   ]
  },
  {
   "cell_type": "markdown",
   "metadata": {},
   "source": [
    "Next, plot 8 random samples from the letters training data.  You should see that the labels go from 0 to 25, corresponding to `a` to `z`.  Upper and lower case letters belong to the same class."
   ]
  },
  {
   "cell_type": "code",
   "execution_count": 73,
   "metadata": {},
   "outputs": [
    {
     "data": {
      "image/png": "[encoded data removed]",
      "text/plain": [
       "<Figure size 720x1440 with 8 Axes>"
      ]
     },
     "metadata": {},
     "output_type": "display_data"
    }
   ],
   "source": [
    "# TODO:  Plot 8 random samples from the training data of the letters\n",
    "nplt = 8\n",
    "nsamp = Xtr_let.shape[0]\n",
    "Iperm = np.random.permutation(nsamp)\n",
    "plt.figure(figsize=(10,20))\n",
    "for i in range(nplt):\n",
    "    ind = Iperm[i]\n",
    "    plt.subplot(1,nplt,i+1)\n",
    "    plt_digit(Xtr_let[ind,:], ytr_let[ind])"
   ]
  },
  {
   "cell_type": "markdown",
   "metadata": {},
   "source": [
    "## Creating a Non-Digit Class\n",
    "\n",
    "SVM classifiers are very slow to train.  The training is particularly slow when there are a large number of classes.  To speed things up, we are going to put all of the letters in one class and merge that class with the digits data.  \n",
    "\n",
    "Before we begin, we will remove all the samples corresponding to `i/I`, `l/L` and `o/O`, since otherwise these letters would get confused with the digits `0` and `1`.  Create arrays `Xtr_let_rem` and `ytr_let_rem` from the data `Xtr_let` and `ytr_let`, where the samples `i` with `ytr_let[i] == 9, 12, 15` are removed.   Create `Xts_let_rem` and `yts_let_rem` similarly.\n",
    "\n",
    "If you are clever, you can do this without a for-loop via python broadcasting and `np.all(..., axis=1)` command.  But, if you like, you can use a for-loop."
   ]
  },
  {
   "cell_type": "code",
   "execution_count": 74,
   "metadata": {},
   "outputs": [],
   "source": [
    "remove_list = np.array([9,12,15])\n",
    "# TODO:  Create arrays with labels 9, 12 and 15 removed\n",
    "# Xtr_let_rem, ytr_let_rem = ...\n",
    "# Xts_let_rem, yts_let_rem = ...\n",
    "I = np.all(ytr_let[:,None] != remove_list[None,:], axis=1)\n",
    "Xtr_let_rem = Xtr_let[I,:]\n",
    "ytr_let_rem = ytr_let[I]\n",
    "I = np.all(yts_let[:,None] != remove_list[None,:], axis=1)\n",
    "Xts_let_rem = Xts_let[I,:]\n",
    "yts_let_rem = yts_let[I]"
   ]
  },
  {
   "cell_type": "markdown",
   "metadata": {},
   "source": [
    "To speed things up even further, we will use only a small subset of the training and test data.  Of course, we will not get great results with this small dataset.  But we can still illustrate the basic concepts.  \n",
    "\n",
    "Create training arrays `Xtr1_dig` and `ytr1_dig` by selecting 5000 random samples from `Xtr_dig` and `ytr_dig`.  Then create training arrays `Xtr1_let` and `ytr1_let` by selecting 1000 random samples from `Xtr_let_rem` and `ytr_let_rem`.  Similarly, create test arrays `Xts1_dig,Xts1_let,yts1_dig,yts1_let` with 5000 digits and 1000 letters."
   ]
  },
  {
   "cell_type": "code",
   "execution_count": 75,
   "metadata": {},
   "outputs": [],
   "source": [
    "# Number of training and test digits and letters\n",
    "ntr_dig = 5000\n",
    "ntr_let = 1000\n",
    "nts_dig = 5000\n",
    "nts_let = 1000\n",
    "# TODO Create sub-sampled training and test data\n",
    "# Xtr1_dig, ytr1_dig = ...\n",
    "# Xts1_dig, yts1_dig = ...\n",
    "# Xtr1_let, ytr1_let = ...\n",
    "# Xts1_let, yts1_let = ... \n",
    "def randomSelection(X,y,n):\n",
    "    n0 = X.shape[0]\n",
    "    I = np.random.permutation(n0)\n",
    "    X1 = X[I[:n],:]\n",
    "    y1 = y[I[:n]]\n",
    "    return X1,y1\n",
    "    \n",
    "Xtr1_dig, ytr1_dig = randomSelection(Xtr_dig,ytr_dig,ntr_dig)\n",
    "Xts1_dig, yts1_dig = randomSelection(Xts_dig,yts_dig,nts_dig)\n",
    "Xtr1_let, ytr1_let = randomSelection(Xtr_let_rem,ytr_let_rem,ntr_let)\n",
    "Xts1_let, yts1_let = randomSelection(Xts_let_rem,yts_let_rem,nts_let)\n"
   ]
  },
  {
   "cell_type": "markdown",
   "metadata": {},
   "source": [
    "Now we will merge our digit and letter training arrays.\n",
    "* Create an array `Xtr` by stacking `Xtr1_dig`, `Xtr1_let`.  This should result in 6000 total samples.\n",
    "* Create a new label vector `ytr` where `ytr[i] = ytr1_dig[i]` for any digit sample and `ytr[i]=10` for any letter sample.  Thus, all the letters are lumped into the single class with label 10.\n",
    "\n",
    "Create test arrays `Xts` and `yts` similarly. \n",
    "\n",
    "You may wish to use the `np.hstack` and `np.vstack` methods."
   ]
  },
  {
   "cell_type": "code",
   "execution_count": 76,
   "metadata": {},
   "outputs": [],
   "source": [
    "# TODO:  Create combined letter and digit training and test data\n",
    "# Xtr, ytr = ..\n",
    "# Xts, yts = ...\n",
    "Xtr = np.vstack((Xtr1_dig,Xtr1_let))\n",
    "ytr = np.hstack((ytr1_dig, 10*np.ones(ntr_let,dtype='int')))\n",
    "Xts = np.vstack((Xts1_dig,Xts1_let))\n",
    "yts = np.hstack((yts1_dig, 10*np.ones(nts_let,dtype='int')))"
   ]
  },
  {
   "cell_type": "markdown",
   "metadata": {},
   "source": [
    "The features above use pixel values from 0 to 255.  Let's rescale the pixels to the interval from -1 to 1.  This will yield slightly better performance.  We'll put the scaled data into arrays `Xtr1` and `Xts1`."
   ]
  },
  {
   "cell_type": "code",
   "execution_count": 77,
   "metadata": {},
   "outputs": [],
   "source": [
    "# TODO:  Rescale the data to the interval from -1 to 1\n",
    "# Xtr1 = ...\n",
    "# Xts1 = ...\n",
    "Xtr1 = 2.0*Xtr/255.0 - 1\n",
    "Xts1 = 2.0*Xts/255.0 - 1"
   ]
  },
  {
   "cell_type": "markdown",
   "metadata": {},
   "source": [
    "## The SVM classifier\n",
    "\n",
    "Let's first create an SVM classifer with penalty `C=2.8` and an `rbf` kernel of width `gamma=.0073`. We will reexamine these choices later."
   ]
  },
  {
   "cell_type": "code",
   "execution_count": 78,
   "metadata": {},
   "outputs": [],
   "source": [
    "from sklearn import svm\n",
    "\n",
    "# TODO:  Create a classifier: a support vector classifier\n",
    "# svc = ...\n",
    "svc = svm.SVC(probability=False,  kernel=\"rbf\", C=2.8, gamma=.0073, verbose=1)"
   ]
  },
  {
   "cell_type": "markdown",
   "metadata": {},
   "source": [
    "Now we fit the classifier using the scaled training data.  Although SVMs are slow to train, we have kept the training set small, so the fitting should take less than a minute."
   ]
  },
  {
   "cell_type": "code",
   "execution_count": 79,
   "metadata": {},
   "outputs": [
    {
     "name": "stdout",
     "output_type": "stream",
     "text": [
      "[LibSVM]*\n",
      "optimization finished, #iter = 345\n",
      "obj = -25.104355, rho = -0.618916\n",
      "nSV = 195, nBSV = 0\n",
      "*\n",
      "optimization finished, #iter = 775\n",
      "obj = -71.709279, rho = 0.206908\n",
      "nSV = 435, nBSV = 0\n",
      "*\n",
      "optimization finished, #iter = 647\n",
      "obj = -60.151299, rho = -0.013357\n",
      "nSV = 366, nBSV = 0\n",
      "*\n",
      "optimization finished, #iter = 613\n",
      "obj = -51.974049, rho = 0.073704\n",
      "nSV = 357, nBSV = 0\n",
      "*\n",
      "optimization finished, #iter = 789\n",
      "obj = -71.593546, rho = 0.151657\n",
      "nSV = 446, nBSV = 0\n",
      "*\n",
      "optimization finished, #iter = 761\n",
      "obj = -71.268692, rho = -0.034260\n",
      "nSV = 399, nBSV = 0\n",
      "*\n",
      "optimization finished, #iter = 562\n",
      "obj = -43.821119, rho = -0.157108\n",
      "nSV = 308, nBSV = 0\n",
      "*\n",
      "optimization finished, #iter = 703\n",
      "obj = -66.820054, rho = 0.173992\n",
      "nSV = 402, nBSV = 0\n",
      "*\n",
      "optimization finished, #iter = 566\n",
      "obj = -50.247412, rho = -0.096538\n",
      "nSV = 316, nBSV = 0\n",
      "*.*\n",
      "optimization finished, #iter = 1267\n",
      "obj = -155.432679, rho = 0.822279\n",
      "nSV = 690, nBSV = 0\n",
      "*\n",
      "optimization finished, #iter = 432\n",
      "obj = -35.436275, rho = 0.770586\n",
      "nSV = 230, nBSV = 0\n",
      "*\n",
      "optimization finished, #iter = 418\n",
      "obj = -30.201788, rho = 0.597611\n",
      "nSV = 218, nBSV = 0\n",
      "*\n",
      "optimization finished, #iter = 487\n",
      "obj = -37.014502, rho = 0.705024\n",
      "nSV = 243, nBSV = 0\n",
      "*\n",
      "optimization finished, #iter = 470\n",
      "obj = -35.395793, rho = 0.772939\n",
      "nSV = 238, nBSV = 0\n",
      "*\n",
      "optimization finished, #iter = 407\n",
      "obj = -31.948927, rho = 0.606190\n",
      "nSV = 214, nBSV = 0\n",
      "*\n",
      "optimization finished, #iter = 453\n",
      "obj = -39.160423, rho = 0.590763\n",
      "nSV = 202, nBSV = 0\n",
      "*\n",
      "optimization finished, #iter = 474\n",
      "obj = -48.814116, rho = 0.784126\n",
      "nSV = 238, nBSV = 1\n",
      "*\n",
      "optimization finished, #iter = 471\n",
      "obj = -37.729963, rho = 0.629541\n",
      "nSV = 222, nBSV = 0\n",
      "*\n",
      "optimization finished, #iter = 715\n",
      "obj = -96.913527, rho = 1.365962\n",
      "nSV = 304, nBSV = 4\n",
      "*\n",
      "optimization finished, #iter = 768\n",
      "obj = -82.609992, rho = -0.259818\n",
      "nSV = 436, nBSV = 0\n",
      "*\n",
      "optimization finished, #iter = 741\n",
      "obj = -67.321527, rho = -0.153502\n",
      "nSV = 431, nBSV = 0\n",
      "*\n",
      "optimization finished, #iter = 817\n",
      "obj = -75.561036, rho = -0.096951\n",
      "nSV = 481, nBSV = 0\n",
      "*\n",
      "optimization finished, #iter = 774\n",
      "obj = -73.771616, rho = -0.284937\n",
      "nSV = 445, nBSV = 0\n",
      "*\n",
      "optimization finished, #iter = 735\n",
      "obj = -66.672853, rho = -0.362186\n",
      "nSV = 398, nBSV = 0\n",
      "*\n",
      "optimization finished, #iter = 886\n",
      "obj = -92.263775, rho = -0.038258\n",
      "nSV = 515, nBSV = 0\n",
      "*\n",
      "optimization finished, #iter = 652\n",
      "obj = -61.166940, rho = -0.284449\n",
      "nSV = 379, nBSV = 0\n",
      ".*\n",
      "optimization finished, #iter = 1672\n",
      "obj = -229.618196, rho = 0.671187\n",
      "nSV = 910, nBSV = 3\n",
      "*\n",
      "optimization finished, #iter = 610\n",
      "obj = -50.062621, rho = 0.071993\n",
      "nSV = 357, nBSV = 0\n",
      "*\n",
      "optimization finished, #iter = 904\n",
      "obj = -103.129217, rho = 0.136938\n",
      "nSV = 488, nBSV = 0\n",
      "*\n",
      "optimization finished, #iter = 614\n",
      "obj = -52.223649, rho = -0.007793\n",
      "nSV = 351, nBSV = 0\n",
      "*\n",
      "optimization finished, #iter = 633\n",
      "obj = -62.385263, rho = -0.110736\n",
      "nSV = 340, nBSV = 1\n",
      "*\n",
      "optimization finished, #iter = 849\n",
      "obj = -100.736623, rho = 0.263442\n",
      "nSV = 466, nBSV = 0\n",
      "*\n",
      "optimization finished, #iter = 731\n",
      "obj = -71.176469, rho = -0.014116\n",
      "nSV = 388, nBSV = 0\n",
      "*.*\n",
      "optimization finished, #iter = 1168\n",
      "obj = -150.825536, rho = 0.787657\n",
      "nSV = 659, nBSV = 1\n",
      "*\n",
      "optimization finished, #iter = 820\n",
      "obj = -69.438544, rho = 0.081538\n",
      "nSV = 453, nBSV = 0\n",
      "*\n",
      "optimization finished, #iter = 654\n",
      "obj = -54.053976, rho = -0.099001\n",
      "nSV = 372, nBSV = 0\n",
      "*\n",
      "optimization finished, #iter = 698\n",
      "obj = -63.859271, rho = -0.249053\n",
      "nSV = 369, nBSV = 0\n",
      "*\n",
      "optimization finished, #iter = 772\n",
      "obj = -72.827031, rho = 0.125741\n",
      "nSV = 450, nBSV = 0\n",
      "*\n",
      "optimization finished, #iter = 958\n",
      "obj = -107.957720, rho = -0.233594\n",
      "nSV = 464, nBSV = 2\n",
      ".*\n",
      "optimization finished, #iter = 1681\n",
      "obj = -235.543382, rho = 0.700272\n",
      "nSV = 880, nBSV = 3\n",
      "*\n",
      "optimization finished, #iter = 769\n",
      "obj = -70.112004, rho = -0.167492\n",
      "nSV = 427, nBSV = 0\n",
      "*\n",
      "optimization finished, #iter = 718\n",
      "obj = -54.936452, rho = -0.303756\n",
      "nSV = 403, nBSV = 0\n",
      "*\n",
      "optimization finished, #iter = 923\n",
      "obj = -109.355466, rho = -0.002887\n",
      "nSV = 515, nBSV = 0\n",
      "*\n",
      "optimization finished, #iter = 736\n",
      "obj = -71.180037, rho = -0.276827\n",
      "nSV = 409, nBSV = 0\n",
      ".*\n",
      "optimization finished, #iter = 1742\n",
      "obj = -250.229411, rho = 0.648182\n",
      "nSV = 944, nBSV = 11\n",
      "*\n",
      "optimization finished, #iter = 518\n",
      "obj = -35.826800, rho = -0.115691\n",
      "nSV = 296, nBSV = 0\n",
      "*\n",
      "optimization finished, #iter = 718\n",
      "obj = -69.618558, rho = 0.205759\n",
      "nSV = 397, nBSV = 0\n",
      "*\n",
      "optimization finished, #iter = 543\n",
      "obj = -44.069868, rho = -0.080436\n",
      "nSV = 313, nBSV = 1\n",
      "*.*\n",
      "optimization finished, #iter = 1304\n",
      "obj = -164.567202, rho = 0.789983\n",
      "nSV = 721, nBSV = 1\n",
      "*\n",
      "optimization finished, #iter = 719\n",
      "obj = -65.964058, rho = 0.351674\n",
      "nSV = 396, nBSV = 0\n",
      "*\n",
      "optimization finished, #iter = 891\n",
      "obj = -111.175666, rho = 0.137588\n",
      "nSV = 404, nBSV = 1\n",
      "*.*\n",
      "optimization finished, #iter = 1096\n",
      "obj = -121.747469, rho = 0.833889\n",
      "nSV = 592, nBSV = 0\n",
      "*\n",
      "optimization finished, #iter = 878\n",
      "obj = -92.223960, rho = -0.295360\n",
      "nSV = 467, nBSV = 0\n",
      ".*\n",
      "optimization finished, #iter = 1728\n",
      "obj = -233.736550, rho = 0.777940\n",
      "nSV = 934, nBSV = 1\n",
      ".*\n",
      "optimization finished, #iter = 1495\n",
      "obj = -218.288088, rho = 0.822423\n",
      "nSV = 763, nBSV = 15\n",
      "Total nSV = 4191\n"
     ]
    },
    {
     "data": {
      "text/plain": [
       "SVC(C=2.8, gamma=0.0073, verbose=1)"
      ]
     },
     "execution_count": 79,
     "metadata": {},
     "output_type": "execute_result"
    }
   ],
   "source": [
    "# TODO:  Fit the classifier on the training data. \n",
    "svc.fit(Xtr1,ytr)"
   ]
  },
  {
   "cell_type": "markdown",
   "metadata": {},
   "source": [
    "Now let's compute and print the accuracy on the test data.  This too should take less than a minute.  You should get an accuracy of around 89%."
   ]
  },
  {
   "cell_type": "code",
   "execution_count": 80,
   "metadata": {},
   "outputs": [
    {
     "name": "stdout",
     "output_type": "stream",
     "text": [
      "0.9156666666666666\n"
     ]
    }
   ],
   "source": [
    "# TODO:  Measure error on the test data\n",
    "yhat = svc.predict(Xts1)\n",
    "print(np.mean(yhat == yts))"
   ]
  },
  {
   "cell_type": "markdown",
   "metadata": {},
   "source": [
    "The accuracy is bit lower than what we would get with digits only.  This is because the \"letters\" class is extremely complex.  \n",
    "\n",
    "To see this, print and then plot the normalized confusion matrix.  You should see that the error rate on the \"letters\" class is much higher than the others."
   ]
  },
  {
   "cell_type": "code",
   "execution_count": 81,
   "metadata": {},
   "outputs": [
    {
     "data": {
      "text/plain": [
       "<sklearn.metrics._plot.confusion_matrix.ConfusionMatrixDisplay at 0x7fc1a840b580>"
      ]
     },
     "execution_count": 81,
     "metadata": {},
     "output_type": "execute_result"
    },
    {
     "data": {
      "image/png": "[encoded data removed]",
      "text/plain": [
       "<Figure size 432x288 with 2 Axes>"
      ]
     },
     "metadata": {
      "needs_background": "light"
     },
     "output_type": "display_data"
    }
   ],
   "source": [
    "from sklearn.metrics import confusion_matrix, ConfusionMatrixDisplay\n",
    "# TODO:  Print and plot the normalized confusion matrix\n",
    "\n",
    "C = confusion_matrix(yts,yhat,normalize = 'true')\n",
    "figure = ConfusionMatrixDisplay(C)\n",
    "figure.plot()"
   ]
  },
  {
   "cell_type": "markdown",
   "metadata": {},
   "source": [
    "Print the following:\n",
    "* the fraction of digits that are mislabeled as letters  \n",
    "* the fraction of letters that are mislabeled as digits"
   ]
  },
  {
   "cell_type": "code",
   "execution_count": 82,
   "metadata": {},
   "outputs": [
    {
     "name": "stdout",
     "output_type": "stream",
     "text": [
      "Fraction of digits mislabeled as letters =   5.7400e-02\n",
      "Fraction of letters mislabeled as digits =   1.4300e-01\n"
     ]
    }
   ],
   "source": [
    "# TODO:  Print the above error rates\n",
    "err1 = np.mean((yhat == 10) & (yts < 10)) / np.mean(yts < 10)\n",
    "err2 = np.mean((yhat < 10) & (yts == 10)) / np.mean(yts == 10)\n",
    "\n",
    "print('Fraction of digits mislabeled as letters = %12.4e' % err1)\n",
    "print('Fraction of letters mislabeled as digits = %12.4e' % err2)"
   ]
  },
  {
   "cell_type": "markdown",
   "metadata": {},
   "source": [
    "## Optimizing gamma and C via Cross-Validation\n",
    "\n",
    "Above, and in the demo, we used externally provided `gamma` and `C` values.  In general, these parameters should be carefully chosen.  We will now choose these parameters via cross validation using sklearn's `GridSearchCV` method.\n",
    "\n",
    "Ideally, we would try many more values for each of the parameters, but this would take a long time.  So, we will try only 3 values for each.  Still, this will take several minutes to complete. "
   ]
  },
  {
   "cell_type": "markdown",
   "metadata": {},
   "source": [
    "The `GridSearchCV` method does a train-test split in addition to the parameter search.  In this case, we already have a train-test split, and so we will first combine the train and test data back into a single dataset to use with `GridSearchCV`.\n",
    "\n",
    "Create arrays `X` and `y` from `Xtr1`, `Xts1`, `ytr` and `yts`.  Use `np.vstack` and `np.hstack`."
   ]
  },
  {
   "cell_type": "code",
   "execution_count": 83,
   "metadata": {},
   "outputs": [],
   "source": [
    "# TODO:  Create combined trained and test data X and y.\n",
    "# X = ...\n",
    "# y = ...\n",
    "X = np.vstack((Xtr1,Xts1))\n",
    "y = np.hstack((ytr,yts)) \n",
    "        "
   ]
  },
  {
   "cell_type": "markdown",
   "metadata": {},
   "source": [
    "Normally, `GridSearchCV` will do $K$-fold validation and automatically split the data into training and test in each fold.  But, in this case, we want it to use only one fold with a specific train-test split.  To do this, we can do the following:\n",
    "* Create a vector `test_fold` where `test_fold[i] = -1` for the samples `i` in the training data (which indicates that they should not be used as test data in any fold) and `test_fold[i] = 0` for the samples `i` in the test data (which indicates that they should be used as test data in fold 0).\n",
    "* Run `ps = sklearn.model_selection.PredefinedSplit(test_fold)` to create a predefined test-split object."
   ]
  },
  {
   "cell_type": "code",
   "execution_count": 84,
   "metadata": {},
   "outputs": [],
   "source": [
    "# TODO:  Create a pre-defined test split object \n",
    "# import sklearn.model_selection\n",
    "# test_fold = ...\n",
    "# ps = sklearn.model_selection.PredefinedSplit(test_fold)\n",
    "\n",
    "import sklearn.model_selection\n",
    "ntr = len(ytr)\n",
    "nts = len(yts)\n",
    "test_fold = np.hstack((-1*np.ones(ntr), np.zeros(nts)))\n",
    "ps = sklearn.model_selection.PredefinedSplit(test_fold)"
   ]
  },
  {
   "cell_type": "markdown",
   "metadata": {},
   "source": [
    "Now we are ready to run `GridSearchCV` and call it's `fit` method. Call `GridSearchCV` using `cv=ps` to use our test-split object. Also, use `verbose=10` to have it show progress during fitting."
   ]
  },
  {
   "cell_type": "code",
   "execution_count": 85,
   "metadata": {},
   "outputs": [
    {
     "name": "stdout",
     "output_type": "stream",
     "text": [
      "Fitting 1 folds for each of 9 candidates, totalling 9 fits\n",
      "[CV 1/1; 1/9] START C=0.1, gamma=0.001, kernel=rbf..............................\n",
      "[CV 1/1; 1/9] END C=0.1, gamma=0.001, kernel=rbf;, score=0.785 total time=  15.7s\n",
      "[CV 1/1; 2/9] START C=0.1, gamma=0.01, kernel=rbf...............................\n",
      "[CV 1/1; 2/9] END C=0.1, gamma=0.01, kernel=rbf;, score=0.594 total time=  18.9s\n",
      "[CV 1/1; 3/9] START C=0.1, gamma=0.1, kernel=rbf................................\n",
      "[CV 1/1; 3/9] END .C=0.1, gamma=0.1, kernel=rbf;, score=0.167 total time=  23.5s\n",
      "[CV 1/1; 4/9] START C=1, gamma=0.001, kernel=rbf................................\n",
      "[CV 1/1; 4/9] END .C=1, gamma=0.001, kernel=rbf;, score=0.863 total time=   9.1s\n",
      "[CV 1/1; 5/9] START C=1, gamma=0.01, kernel=rbf.................................\n",
      "[CV 1/1; 5/9] END ..C=1, gamma=0.01, kernel=rbf;, score=0.895 total time=  16.2s\n",
      "[CV 1/1; 6/9] START C=1, gamma=0.1, kernel=rbf..................................\n",
      "[CV 1/1; 6/9] END ...C=1, gamma=0.1, kernel=rbf;, score=0.211 total time=  23.6s\n",
      "[CV 1/1; 7/9] START C=10, gamma=0.001, kernel=rbf...............................\n",
      "[CV 1/1; 7/9] END C=10, gamma=0.001, kernel=rbf;, score=0.906 total time=   7.4s\n",
      "[CV 1/1; 8/9] START C=10, gamma=0.01, kernel=rbf................................\n",
      "[CV 1/1; 8/9] END .C=10, gamma=0.01, kernel=rbf;, score=0.899 total time=  16.5s\n",
      "[CV 1/1; 9/9] START C=10, gamma=0.1, kernel=rbf.................................\n",
      "[CV 1/1; 9/9] END ..C=10, gamma=0.1, kernel=rbf;, score=0.214 total time=  23.9s\n"
     ]
    },
    {
     "data": {
      "text/plain": [
       "GridSearchCV(cv=PredefinedSplit(test_fold=array([-1, -1, ...,  0,  0])),\n",
       "             estimator=SVC(),\n",
       "             param_grid={'C': [0.1, 1, 10], 'gamma': [0.001, 0.01, 0.1],\n",
       "                         'kernel': ['rbf']},\n",
       "             verbose=10)"
      ]
     },
     "execution_count": 85,
     "metadata": {},
     "output_type": "execute_result"
    }
   ],
   "source": [
    "from sklearn.model_selection import GridSearchCV\n",
    "# TODO:  Create a GridSearchCV classifier\n",
    "# C_test = [0.1, 1, 10]\n",
    "# gam_test = [0.001, 0.01, 0.1]\n",
    "# clf = ...\n",
    "C_test = [0.1, 1, 10]\n",
    "gam_test = [0.001, 0.01, 0.1]\n",
    "param_grid = {'C' : C_test, 'gamma': gam_test, 'kernel' : ['rbf']}\n",
    "clf = GridSearchCV(svm.SVC(), param_grid = param_grid, cv = ps, verbose=10)\n",
    "clf.fit(X,y)"
   ]
  },
  {
   "cell_type": "markdown",
   "metadata": {},
   "source": [
    "Print the `best_score_` and `best_params_` attributes of the classifier to find the best score and parameters"
   ]
  },
  {
   "cell_type": "code",
   "execution_count": 86,
   "metadata": {},
   "outputs": [
    {
     "name": "stdout",
     "output_type": "stream",
     "text": [
      "Best parameter: {'C': 10, 'gamma': 0.001, 'kernel': 'rbf'}\n",
      "Best score: 0.9056666666666666\n"
     ]
    }
   ],
   "source": [
    "# TODO:  Print the best parameter and score of the classifier\n",
    "print(\"Best parameter: \" + str(clf.best_params_))\n",
    "print(\"Best score: \" + str(clf.best_score_))"
   ]
  },
  {
   "cell_type": "markdown",
   "metadata": {},
   "source": [
    "Finally, print the CV test scores from `cv_results_['mean_test_score']`."
   ]
  },
  {
   "cell_type": "code",
   "execution_count": 87,
   "metadata": {},
   "outputs": [
    {
     "data": {
      "text/plain": [
       "array([0.78483333, 0.59383333, 0.16666667, 0.86333333, 0.89466667,\n",
       "       0.21116667, 0.90566667, 0.89916667, 0.21366667])"
      ]
     },
     "execution_count": 87,
     "metadata": {},
     "output_type": "execute_result"
    }
   ],
   "source": [
    "# TODO:  Print the mean test score for each parameter value.\n",
    "clf.cv_results_['mean_test_score']"
   ]
  },
  {
   "cell_type": "code",
   "execution_count": null,
   "metadata": {
    "collapsed": true,
    "jupyter": {
     "outputs_hidden": true
    }
   },
   "outputs": [],
   "source": []
  }
 ],
 "metadata": {
  "kernelspec": {
   "display_name": "Python 3 (ipykernel)",
   "language": "python",
   "name": "python3"
  },
  "language_info": {
   "codemirror_mode": {
    "name": "ipython",
    "version": 3
   },
   "file_extension": ".py",
   "mimetype": "text/x-python",
   "name": "python",
   "nbconvert_exporter": "python",
   "pygments_lexer": "ipython3",
   "version": "3.9.12"
  },
  "varInspector": {
   "cols": {
    "lenName": 16,
    "lenType": 16,
    "lenVar": 40
   },
   "kernels_config": {
    "python": {
     "delete_cmd_postfix": "",
     "delete_cmd_prefix": "del ",
     "library": "var_list.py",
     "varRefreshCmd": "print(var_dic_list())"
    },
    "r": {
     "delete_cmd_postfix": ") ",
     "delete_cmd_prefix": "rm(",
     "library": "var_list.r",
     "varRefreshCmd": "cat(var_dic_list()) "
    }
   },
   "types_to_exclude": [
    "module",
    "function",
    "builtin_function_or_method",
    "instance",
    "_Feature"
   ],
   "window_display": false
  }
 },
 "nbformat": 4,
 "nbformat_minor": 4
}
